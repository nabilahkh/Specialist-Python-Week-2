{
 "cells": [
  {
   "cell_type": "markdown",
   "id": "e2facec6",
   "metadata": {},
   "source": [
    "The random module in Python provides various functions to generate random numbers. Here are some commonly used functions in the random library:\n",
    "- random.random(): This function returns a random float number between 0.0 to 1.0"
   ]
  },
  {
   "cell_type": "code",
   "execution_count": 2,
   "id": "8ec8005a",
   "metadata": {},
   "outputs": [],
   "source": [
    "from random import randint"
   ]
  },
  {
   "cell_type": "code",
   "execution_count": 3,
   "id": "f2ea5c9a",
   "metadata": {},
   "outputs": [
    {
     "name": "stdout",
     "output_type": "stream",
     "text": [
      "Random num 0 is 1\n",
      "Random num 1 is 1\n",
      "Random num 2 is 3\n",
      "Random num 3 is 2\n",
      "Random num 4 is 5\n"
     ]
    }
   ],
   "source": [
    "for i in range(5):\n",
    "    print(f\"Random num {i} is {randint(1,5)}\")"
   ]
  },
  {
   "cell_type": "code",
   "execution_count": 5,
   "id": "fdf8b7e8",
   "metadata": {},
   "outputs": [],
   "source": [
    "import random"
   ]
  },
  {
   "cell_type": "code",
   "execution_count": 7,
   "id": "d11a9827",
   "metadata": {},
   "outputs": [
    {
     "name": "stdout",
     "output_type": "stream",
     "text": [
      "Random number 1 is 30\n",
      "Random number 2 is 54\n",
      "Random number 3 is 14\n",
      "Random number 4 is 62\n",
      "Random number 5 is 15\n"
     ]
    }
   ],
   "source": [
    "for i in range(5):\n",
    "    print(f\"Random number {i+1} is {random.randint(1, 100)}\")"
   ]
  }
 ],
 "metadata": {
  "kernelspec": {
   "display_name": "Python 3 (ipykernel)",
   "language": "python",
   "name": "python3"
  },
  "language_info": {
   "codemirror_mode": {
    "name": "ipython",
    "version": 3
   },
   "file_extension": ".py",
   "mimetype": "text/x-python",
   "name": "python",
   "nbconvert_exporter": "python",
   "pygments_lexer": "ipython3",
   "version": "3.11.7"
  }
 },
 "nbformat": 4,
 "nbformat_minor": 5
}
