{
 "cells": [
  {
   "cell_type": "markdown",
   "id": "eae74457-a163-449c-bbb9-ac6aeb1aac24",
   "metadata": {},
   "source": [
    "# Random Library"
   ]
  },
  {
   "cell_type": "markdown",
   "id": "abba2f58-5915-4742-9899-7083318e04c1",
   "metadata": {},
   "source": [
    "The random module in Python provides various functions to generate random numbers. Here are some commonly used functions in the random library:\r",
    "  - \r\n",
    "random.random(): This function returns a random float number between 0.0 to 1.0."
   ]
  },
  {
   "cell_type": "code",
   "execution_count": 1,
   "id": "c7f97dc8-dc75-4687-a906-c675d5c63a1c",
   "metadata": {},
   "outputs": [],
   "source": [
    "from random import randint"
   ]
  },
  {
   "cell_type": "code",
   "execution_count": 3,
   "id": "542fa3b4-169b-4943-9536-cf8199069728",
   "metadata": {},
   "outputs": [
    {
     "name": "stdout",
     "output_type": "stream",
     "text": [
      "Random num 0 is 3\n",
      "Random num 1 is 5\n",
      "Random num 2 is 4\n",
      "Random num 3 is 7\n",
      "Random num 4 is 3\n",
      "Random num 5 is 2\n",
      "Random num 6 is 7\n",
      "Random num 7 is 3\n",
      "Random num 8 is 4\n",
      "Random num 9 is 2\n"
     ]
    }
   ],
   "source": [
    "for i in range(10):\n",
    "    print(f\"Random num {i} is {randint(1,10)}\")"
   ]
  },
  {
   "cell_type": "markdown",
   "id": "5e60b88f-13fd-4218-a76f-d4785647a7f4",
   "metadata": {},
   "source": [
    "//Task"
   ]
  },
  {
   "cell_type": "code",
   "execution_count": 4,
   "id": "2e42254a-4b1b-4772-8896-3b0977a92ab6",
   "metadata": {},
   "outputs": [
    {
     "name": "stdout",
     "output_type": "stream",
     "text": [
      "Random num 0 is 63\n",
      "Random num 1 is 68\n",
      "Random num 2 is 60\n",
      "Random num 3 is 59\n",
      "Random num 4 is 50\n",
      "Random num 5 is 68\n",
      "Random num 6 is 63\n",
      "Random num 7 is 61\n",
      "Random num 8 is 67\n",
      "Random num 9 is 64\n",
      "Random num 10 is 70\n",
      "Random num 11 is 50\n",
      "Random num 12 is 63\n",
      "Random num 13 is 59\n",
      "Random num 14 is 52\n"
     ]
    }
   ],
   "source": [
    "for a in range(15):\n",
    "    print(f\"Random num {a} is {randint(50,70)}\")"
   ]
  },
  {
   "cell_type": "code",
   "execution_count": 11,
   "id": "fcd11ff9-5473-4d0e-bba4-1fd0e04bb8e0",
   "metadata": {},
   "outputs": [
    {
     "name": "stdout",
     "output_type": "stream",
     "text": [
      "Bilangan acak:  8\n"
     ]
    }
   ],
   "source": [
    "# Mendapatkan bilangan acak antara 1 dan 10\n",
    "bilangan_acak = random.randint(1, 10)\n",
    "print(\"Bilangan acak: \", bilangan_acak)"
   ]
  }
 ],
 "metadata": {
  "kernelspec": {
   "display_name": "Python 3 (ipykernel)",
   "language": "python",
   "name": "python3"
  },
  "language_info": {
   "codemirror_mode": {
    "name": "ipython",
    "version": 3
   },
   "file_extension": ".py",
   "mimetype": "text/x-python",
   "name": "python",
   "nbconvert_exporter": "python",
   "pygments_lexer": "ipython3",
   "version": "3.11.7"
  }
 },
 "nbformat": 4,
 "nbformat_minor": 5
}
