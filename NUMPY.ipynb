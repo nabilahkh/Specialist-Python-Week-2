{
 "cells": [
  {
   "cell_type": "markdown",
   "id": "8d2eb8d3",
   "metadata": {},
   "source": [
    "### NUMPY\n",
    "One of the most frequently used packages in data science and scientific computing is NumPy, as it provides efficient array data structures and a variety of powerful mathematical functions.\n",
    "\n",
    "First, the code imports NumPy using the statement \"import numpy as np\". This gives us access to all the functions and objects contained within the NumPy package. Then, we print the version of NumPy being used with \"print(np.version)\"."
   ]
  },
  {
   "cell_type": "code",
   "execution_count": 1,
   "id": "5c108ff2",
   "metadata": {},
   "outputs": [],
   "source": [
    "# Import NumPy\n",
    "import numpy as np"
   ]
  },
  {
   "cell_type": "code",
   "execution_count": 2,
   "id": "1754c077",
   "metadata": {},
   "outputs": [
    {
     "name": "stdout",
     "output_type": "stream",
     "text": [
      "1.26.4\n"
     ]
    }
   ],
   "source": [
    "# Checking Numpy Version\n",
    "print(np.__version__)"
   ]
  },
  {
   "cell_type": "markdown",
   "id": "4c4d096d",
   "metadata": {},
   "source": [
    "Next, we create a NumPy array using the np.array() function. We can pass a list [1,2,3,4,5] or a tuple (1,2,3,4,5) as arguments. This generates a one-dimensional array with elements matching the elements of the given list or tuple.\n",
    "\n",
    "Then, we print the created array with \"print(arr)\" and print the data type of the array with \"print(type(arr))\". The result indicates that the created array is a numpy.ndarray object, which is a special data type provided by NumPy to represent multidimensional arrays."
   ]
  },
  {
   "cell_type": "code",
   "execution_count": 3,
   "id": "f203e455",
   "metadata": {},
   "outputs": [
    {
     "name": "stdout",
     "output_type": "stream",
     "text": [
      "[10 20 30 40 50]\n"
     ]
    }
   ],
   "source": [
    "# Creating a NumPy array\n",
    "list_example = [10, 20, 30, 40, 50]\n",
    "numpy_array_from_list = np.array(list_example)\n",
    "print(numpy_array_from_list)"
   ]
  },
  {
   "cell_type": "code",
   "execution_count": 4,
   "id": "2cfc2030",
   "metadata": {},
   "outputs": [
    {
     "name": "stdout",
     "output_type": "stream",
     "text": [
      "[ 60  70  80  90 100]\n"
     ]
    }
   ],
   "source": [
    "# Use a tuple to create a NumPy array\n",
    "tuple_example = (60, 70, 80, 90, 100)\n",
    "numpy_array_from_tuple = np.array(tuple_example)\n",
    "print(numpy_array_from_tuple)"
   ]
  },
  {
   "cell_type": "code",
   "execution_count": 5,
   "id": "96b0cec3",
   "metadata": {},
   "outputs": [
    {
     "name": "stdout",
     "output_type": "stream",
     "text": [
      "<class 'numpy.ndarray'>\n",
      "<class 'numpy.ndarray'>\n"
     ]
    }
   ],
   "source": [
    "print(type(numpy_array_from_list))\n",
    "print(type(numpy_array_from_tuple))"
   ]
  },
  {
   "cell_type": "markdown",
   "id": "fd9a58c2",
   "metadata": {},
   "source": [
    "#### DIMENSION\n",
    "- The dimension in NumPy refers to the number of indices required to refer to an element in the array\n",
    "##### Dimension in Arrays\n",
    "- A dimension in arrays is one level of array depth(inested arrays)"
   ]
  },
  {
   "cell_type": "code",
   "execution_count": 6,
   "id": "c6d9786d",
   "metadata": {},
   "outputs": [
    {
     "name": "stdout",
     "output_type": "stream",
     "text": [
      "21\n"
     ]
    }
   ],
   "source": [
    "# 0-D Arrays\n",
    "arr = np.array(21)\n",
    "\n",
    "print(arr)"
   ]
  },
  {
   "cell_type": "code",
   "execution_count": 7,
   "id": "3eb2d8ea",
   "metadata": {},
   "outputs": [
    {
     "name": "stdout",
     "output_type": "stream",
     "text": [
      "[20 21 22 23 24 25]\n"
     ]
    }
   ],
   "source": [
    "# Create a 1-D array\n",
    "arr = np.array([20,21,22,23,24,25])\n",
    "print(arr)"
   ]
  },
  {
   "cell_type": "code",
   "execution_count": 8,
   "id": "b2b60898",
   "metadata": {},
   "outputs": [
    {
     "name": "stdout",
     "output_type": "stream",
     "text": [
      "[[20 21 22]\n",
      " [23 24 25]\n",
      " [26 27 28]]\n"
     ]
    }
   ],
   "source": [
    "# Create a 2-D array containing two arrays\n",
    "arr = np.array([[20,21,22], [23,24,25], [26,27,28]])\n",
    "print(arr)"
   ]
  },
  {
   "cell_type": "code",
   "execution_count": 9,
   "id": "90402d58",
   "metadata": {},
   "outputs": [
    {
     "name": "stdout",
     "output_type": "stream",
     "text": [
      "[[[20 21 22]\n",
      "  [23 24 25]]\n",
      "\n",
      " [[20 21 22]\n",
      "  [23 24 25]]]\n"
     ]
    }
   ],
   "source": [
    "# Create a 3-D array with two 2-D arrays, both containing two arrays\n",
    "arr = np.array([[[20,21,22], [23,24,25]], [[20,21,22], [23,24,25]]])\n",
    "print(arr)"
   ]
  },
  {
   "cell_type": "code",
   "execution_count": 10,
   "id": "e3af58ba",
   "metadata": {},
   "outputs": [
    {
     "name": "stdout",
     "output_type": "stream",
     "text": [
      "0\n",
      "1\n",
      "2\n",
      "3\n"
     ]
    }
   ],
   "source": [
    "# Check how many dimensions the arrays have\n",
    "a = np.array(21)\n",
    "b = np.array([20,21,22,23,24,25])\n",
    "c = np.array([[20,21,22],[23,24,25]])\n",
    "d = np.array([[[20,21,22], [23,24,25]], [[20,21,22], [23,24,25]]])\n",
    "\n",
    "print(a.ndim)\n",
    "print(b.ndim)\n",
    "print(c.ndim)\n",
    "print(d.ndim)"
   ]
  },
  {
   "cell_type": "markdown",
   "id": "68e2eebc",
   "metadata": {},
   "source": [
    "#### Transforming Dimensions: Converting One Dimension to Another\n",
    "Transforming one dimension into another dimension in NumPy involves modifying the shape or structure of an array, converting it from one dimension to a different dimension."
   ]
  },
  {
   "cell_type": "code",
   "execution_count": 11,
   "id": "b74e8b55",
   "metadata": {},
   "outputs": [
    {
     "name": "stdout",
     "output_type": "stream",
     "text": [
      "Five-dimensional array:\n",
      "[[[[['Apple' 'Orange' 'Banana' 'Mango' 'Grape']]]]]\n",
      "[[[['Apple' 'Orange' 'Banana' 'Mango' 'Grape']]]]\n"
     ]
    }
   ],
   "source": [
    "# Create an array with 5 dimensions and verify that it has 5 dimensions\n",
    "fruits = np.array(['Apple', 'Orange', 'Banana', 'Mango', 'Grape'], ndmin=5)\n",
    "\n",
    "print(\"Five-dimensional array:\")\n",
    "print(fruits)\n",
    "print(fruits[0])"
   ]
  },
  {
   "cell_type": "code",
   "execution_count": 12,
   "id": "46f6d6b2",
   "metadata": {},
   "outputs": [
    {
     "name": "stdout",
     "output_type": "stream",
     "text": [
      "Apple\n"
     ]
    }
   ],
   "source": [
    "# Get the first element from the following array\n",
    "fruits = np.array(['Apple', 'Orange', 'Banana', 'Mango', 'Grape'])\n",
    "print(fruits[0])"
   ]
  },
  {
   "cell_type": "code",
   "execution_count": 13,
   "id": "1b90761d",
   "metadata": {},
   "outputs": [
    {
     "name": "stdout",
     "output_type": "stream",
     "text": [
      "Orange\n"
     ]
    }
   ],
   "source": [
    "# Get the second element from the following array\n",
    "fruits = np.array(['Apple', 'Orange', 'Banana', 'Mango', 'Grape'])\n",
    "print(fruits[1])"
   ]
  },
  {
   "cell_type": "code",
   "execution_count": 14,
   "id": "e947958b",
   "metadata": {},
   "outputs": [
    {
     "name": "stdout",
     "output_type": "stream",
     "text": [
      "BananaandMango\n"
     ]
    }
   ],
   "source": [
    "# Get third and fourth elements from the following arrays and add them\n",
    "fruits = np.array(['Apple', 'Orange', 'Banana', 'Mango', 'Grape'])\n",
    "print(fruits[2] + \"and\" + fruits[3])"
   ]
  },
  {
   "cell_type": "code",
   "execution_count": 15,
   "id": "33a035fd",
   "metadata": {},
   "outputs": [
    {
     "name": "stdout",
     "output_type": "stream",
     "text": [
      "2nd element on 1st row:  Orange\n"
     ]
    }
   ],
   "source": [
    "# Access the element on the 2nd row, 5th column\n",
    "fruits_2 = np.array([['Apple', 'Orange', 'Banana','Durian', 'Guava'], ['Mango', 'Grape','Avocado','Snake fruit','Lychee']])\n",
    "print('2nd element on 1st row: ', fruits_2[0,1])"
   ]
  },
  {
   "cell_type": "code",
   "execution_count": 16,
   "id": "6de16eeb",
   "metadata": {},
   "outputs": [
    {
     "name": "stdout",
     "output_type": "stream",
     "text": [
      "5th element on 2nd row:  Lychee\n"
     ]
    }
   ],
   "source": [
    "# Access the element on the 2nd row, 5th column\n",
    "fruits_2 = np.array([['Apple', 'Orange', 'Banana','Durian', 'Guava'], ['Mango', 'Grape','Avocado','Snake fruit','Lychee']])\n",
    "print('5th element on 2nd row: ', fruits_2[1,4]) #[row,element]"
   ]
  },
  {
   "cell_type": "code",
   "execution_count": 18,
   "id": "d82a12f2",
   "metadata": {},
   "outputs": [
    {
     "name": "stdout",
     "output_type": "stream",
     "text": [
      "Avocado\n"
     ]
    }
   ],
   "source": [
    "# Access the third element od the second array of the first array\n",
    "fruits_2 = np.array([[['Apple', 'Orange', 'Banana',],['Durian','Guava','Watermelon']], [['Mango', 'Grape','Avocado'],['Snake fruit','Lychee','Pineapple']]])\n",
    "print(fruits_2[1, 0, 2])  #[dim,row,elemen]"
   ]
  },
  {
   "cell_type": "markdown",
   "id": "6efcad62",
   "metadata": {},
   "source": [
    "###### TASK"
   ]
  },
  {
   "cell_type": "code",
   "execution_count": 19,
   "id": "58db78b8",
   "metadata": {},
   "outputs": [],
   "source": [
    "# Create a four-dimensional array with fruit names\n",
    "fruit_4d = np.array([[[['Apple', 'Orange'], ['Banana', 'Mango']], [['Grape', 'Strawberry'], ['Pineapple', 'Watermelon']]],\n",
    "                    [[['Durian', 'Guava'], ['Avocado', 'Snake fruit']], [['Lychee', 'Papaya'], ['Melon', 'Kiwi']]]])"
   ]
  },
  {
   "cell_type": "code",
   "execution_count": 20,
   "id": "db85b0c0",
   "metadata": {},
   "outputs": [
    {
     "name": "stdout",
     "output_type": "stream",
     "text": [
      "Array dimensions: (2, 2, 2, 2)\n"
     ]
    }
   ],
   "source": [
    "# Display the dimensions, rows, and elements\n",
    "dimensions = fruit_4d.shape\n",
    "print(\"Array dimensions:\", dimensions)"
   ]
  },
  {
   "cell_type": "code",
   "execution_count": 21,
   "id": "24d6f831",
   "metadata": {},
   "outputs": [
    {
     "name": "stdout",
     "output_type": "stream",
     "text": [
      "Element at dimension 1, row 0, and element 0: Apple\n"
     ]
    }
   ],
   "source": [
    "# Retrieve the element at dimension 1, row 0, and element 0\n",
    "element = fruit_4d[0, 0, 0, 0]\n",
    "print(\"Element at dimension 1, row 0, and element 0:\", element)"
   ]
  },
  {
   "cell_type": "code",
   "execution_count": 22,
   "id": "774c1e05",
   "metadata": {},
   "outputs": [
    {
     "name": "stdout",
     "output_type": "stream",
     "text": [
      "Avocado\n"
     ]
    }
   ],
   "source": [
    "fruit_names = np.array([[[['Apple', 'Orange'], ['Banana', 'Mango']],\n",
    "                  [['Grape', 'Strawberry'], ['Pineapple', 'Watermelon']]],\n",
    "                  [[['Durian', 'Guava'], ['Avocado', 'Snake fruit']],\n",
    "                  [['Lychee', 'Papaya'], ['Melon', 'Kiwi']]]])\n",
    "\n",
    "print(fruit_names[1,0,1,0])"
   ]
  },
  {
   "cell_type": "markdown",
   "id": "e4152760",
   "metadata": {},
   "source": [
    "- 1 in the first dimension: Selects the second element in the first dimension, which is [[['Durian', 'Guava'], ['Avocado', 'Snake fruit']], [['Lychee', 'Papaya'], ['Melon', 'Kiwi']]].\n",
    "- 0 in the second dimension: Selects the first row in the second dimension, which is [['Durian', 'Guava'], ['Avocado', 'Snake fruit']].\n",
    "- 1 in the third dimension: Selects the second element in that row, which is ['Avocado', 'Snake fruit'].\n",
    "- 0 in the fourth dimension: Selects the first element in that row, which is 'Avocado'."
   ]
  }
 ],
 "metadata": {
  "kernelspec": {
   "display_name": "Python 3 (ipykernel)",
   "language": "python",
   "name": "python3"
  },
  "language_info": {
   "codemirror_mode": {
    "name": "ipython",
    "version": 3
   },
   "file_extension": ".py",
   "mimetype": "text/x-python",
   "name": "python",
   "nbconvert_exporter": "python",
   "pygments_lexer": "ipython3",
   "version": "3.11.7"
  }
 },
 "nbformat": 4,
 "nbformat_minor": 5
}
