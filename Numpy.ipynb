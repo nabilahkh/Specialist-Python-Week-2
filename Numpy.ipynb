{
 "cells": [
  {
   "cell_type": "markdown",
   "id": "bedfb8ab-8141-465e-b6f6-13aded65d423",
   "metadata": {},
   "source": [
    "# NumPy"
   ]
  },
  {
   "cell_type": "raw",
   "id": "a2a527c4-a3f5-45d8-9037-b199cc95cfa3",
   "metadata": {},
   "source": [
    "NumPy is a Python library used for working with arrays. It also has functions for working in the domain of linear algebra, fourier transform, and matrices. NumPy was created in 2005 by Travis Oliphant. It is an open source project and you can use it freely. NumPy stands for Numerical Python.\n",
    "\n",
    "At the core of the NumPy package, is the ndarray object. This encapsulates n-dimensional arrays of homogeneous data types, with many operations being performed in compiled code for performance. There are several important differences between NumPy arrays and the standard Python sequences:\n",
    "1. NumPy arrays have a fixed size at creation, unlike Python lists. Changing the size of an ndarray will create a new array and delete the original.\n",
    "2. The elements in a NumPy array are all required to be of the same data type, and thus will be the same size in memory.\n"
   ]
  },
  {
   "cell_type": "code",
   "execution_count": 15,
   "id": "b261cfb3-2159-43b3-81e2-77aca433a0fb",
   "metadata": {},
   "outputs": [],
   "source": [
    "# 1. Import NumPy\n",
    "\n",
    "import numpy as np"
   ]
  },
  {
   "cell_type": "raw",
   "id": "c7f5d440-57ce-472d-be25-67570e249fd1",
   "metadata": {},
   "source": [
    "The “import numpy as np” statement is used to import the NumPy library into Python, allowing you to use its functions for numerical calculations and array manipulations."
   ]
  },
  {
   "cell_type": "code",
   "execution_count": 16,
   "id": "f00d72cd-fab7-4b21-855e-63d2f879c0ce",
   "metadata": {},
   "outputs": [
    {
     "name": "stdout",
     "output_type": "stream",
     "text": [
      "1.26.4\n"
     ]
    }
   ],
   "source": [
    "# 2. Checking NumPy Version\n",
    "\n",
    "print(np.__version__)"
   ]
  },
  {
   "cell_type": "raw",
   "id": "a7068f21-40ba-4996-a535-224634e690bf",
   "metadata": {},
   "source": [
    "The “print(np.version)\" syntax is used to determine the installed version of NumPy in Python."
   ]
  },
  {
   "cell_type": "code",
   "execution_count": 17,
   "id": "56c6697e-6fc8-4755-af9e-b88e51fc8767",
   "metadata": {},
   "outputs": [],
   "source": [
    "# 3. Creating a NumPy Array"
   ]
  },
  {
   "cell_type": "raw",
   "id": "f38fc0f8-4c91-4f5a-9eda-673d1d3f9b84",
   "metadata": {},
   "source": [
    "To create an ndarray, we can pass a list, tuple or any array-like object into the array() method, and it will be converted into an ndarray.\n",
    "\n",
    "The syntax used to create a NumPy array from a list or tuple is the same, the only difference being the use of square brackets for a list [ ] and parentheses for a tuple ()."
   ]
  },
  {
   "cell_type": "code",
   "execution_count": 10,
   "id": "c050c39a-f637-4c58-91d0-3343b4070e4b",
   "metadata": {},
   "outputs": [
    {
     "name": "stdout",
     "output_type": "stream",
     "text": [
      "[ 2  4  6  8 10]\n"
     ]
    }
   ],
   "source": [
    "# creating numpy array from list\n",
    "\n",
    "arr = np.array([2, 4, 6, 8, 10])\n",
    "print(arr)"
   ]
  },
  {
   "cell_type": "code",
   "execution_count": 13,
   "id": "2d5ca14c-b818-40e4-8be5-58400b25ec35",
   "metadata": {},
   "outputs": [
    {
     "name": "stdout",
     "output_type": "stream",
     "text": [
      "[ 2  4  6  8 10]\n",
      "<class 'numpy.ndarray'>\n"
     ]
    }
   ],
   "source": [
    "# checking the data type of arr\n",
    "\n",
    "arr = np.array([2, 4, 6, 8, 10]) #LIST\n",
    "\n",
    "print(arr)\n",
    "\n",
    "print(type(arr))"
   ]
  },
  {
   "cell_type": "code",
   "execution_count": 12,
   "id": "98e4ecf1-3fc2-4e16-9d70-9965552aef6e",
   "metadata": {},
   "outputs": [
    {
     "name": "stdout",
     "output_type": "stream",
     "text": [
      "[ 2  4  6  8 10]\n"
     ]
    }
   ],
   "source": [
    "# creating numpy array from Tuple\n",
    "\n",
    "arr = np.array((2, 4, 6, 8, 10)) #TUPLE\n",
    "\n",
    "print(arr)"
   ]
  },
  {
   "cell_type": "code",
   "execution_count": 14,
   "id": "66acb2b8-7dce-45a0-ba22-0d6fd931c9a1",
   "metadata": {},
   "outputs": [
    {
     "name": "stdout",
     "output_type": "stream",
     "text": [
      "[ 2  4  6  8 10]\n",
      "<class 'numpy.ndarray'>\n"
     ]
    }
   ],
   "source": [
    "# checking the data type of arr\n",
    "\n",
    "arr = np.array((2, 4, 6, 8, 10)) #TUPLE\n",
    "\n",
    "print(arr)\n",
    "\n",
    "print(type(arr))"
   ]
  },
  {
   "cell_type": "code",
   "execution_count": null,
   "id": "c3bad6a9-c07c-46e7-8d15-3bb561147305",
   "metadata": {},
   "outputs": [],
   "source": [
    "# 4. Creating an array with specific dimensions"
   ]
  },
  {
   "cell_type": "raw",
   "id": "bb11f3e9-0613-4a1b-a764-da575610a5eb",
   "metadata": {},
   "source": [
    "0 dimension: 0D array is an array that has no dimension or also referred to as a scalar. It is an array with shape () (empty parentheses)"
   ]
  },
  {
   "cell_type": "code",
   "execution_count": 19,
   "id": "c19bd4da-30eb-43fa-ad5a-845ad68a6641",
   "metadata": {},
   "outputs": [
    {
     "name": "stdout",
     "output_type": "stream",
     "text": [
      "3\n"
     ]
    }
   ],
   "source": [
    "# 0 Dimension\n",
    "\n",
    "arr = np.array(3)\n",
    "\n",
    "print(arr)"
   ]
  },
  {
   "cell_type": "raw",
   "id": "c12b4d3f-5c39-4416-afc6-5d89dfee93c4",
   "metadata": {},
   "source": [
    "1 dimension: 1D arrays in NumPy are essentially like lists in Python. They are sequences of elements arranged in a single line."
   ]
  },
  {
   "cell_type": "code",
   "execution_count": 20,
   "id": "84ff433c-83ff-429d-8501-9ccff97558b4",
   "metadata": {},
   "outputs": [
    {
     "name": "stdout",
     "output_type": "stream",
     "text": [
      "['apple' 'banana' 'cherry']\n"
     ]
    }
   ],
   "source": [
    "# 1 Dimension\n",
    "\n",
    "arr = np.array(['apple', 'banana', 'cherry'])\n",
    "\n",
    "print(arr)"
   ]
  },
  {
   "cell_type": "raw",
   "id": "c0c2381b-3caf-4e84-9a8a-448ae76f966e",
   "metadata": {},
   "source": [
    "2 Dimension: 2D arrays in NumPy are like matrices. They have rows and columns, arranged in a grid format."
   ]
  },
  {
   "cell_type": "code",
   "execution_count": 21,
   "id": "2af3c0c8-2eac-43df-a496-1b4d982a4408",
   "metadata": {},
   "outputs": [
    {
     "name": "stdout",
     "output_type": "stream",
     "text": [
      "[['apple' 'banana' 'cherry']\n",
      " ['1' '2' '3']]\n"
     ]
    }
   ],
   "source": [
    "# 2 Dimension\n",
    "\n",
    "arr = np.array([['apple', 'banana', 'cherry'], [1, 2, 3]])\n",
    "\n",
    "print(arr)"
   ]
  },
  {
   "cell_type": "raw",
   "id": "2f64d4ca-f91c-4c3a-83d7-2a1f9cd8a9d0",
   "metadata": {},
   "source": [
    "Creating a 3-dimensional array with two 2-dimensional arrays, both containing two arrays, can be achieved using NumPy as follows:"
   ]
  },
  {
   "cell_type": "code",
   "execution_count": 22,
   "id": "9e553446-58b1-4d3e-b6e5-e3d64322814a",
   "metadata": {},
   "outputs": [
    {
     "name": "stdout",
     "output_type": "stream",
     "text": [
      "[[['apple' 'banana' 'cherry']\n",
      "  ['1' '2' '3']]\n",
      "\n",
      " [['apple' 'banana' 'cherry']\n",
      "  ['1' '2' '3']]]\n"
     ]
    }
   ],
   "source": [
    "# 3 Dimension\n",
    "\n",
    "arr = np.array([[['apple', 'banana', 'cherry'], [1, 2, 3]], [['apple', 'banana', 'cherry'], [1, 2, 3]]])\n",
    "\n",
    "print(arr)"
   ]
  },
  {
   "cell_type": "code",
   "execution_count": 23,
   "id": "7a5520c9-7b18-4bce-bd82-17efc444c3aa",
   "metadata": {},
   "outputs": [],
   "source": [
    "#  5. Check how many dimensions the arrays have"
   ]
  },
  {
   "cell_type": "code",
   "execution_count": 24,
   "id": "c9f5081d-517b-44c1-b206-2e674cb28340",
   "metadata": {},
   "outputs": [
    {
     "name": "stdout",
     "output_type": "stream",
     "text": [
      "1\n",
      "0\n",
      "2\n",
      "3\n"
     ]
    }
   ],
   "source": [
    "a = np.array(['apple', 'banana', 'cherry'])\n",
    "b = np.array(3)\n",
    "c = np.array([['apple', 'banana', 'cherry'], [1, 2, 3]])\n",
    "d = np.array([[['apple', 'banana', 'cherry'], [1, 2, 3]], [['apple', 'banana', 'cherry'], [1, 2, 3]]])\n",
    "\n",
    "print(a.ndim)\n",
    "print(b.ndim)\n",
    "print(c.ndim)\n",
    "print(d.ndim)"
   ]
  },
  {
   "cell_type": "raw",
   "id": "64c80a2d-c694-424c-87a3-f8d0537f4423",
   "metadata": {},
   "source": [
    "The \"a = np.array\" syntax is used to store an array variable into the NumPy library.\n",
    "\n",
    "The \"print(a.ndim)\" syntax is used to provide feedback by displaying dimensional information to the user."
   ]
  },
  {
   "cell_type": "code",
   "execution_count": 26,
   "id": "023edba9-3cee-44fc-887d-2322455c0b0a",
   "metadata": {},
   "outputs": [],
   "source": [
    "# 6. Changing one dimension to another"
   ]
  },
  {
   "cell_type": "code",
   "execution_count": 27,
   "id": "b531f6a6-50af-4993-8544-f32bdeb85484",
   "metadata": {},
   "outputs": [
    {
     "name": "stdout",
     "output_type": "stream",
     "text": [
      "[[[ 2  4  6  8 10]]]\n",
      "number of dimension : 3\n",
      "[[ 2  4  6  8 10]]\n"
     ]
    }
   ],
   "source": [
    "arr_1 = np.array([2, 4, 6, 8, 10], ndmin=3)\n",
    "\n",
    "print(arr_1)\n",
    "print('number of dimension :', arr_1.ndim)\n",
    "print(arr_1[0])"
   ]
  },
  {
   "cell_type": "raw",
   "id": "299a3b7c-1346-47e5-bf44-14fe45b4cbda",
   "metadata": {},
   "source": [
    "The syntax \"ndmin=3\" is used to reshape the dimension created into the third dimension."
   ]
  },
  {
   "cell_type": "code",
   "execution_count": 28,
   "id": "59768232-e6a4-4e9a-9602-66c4876f92b6",
   "metadata": {},
   "outputs": [],
   "source": [
    "# 7. Get the results of the desired elements of the following array"
   ]
  },
  {
   "cell_type": "code",
   "execution_count": 29,
   "id": "a2549da0-6e49-4afc-ac77-3bc6230f6aab",
   "metadata": {},
   "outputs": [
    {
     "name": "stdout",
     "output_type": "stream",
     "text": [
      "2\n"
     ]
    }
   ],
   "source": [
    "# Get the first element from the following array\n",
    "\n",
    "arr = np.array([2, 4, 6, 8,10])\n",
    "\n",
    "print(arr[0])"
   ]
  },
  {
   "cell_type": "code",
   "execution_count": 30,
   "id": "fb1ba088-01b5-43b2-907d-93d91d56a675",
   "metadata": {},
   "outputs": [
    {
     "name": "stdout",
     "output_type": "stream",
     "text": [
      "8\n"
     ]
    }
   ],
   "source": [
    "# Get the fourth element from the following array\n",
    "\n",
    "arr = np.array([2, 4, 6, 8,10])\n",
    "\n",
    "print(arr[3])"
   ]
  },
  {
   "cell_type": "raw",
   "id": "3e560f75-6c7a-41b2-ad8d-f2d501770a0f",
   "metadata": {},
   "source": [
    "To retrieve the first element, you use [0] because the indexing of elements starts from 0, then 1, 2, 3, etc."
   ]
  },
  {
   "cell_type": "code",
   "execution_count": 31,
   "id": "a475cb6a-36de-44bd-a85f-dd8c33407bbe",
   "metadata": {},
   "outputs": [
    {
     "name": "stdout",
     "output_type": "stream",
     "text": [
      "0.3333333333333333\n"
     ]
    }
   ],
   "source": [
    "# Get the first and third element from the following array\n",
    "\n",
    "arr = np.array([2, 4, 6, 8,10])\n",
    "\n",
    "print(arr[0] / arr[2])"
   ]
  },
  {
   "cell_type": "raw",
   "id": "7f5a643c-8255-4c55-87f0-c877e5d32774",
   "metadata": {},
   "source": [
    "The \"(arr[2] + arr[3])\" syntax is used to find two elements, namely the third element and the fourth element."
   ]
  },
  {
   "cell_type": "code",
   "execution_count": 32,
   "id": "9fffc914-6d16-4f51-85b3-eb1a660d9294",
   "metadata": {},
   "outputs": [],
   "source": [
    "# 8. Accessing elements from a specified array."
   ]
  },
  {
   "cell_type": "code",
   "execution_count": 33,
   "id": "17223ce6-7206-4ec8-bffe-a67d8e746ee4",
   "metadata": {},
   "outputs": [
    {
     "name": "stdout",
     "output_type": "stream",
     "text": [
      "4\n",
      "Alpukat\n"
     ]
    }
   ],
   "source": [
    "# Accessing elements using the fourth dimension\n",
    "\n",
    "fruits = np.array([[[['Apel', 'Jeruk'], ['Pisang', 'Mangga']], [['Anggur', 'Strawberry'], ['Nanas', 'Semangka']]],\n",
    "                   [[['Durian', 'Jambu'], ['Alpukat', 'Salak']], [['Leci', 'Pepaya'], ['Melon', 'Kiwi']]]])\n",
    "\n",
    "print(fruits.ndim)\n",
    "print(fruits[1,0,1,0])"
   ]
  },
  {
   "cell_type": "raw",
   "id": "5e15649b-fe3c-43fd-bf56-cf5ce7da6456",
   "metadata": {},
   "source": [
    "fruits[1,0,1,0] returns the value 'Alpukat', because it is the first element (index 0) in the list of fruits at index position 1 within the first list of fruits at index position 0 within the list of fruits at index position 1"
   ]
  }
 ],
 "metadata": {
  "kernelspec": {
   "display_name": "Python 3 (ipykernel)",
   "language": "python",
   "name": "python3"
  },
  "language_info": {
   "codemirror_mode": {
    "name": "ipython",
    "version": 3
   },
   "file_extension": ".py",
   "mimetype": "text/x-python",
   "name": "python",
   "nbconvert_exporter": "python",
   "pygments_lexer": "ipython3",
   "version": "3.11.7"
  }
 },
 "nbformat": 4,
 "nbformat_minor": 5
}
