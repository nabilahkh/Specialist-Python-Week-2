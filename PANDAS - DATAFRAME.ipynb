{
 "cells": [
  {
   "cell_type": "markdown",
   "id": "7e26e6ce",
   "metadata": {},
   "source": [
    "### DataFrame\n",
    "\n",
    "Pandas introduces the DataFrame data structure, which is a two-dimensional tabular data structure with labeled axes (rows and columns). This allows for easy manipulation and analysis of data.\n",
    "\n",
    "A DataFrame is a collection of Series, with at least one Series."
   ]
  },
  {
   "cell_type": "code",
   "execution_count": 4,
   "id": "517c56ad",
   "metadata": {},
   "outputs": [],
   "source": [
    "import pandas as pd"
   ]
  },
  {
   "cell_type": "markdown",
   "id": "87171611",
   "metadata": {},
   "source": [
    "#### From previous PANDAS-SERIES"
   ]
  },
  {
   "cell_type": "code",
   "execution_count": 5,
   "id": "0e5993c6",
   "metadata": {},
   "outputs": [],
   "source": [
    "personal_information = {'Name': 'Ageng',\n",
    "                        'Age': 24,\n",
    "                        'Occupation':'Lecturer',\n",
    "                        'City': 'Yogyakarta',\n",
    "                        'Address': 'Jl. Merdeka No.1'}"
   ]
  },
  {
   "cell_type": "code",
   "execution_count": 6,
   "id": "3101f081",
   "metadata": {},
   "outputs": [
    {
     "data": {
      "text/plain": [
       "{'Name': 'Ageng',\n",
       " 'Age': 24,\n",
       " 'Occupation': 'Lecturer',\n",
       " 'City': 'Yogyakarta',\n",
       " 'Address': 'Jl. Merdeka No.1'}"
      ]
     },
     "execution_count": 6,
     "metadata": {},
     "output_type": "execute_result"
    }
   ],
   "source": [
    "personal_information"
   ]
  },
  {
   "cell_type": "code",
   "execution_count": 7,
   "id": "c627c03c",
   "metadata": {},
   "outputs": [],
   "source": [
    "#Transforming a dictionary into a series.\n",
    "\n",
    "information = pd.Series(personal_information)"
   ]
  },
  {
   "cell_type": "code",
   "execution_count": 8,
   "id": "599a2999",
   "metadata": {},
   "outputs": [
    {
     "data": {
      "text/plain": [
       "Name                     Ageng\n",
       "Age                         24\n",
       "Occupation            Lecturer\n",
       "City                Yogyakarta\n",
       "Address       Jl. Merdeka No.1\n",
       "dtype: object"
      ]
     },
     "execution_count": 8,
     "metadata": {},
     "output_type": "execute_result"
    }
   ],
   "source": [
    "information"
   ]
  },
  {
   "cell_type": "code",
   "execution_count": 9,
   "id": "de42c903",
   "metadata": {},
   "outputs": [
    {
     "data": {
      "text/plain": [
       "'Ageng'"
      ]
     },
     "execution_count": 9,
     "metadata": {},
     "output_type": "execute_result"
    }
   ],
   "source": [
    "information.loc['Name']"
   ]
  },
  {
   "cell_type": "code",
   "execution_count": 10,
   "id": "0c5c65e7",
   "metadata": {},
   "outputs": [
    {
     "data": {
      "text/plain": [
       "24"
      ]
     },
     "execution_count": 10,
     "metadata": {},
     "output_type": "execute_result"
    }
   ],
   "source": [
    "information.iloc[1]"
   ]
  },
  {
   "cell_type": "code",
   "execution_count": 11,
   "id": "06c619ad",
   "metadata": {},
   "outputs": [],
   "source": [
    "additional_information = {'Name': 'Anna',\n",
    "                          'Age': 25,\n",
    "                          'Occupation': 'Designer',\n",
    "                          'City': 'Jakarta',\n",
    "                          'Address': 'Jl. Sultan Agung No. 2'}"
   ]
  },
  {
   "cell_type": "code",
   "execution_count": 12,
   "id": "634f9a74",
   "metadata": {},
   "outputs": [],
   "source": [
    "additional_information = pd.Series(additional_information)"
   ]
  },
  {
   "cell_type": "code",
   "execution_count": 13,
   "id": "9629f8b6",
   "metadata": {},
   "outputs": [
    {
     "data": {
      "text/plain": [
       "Name                            Anna\n",
       "Age                               25\n",
       "Occupation                  Designer\n",
       "City                         Jakarta\n",
       "Address       Jl. Sultan Agung No. 2\n",
       "dtype: object"
      ]
     },
     "execution_count": 13,
     "metadata": {},
     "output_type": "execute_result"
    }
   ],
   "source": [
    "additional_information"
   ]
  },
  {
   "cell_type": "code",
   "execution_count": 14,
   "id": "6b92b619",
   "metadata": {},
   "outputs": [
    {
     "data": {
      "text/plain": [
       "'Jakarta'"
      ]
     },
     "execution_count": 14,
     "metadata": {},
     "output_type": "execute_result"
    }
   ],
   "source": [
    "additional_information.loc['City']"
   ]
  },
  {
   "cell_type": "code",
   "execution_count": 15,
   "id": "08182d18",
   "metadata": {},
   "outputs": [
    {
     "data": {
      "text/plain": [
       "'Anna'"
      ]
     },
     "execution_count": 15,
     "metadata": {},
     "output_type": "execute_result"
    }
   ],
   "source": [
    "additional_information.iloc[0]"
   ]
  },
  {
   "cell_type": "code",
   "execution_count": 18,
   "id": "78a59aaa",
   "metadata": {},
   "outputs": [],
   "source": [
    "#DataFrame\n",
    "information_2 = pd.DataFrame({'data':personal_information, 'data_2':additional_information})"
   ]
  },
  {
   "cell_type": "code",
   "execution_count": 19,
   "id": "46f5d6d3",
   "metadata": {},
   "outputs": [
    {
     "data": {
      "text/html": [
       "<div>\n",
       "<style scoped>\n",
       "    .dataframe tbody tr th:only-of-type {\n",
       "        vertical-align: middle;\n",
       "    }\n",
       "\n",
       "    .dataframe tbody tr th {\n",
       "        vertical-align: top;\n",
       "    }\n",
       "\n",
       "    .dataframe thead th {\n",
       "        text-align: right;\n",
       "    }\n",
       "</style>\n",
       "<table border=\"1\" class=\"dataframe\">\n",
       "  <thead>\n",
       "    <tr style=\"text-align: right;\">\n",
       "      <th></th>\n",
       "      <th>data</th>\n",
       "      <th>data_2</th>\n",
       "    </tr>\n",
       "  </thead>\n",
       "  <tbody>\n",
       "    <tr>\n",
       "      <th>Name</th>\n",
       "      <td>Ageng</td>\n",
       "      <td>Anna</td>\n",
       "    </tr>\n",
       "    <tr>\n",
       "      <th>Age</th>\n",
       "      <td>24</td>\n",
       "      <td>25</td>\n",
       "    </tr>\n",
       "    <tr>\n",
       "      <th>Occupation</th>\n",
       "      <td>Lecturer</td>\n",
       "      <td>Designer</td>\n",
       "    </tr>\n",
       "    <tr>\n",
       "      <th>City</th>\n",
       "      <td>Yogyakarta</td>\n",
       "      <td>Jakarta</td>\n",
       "    </tr>\n",
       "    <tr>\n",
       "      <th>Address</th>\n",
       "      <td>Jl. Merdeka No.1</td>\n",
       "      <td>Jl. Sultan Agung No. 2</td>\n",
       "    </tr>\n",
       "  </tbody>\n",
       "</table>\n",
       "</div>"
      ],
      "text/plain": [
       "                        data                  data_2\n",
       "Name                   Ageng                    Anna\n",
       "Age                       24                      25\n",
       "Occupation          Lecturer                Designer\n",
       "City              Yogyakarta                 Jakarta\n",
       "Address     Jl. Merdeka No.1  Jl. Sultan Agung No. 2"
      ]
     },
     "execution_count": 19,
     "metadata": {},
     "output_type": "execute_result"
    }
   ],
   "source": [
    "information_2"
   ]
  },
  {
   "cell_type": "code",
   "execution_count": 20,
   "id": "74bb2e83",
   "metadata": {},
   "outputs": [
    {
     "data": {
      "text/plain": [
       "Name                            Anna\n",
       "Age                               25\n",
       "Occupation                  Designer\n",
       "City                         Jakarta\n",
       "Address       Jl. Sultan Agung No. 2\n",
       "Name: data_2, dtype: object"
      ]
     },
     "execution_count": 20,
     "metadata": {},
     "output_type": "execute_result"
    }
   ],
   "source": [
    "information_2['data_2']"
   ]
  },
  {
   "cell_type": "code",
   "execution_count": 21,
   "id": "404c4aca",
   "metadata": {},
   "outputs": [
    {
     "data": {
      "text/plain": [
       "'Anna'"
      ]
     },
     "execution_count": 21,
     "metadata": {},
     "output_type": "execute_result"
    }
   ],
   "source": [
    "information_2['data_2']['Name']"
   ]
  },
  {
   "cell_type": "markdown",
   "id": "b41e9822",
   "metadata": {},
   "source": [
    "- When calling data with the syntax area_pop, it will appear as shown below.\n",
    "- Because \"pop\" is the same as the function name in the DataFrame"
   ]
  },
  {
   "cell_type": "code",
   "execution_count": 22,
   "id": "76959174",
   "metadata": {},
   "outputs": [
    {
     "data": {
      "text/plain": [
       "Name                     Ageng\n",
       "Age                         24\n",
       "Occupation            Lecturer\n",
       "City                Yogyakarta\n",
       "Address       Jl. Merdeka No.1\n",
       "Name: data, dtype: object"
      ]
     },
     "execution_count": 22,
     "metadata": {},
     "output_type": "execute_result"
    }
   ],
   "source": [
    "information_2.data"
   ]
  },
  {
   "cell_type": "markdown",
   "id": "7afe501d",
   "metadata": {},
   "source": [
    "Therefore, it is safer to call the data using the syntax area['population']."
   ]
  },
  {
   "cell_type": "code",
   "execution_count": 23,
   "id": "7f6790fe",
   "metadata": {},
   "outputs": [
    {
     "data": {
      "text/plain": [
       "Name                     Ageng\n",
       "Age                         24\n",
       "Occupation            Lecturer\n",
       "City                Yogyakarta\n",
       "Address       Jl. Merdeka No.1\n",
       "Name: data, dtype: object"
      ]
     },
     "execution_count": 23,
     "metadata": {},
     "output_type": "execute_result"
    }
   ],
   "source": [
    "information_2['data']"
   ]
  },
  {
   "cell_type": "markdown",
   "id": "c1313eec",
   "metadata": {},
   "source": [
    "We'll change the column name \"data\" to \"employee_1\" and \"data_2\" to \"employee_2\""
   ]
  },
  {
   "cell_type": "code",
   "execution_count": 26,
   "id": "46366dd6",
   "metadata": {},
   "outputs": [],
   "source": [
    "information_2 = pd.DataFrame({'employee_1':personal_information, 'employee_2':additional_information})"
   ]
  },
  {
   "cell_type": "code",
   "execution_count": 27,
   "id": "e6999746",
   "metadata": {},
   "outputs": [
    {
     "data": {
      "text/html": [
       "<div>\n",
       "<style scoped>\n",
       "    .dataframe tbody tr th:only-of-type {\n",
       "        vertical-align: middle;\n",
       "    }\n",
       "\n",
       "    .dataframe tbody tr th {\n",
       "        vertical-align: top;\n",
       "    }\n",
       "\n",
       "    .dataframe thead th {\n",
       "        text-align: right;\n",
       "    }\n",
       "</style>\n",
       "<table border=\"1\" class=\"dataframe\">\n",
       "  <thead>\n",
       "    <tr style=\"text-align: right;\">\n",
       "      <th></th>\n",
       "      <th>employee_1</th>\n",
       "      <th>employee_2</th>\n",
       "    </tr>\n",
       "  </thead>\n",
       "  <tbody>\n",
       "    <tr>\n",
       "      <th>Name</th>\n",
       "      <td>Ageng</td>\n",
       "      <td>Anna</td>\n",
       "    </tr>\n",
       "    <tr>\n",
       "      <th>Age</th>\n",
       "      <td>24</td>\n",
       "      <td>25</td>\n",
       "    </tr>\n",
       "    <tr>\n",
       "      <th>Occupation</th>\n",
       "      <td>Lecturer</td>\n",
       "      <td>Designer</td>\n",
       "    </tr>\n",
       "    <tr>\n",
       "      <th>City</th>\n",
       "      <td>Yogyakarta</td>\n",
       "      <td>Jakarta</td>\n",
       "    </tr>\n",
       "    <tr>\n",
       "      <th>Address</th>\n",
       "      <td>Jl. Merdeka No.1</td>\n",
       "      <td>Jl. Sultan Agung No. 2</td>\n",
       "    </tr>\n",
       "  </tbody>\n",
       "</table>\n",
       "</div>"
      ],
      "text/plain": [
       "                  employee_1              employee_2\n",
       "Name                   Ageng                    Anna\n",
       "Age                       24                      25\n",
       "Occupation          Lecturer                Designer\n",
       "City              Yogyakarta                 Jakarta\n",
       "Address     Jl. Merdeka No.1  Jl. Sultan Agung No. 2"
      ]
     },
     "execution_count": 27,
     "metadata": {},
     "output_type": "execute_result"
    }
   ],
   "source": [
    "information_2"
   ]
  },
  {
   "cell_type": "markdown",
   "id": "084a1b33",
   "metadata": {},
   "source": [
    "information_2['employee_1']"
   ]
  },
  {
   "cell_type": "code",
   "execution_count": 31,
   "id": "723bf89b",
   "metadata": {},
   "outputs": [
    {
     "data": {
      "text/plain": [
       "Name               Ageng\n",
       "Age                   24\n",
       "Occupation      Lecturer\n",
       "City          Yogyakarta\n",
       "Name: employee_1, dtype: object"
      ]
     },
     "execution_count": 31,
     "metadata": {},
     "output_type": "execute_result"
    }
   ],
   "source": [
    "information_2['employee_1'].loc['Name':'City'] #slicing explicit"
   ]
  },
  {
   "cell_type": "code",
   "execution_count": 32,
   "id": "c65ae06d",
   "metadata": {},
   "outputs": [
    {
     "data": {
      "text/plain": [
       "Name    Ageng\n",
       "Age        24\n",
       "Name: employee_1, dtype: object"
      ]
     },
     "execution_count": 32,
     "metadata": {},
     "output_type": "execute_result"
    }
   ],
   "source": [
    "information_2['employee_1'].iloc[0:2] #slicing implicit"
   ]
  },
  {
   "cell_type": "markdown",
   "id": "4b5ad413",
   "metadata": {},
   "source": [
    "#### LOAD DATA CSV IN PANDAS\n",
    "Import CSV files using the read_csv() function from the Pandas library. Set the column index when reading your data into memory, and ensure that the uploaded CSV data matches the folder."
   ]
  },
  {
   "cell_type": "code",
   "execution_count": 33,
   "id": "ca5ab64c",
   "metadata": {},
   "outputs": [],
   "source": [
    "df = pd.read_csv('Kelahiran Bayi_Jakarta_2020.csv')"
   ]
  },
  {
   "cell_type": "code",
   "execution_count": 34,
   "id": "c2be54b5",
   "metadata": {},
   "outputs": [
    {
     "data": {
      "text/html": [
       "<div>\n",
       "<style scoped>\n",
       "    .dataframe tbody tr th:only-of-type {\n",
       "        vertical-align: middle;\n",
       "    }\n",
       "\n",
       "    .dataframe tbody tr th {\n",
       "        vertical-align: top;\n",
       "    }\n",
       "\n",
       "    .dataframe thead th {\n",
       "        text-align: right;\n",
       "    }\n",
       "</style>\n",
       "<table border=\"1\" class=\"dataframe\">\n",
       "  <thead>\n",
       "    <tr style=\"text-align: right;\">\n",
       "      <th></th>\n",
       "      <th>tahun</th>\n",
       "      <th>bulan</th>\n",
       "      <th>kota_kabupaten</th>\n",
       "      <th>kecamatan</th>\n",
       "      <th>kelurahan</th>\n",
       "      <th>jenis_kelamin</th>\n",
       "      <th>jumlah</th>\n",
       "      <th>periode_data</th>\n",
       "    </tr>\n",
       "  </thead>\n",
       "  <tbody>\n",
       "    <tr>\n",
       "      <th>0</th>\n",
       "      <td>2020</td>\n",
       "      <td>1</td>\n",
       "      <td>ADM. KEPULAUAN SERIBU</td>\n",
       "      <td>KEPULAUAN SERIBU UTARA</td>\n",
       "      <td>PULAU PANGGANG</td>\n",
       "      <td>Laki-Laki</td>\n",
       "      <td>5</td>\n",
       "      <td>2020</td>\n",
       "    </tr>\n",
       "    <tr>\n",
       "      <th>1</th>\n",
       "      <td>2020</td>\n",
       "      <td>1</td>\n",
       "      <td>ADM. KEPULAUAN SERIBU</td>\n",
       "      <td>KEPULAUAN SERIBU UTARA</td>\n",
       "      <td>PULAU KELAPA</td>\n",
       "      <td>Laki-Laki</td>\n",
       "      <td>1</td>\n",
       "      <td>2020</td>\n",
       "    </tr>\n",
       "    <tr>\n",
       "      <th>2</th>\n",
       "      <td>2020</td>\n",
       "      <td>1</td>\n",
       "      <td>ADM. KEPULAUAN SERIBU</td>\n",
       "      <td>KEPULAUAN SERIBU UTARA</td>\n",
       "      <td>PULAU HARAPAN</td>\n",
       "      <td>Laki-Laki</td>\n",
       "      <td>1</td>\n",
       "      <td>2020</td>\n",
       "    </tr>\n",
       "    <tr>\n",
       "      <th>3</th>\n",
       "      <td>2020</td>\n",
       "      <td>1</td>\n",
       "      <td>ADM. KEPULAUAN SERIBU</td>\n",
       "      <td>KEPULAUAN SERIBU SELATAN</td>\n",
       "      <td>PULAU UNTUNG JAWA</td>\n",
       "      <td>Laki-Laki</td>\n",
       "      <td>2</td>\n",
       "      <td>2020</td>\n",
       "    </tr>\n",
       "    <tr>\n",
       "      <th>4</th>\n",
       "      <td>2020</td>\n",
       "      <td>1</td>\n",
       "      <td>ADM. KEPULAUAN SERIBU</td>\n",
       "      <td>KEPULAUAN SERIBU SELATAN</td>\n",
       "      <td>PULAU TIDUNG</td>\n",
       "      <td>Laki-Laki</td>\n",
       "      <td>2</td>\n",
       "      <td>2020</td>\n",
       "    </tr>\n",
       "  </tbody>\n",
       "</table>\n",
       "</div>"
      ],
      "text/plain": [
       "   tahun  bulan         kota_kabupaten                 kecamatan  \\\n",
       "0   2020      1  ADM. KEPULAUAN SERIBU    KEPULAUAN SERIBU UTARA   \n",
       "1   2020      1  ADM. KEPULAUAN SERIBU    KEPULAUAN SERIBU UTARA   \n",
       "2   2020      1  ADM. KEPULAUAN SERIBU    KEPULAUAN SERIBU UTARA   \n",
       "3   2020      1  ADM. KEPULAUAN SERIBU  KEPULAUAN SERIBU SELATAN   \n",
       "4   2020      1  ADM. KEPULAUAN SERIBU  KEPULAUAN SERIBU SELATAN   \n",
       "\n",
       "           kelurahan jenis_kelamin  jumlah  periode_data  \n",
       "0     PULAU PANGGANG     Laki-Laki       5          2020  \n",
       "1       PULAU KELAPA     Laki-Laki       1          2020  \n",
       "2      PULAU HARAPAN     Laki-Laki       1          2020  \n",
       "3  PULAU UNTUNG JAWA     Laki-Laki       2          2020  \n",
       "4       PULAU TIDUNG     Laki-Laki       2          2020  "
      ]
     },
     "execution_count": 34,
     "metadata": {},
     "output_type": "execute_result"
    }
   ],
   "source": [
    "df.head() #Used to get the first rows. By default, it returns the top five rows."
   ]
  },
  {
   "cell_type": "code",
   "execution_count": 35,
   "id": "84759485",
   "metadata": {},
   "outputs": [
    {
     "name": "stdout",
     "output_type": "stream",
     "text": [
      "<class 'pandas.core.frame.DataFrame'>\n",
      "RangeIndex: 6408 entries, 0 to 6407\n",
      "Data columns (total 8 columns):\n",
      " #   Column          Non-Null Count  Dtype \n",
      "---  ------          --------------  ----- \n",
      " 0   tahun           6408 non-null   int64 \n",
      " 1   bulan           6408 non-null   int64 \n",
      " 2   kota_kabupaten  6408 non-null   object\n",
      " 3   kecamatan       6408 non-null   object\n",
      " 4   kelurahan       6408 non-null   object\n",
      " 5   jenis_kelamin   6408 non-null   object\n",
      " 6   jumlah          6408 non-null   int64 \n",
      " 7   periode_data    6408 non-null   int64 \n",
      "dtypes: int64(4), object(4)\n",
      "memory usage: 400.6+ KB\n"
     ]
    }
   ],
   "source": [
    "# Viewing data info\n",
    "\n",
    "df.info() #Provides a concise summary of a DataFrame"
   ]
  },
  {
   "cell_type": "code",
   "execution_count": 36,
   "id": "11aa38ee",
   "metadata": {},
   "outputs": [
    {
     "data": {
      "text/plain": [
       "tahun             6408\n",
       "bulan             6408\n",
       "kota_kabupaten    6408\n",
       "kecamatan         6408\n",
       "kelurahan         6408\n",
       "jenis_kelamin     6408\n",
       "jumlah            6408\n",
       "periode_data      6408\n",
       "dtype: int64"
      ]
     },
     "execution_count": 36,
     "metadata": {},
     "output_type": "execute_result"
    }
   ],
   "source": [
    "# Viewing the count of non-null values in the data\n",
    "\n",
    "df.notnull().sum() #Used to check for missing values (NaN or None) in a DataFrame."
   ]
  },
  {
   "cell_type": "code",
   "execution_count": 37,
   "id": "51f90ae7",
   "metadata": {},
   "outputs": [
    {
     "data": {
      "text/plain": [
       "tahun             0\n",
       "bulan             0\n",
       "kota_kabupaten    0\n",
       "kecamatan         0\n",
       "kelurahan         0\n",
       "jenis_kelamin     0\n",
       "jumlah            0\n",
       "periode_data      0\n",
       "dtype: int64"
      ]
     },
     "execution_count": 37,
     "metadata": {},
     "output_type": "execute_result"
    }
   ],
   "source": [
    "# Viewing the count of null values in the data\n",
    "\n",
    "df.isnull().sum() #Used to check for missing values (NaN or None) in a DataFrame."
   ]
  },
  {
   "cell_type": "code",
   "execution_count": 40,
   "id": "40b30e3e",
   "metadata": {},
   "outputs": [
    {
     "data": {
      "text/plain": [
       "tahun                                                      12944160\n",
       "bulan                                                         41652\n",
       "kota_kabupaten    ADM. KEPULAUAN SERIBUADM. KEPULAUAN SERIBUADM....\n",
       "kecamatan         KEPULAUAN SERIBU UTARAKEPULAUAN SERIBU UTARAKE...\n",
       "kelurahan         PULAU PANGGANGPULAU KELAPAPULAU HARAPANPULAU U...\n",
       "jenis_kelamin     Laki-LakiLaki-LakiLaki-LakiLaki-LakiLaki-LakiL...\n",
       "jumlah                                                       137161\n",
       "periode_data                                               12944160\n",
       "dtype: object"
      ]
     },
     "execution_count": 40,
     "metadata": {},
     "output_type": "execute_result"
    }
   ],
   "source": [
    "# Viewing the count of data\n",
    "\n",
    "df.sum()"
   ]
  },
  {
   "cell_type": "code",
   "execution_count": 41,
   "id": "8a21f188",
   "metadata": {},
   "outputs": [
    {
     "data": {
      "text/html": [
       "<div>\n",
       "<style scoped>\n",
       "    .dataframe tbody tr th:only-of-type {\n",
       "        vertical-align: middle;\n",
       "    }\n",
       "\n",
       "    .dataframe tbody tr th {\n",
       "        vertical-align: top;\n",
       "    }\n",
       "\n",
       "    .dataframe thead th {\n",
       "        text-align: right;\n",
       "    }\n",
       "</style>\n",
       "<table border=\"1\" class=\"dataframe\">\n",
       "  <thead>\n",
       "    <tr style=\"text-align: right;\">\n",
       "      <th></th>\n",
       "      <th>tahun</th>\n",
       "      <th>bulan</th>\n",
       "      <th>kota_kabupaten</th>\n",
       "      <th>kecamatan</th>\n",
       "      <th>kelurahan</th>\n",
       "      <th>jenis_kelamin</th>\n",
       "      <th>jumlah</th>\n",
       "      <th>periode_data</th>\n",
       "    </tr>\n",
       "  </thead>\n",
       "  <tbody>\n",
       "    <tr>\n",
       "      <th>6403</th>\n",
       "      <td>2020</td>\n",
       "      <td>12</td>\n",
       "      <td>JAKARTA TIMUR</td>\n",
       "      <td>CIPAYUNG</td>\n",
       "      <td>MUNJUL</td>\n",
       "      <td>Perempuan</td>\n",
       "      <td>23</td>\n",
       "      <td>2020</td>\n",
       "    </tr>\n",
       "    <tr>\n",
       "      <th>6404</th>\n",
       "      <td>2020</td>\n",
       "      <td>12</td>\n",
       "      <td>JAKARTA TIMUR</td>\n",
       "      <td>CIPAYUNG</td>\n",
       "      <td>SETU</td>\n",
       "      <td>Perempuan</td>\n",
       "      <td>20</td>\n",
       "      <td>2020</td>\n",
       "    </tr>\n",
       "    <tr>\n",
       "      <th>6405</th>\n",
       "      <td>2020</td>\n",
       "      <td>12</td>\n",
       "      <td>JAKARTA TIMUR</td>\n",
       "      <td>CIPAYUNG</td>\n",
       "      <td>BAMBU APUS</td>\n",
       "      <td>Perempuan</td>\n",
       "      <td>22</td>\n",
       "      <td>2020</td>\n",
       "    </tr>\n",
       "    <tr>\n",
       "      <th>6406</th>\n",
       "      <td>2020</td>\n",
       "      <td>12</td>\n",
       "      <td>JAKARTA TIMUR</td>\n",
       "      <td>CIPAYUNG</td>\n",
       "      <td>LUBANG BUAYA</td>\n",
       "      <td>Perempuan</td>\n",
       "      <td>100</td>\n",
       "      <td>2020</td>\n",
       "    </tr>\n",
       "    <tr>\n",
       "      <th>6407</th>\n",
       "      <td>2020</td>\n",
       "      <td>12</td>\n",
       "      <td>JAKARTA TIMUR</td>\n",
       "      <td>CIPAYUNG</td>\n",
       "      <td>CEGER</td>\n",
       "      <td>Perempuan</td>\n",
       "      <td>16</td>\n",
       "      <td>2020</td>\n",
       "    </tr>\n",
       "  </tbody>\n",
       "</table>\n",
       "</div>"
      ],
      "text/plain": [
       "      tahun  bulan kota_kabupaten kecamatan     kelurahan jenis_kelamin  \\\n",
       "6403   2020     12  JAKARTA TIMUR  CIPAYUNG        MUNJUL     Perempuan   \n",
       "6404   2020     12  JAKARTA TIMUR  CIPAYUNG          SETU     Perempuan   \n",
       "6405   2020     12  JAKARTA TIMUR  CIPAYUNG    BAMBU APUS     Perempuan   \n",
       "6406   2020     12  JAKARTA TIMUR  CIPAYUNG  LUBANG BUAYA     Perempuan   \n",
       "6407   2020     12  JAKARTA TIMUR  CIPAYUNG         CEGER     Perempuan   \n",
       "\n",
       "      jumlah  periode_data  \n",
       "6403      23          2020  \n",
       "6404      20          2020  \n",
       "6405      22          2020  \n",
       "6406     100          2020  \n",
       "6407      16          2020  "
      ]
     },
     "execution_count": 41,
     "metadata": {},
     "output_type": "execute_result"
    }
   ],
   "source": [
    "# Viewing from the bottom of the data\n",
    "df.tail() #Displays the last few rows of the DataFrame. By default, it shows the last 5 rows but can be customized to display a different number of rows."
   ]
  },
  {
   "cell_type": "code",
   "execution_count": 42,
   "id": "6cd3c79e",
   "metadata": {},
   "outputs": [
    {
     "data": {
      "text/plain": [
       "(6408, 8)"
      ]
     },
     "execution_count": 42,
     "metadata": {},
     "output_type": "execute_result"
    }
   ],
   "source": [
    "# Viewing the number of rows and columns\n",
    "\n",
    "df.shape #To get the number of rows and columns in the DataFrame."
   ]
  },
  {
   "cell_type": "code",
   "execution_count": 43,
   "id": "0dab70c4",
   "metadata": {},
   "outputs": [
    {
     "data": {
      "text/plain": [
       "Index(['tahun', 'bulan', 'kota_kabupaten', 'kecamatan', 'kelurahan',\n",
       "       'jenis_kelamin', 'jumlah', 'periode_data'],\n",
       "      dtype='object')"
      ]
     },
     "execution_count": 43,
     "metadata": {},
     "output_type": "execute_result"
    }
   ],
   "source": [
    "# Viewing columns\n",
    "\n",
    "df.columns #To view the column names of the DataFrame."
   ]
  },
  {
   "cell_type": "code",
   "execution_count": 44,
   "id": "f3acb68f",
   "metadata": {},
   "outputs": [
    {
     "data": {
      "text/plain": [
       "RangeIndex(start=0, stop=6408, step=1)"
      ]
     },
     "execution_count": 44,
     "metadata": {},
     "output_type": "execute_result"
    }
   ],
   "source": [
    "# Viewing index\n",
    "\n",
    "df.index #To view the index labels of the DataFrame."
   ]
  },
  {
   "cell_type": "code",
   "execution_count": 45,
   "id": "72c3ee1b",
   "metadata": {},
   "outputs": [
    {
     "data": {
      "text/html": [
       "<div>\n",
       "<style scoped>\n",
       "    .dataframe tbody tr th:only-of-type {\n",
       "        vertical-align: middle;\n",
       "    }\n",
       "\n",
       "    .dataframe tbody tr th {\n",
       "        vertical-align: top;\n",
       "    }\n",
       "\n",
       "    .dataframe thead th {\n",
       "        text-align: right;\n",
       "    }\n",
       "</style>\n",
       "<table border=\"1\" class=\"dataframe\">\n",
       "  <thead>\n",
       "    <tr style=\"text-align: right;\">\n",
       "      <th></th>\n",
       "      <th>tahun</th>\n",
       "      <th>bulan</th>\n",
       "      <th>jumlah</th>\n",
       "      <th>periode_data</th>\n",
       "    </tr>\n",
       "  </thead>\n",
       "  <tbody>\n",
       "    <tr>\n",
       "      <th>count</th>\n",
       "      <td>6408.0</td>\n",
       "      <td>6408.000000</td>\n",
       "      <td>6408.000000</td>\n",
       "      <td>6408.0</td>\n",
       "    </tr>\n",
       "    <tr>\n",
       "      <th>mean</th>\n",
       "      <td>2020.0</td>\n",
       "      <td>6.500000</td>\n",
       "      <td>21.404650</td>\n",
       "      <td>2020.0</td>\n",
       "    </tr>\n",
       "    <tr>\n",
       "      <th>std</th>\n",
       "      <td>0.0</td>\n",
       "      <td>3.452322</td>\n",
       "      <td>18.487518</td>\n",
       "      <td>0.0</td>\n",
       "    </tr>\n",
       "    <tr>\n",
       "      <th>min</th>\n",
       "      <td>2020.0</td>\n",
       "      <td>1.000000</td>\n",
       "      <td>0.000000</td>\n",
       "      <td>2020.0</td>\n",
       "    </tr>\n",
       "    <tr>\n",
       "      <th>25%</th>\n",
       "      <td>2020.0</td>\n",
       "      <td>3.750000</td>\n",
       "      <td>9.000000</td>\n",
       "      <td>2020.0</td>\n",
       "    </tr>\n",
       "    <tr>\n",
       "      <th>50%</th>\n",
       "      <td>2020.0</td>\n",
       "      <td>6.500000</td>\n",
       "      <td>17.000000</td>\n",
       "      <td>2020.0</td>\n",
       "    </tr>\n",
       "    <tr>\n",
       "      <th>75%</th>\n",
       "      <td>2020.0</td>\n",
       "      <td>9.250000</td>\n",
       "      <td>29.000000</td>\n",
       "      <td>2020.0</td>\n",
       "    </tr>\n",
       "    <tr>\n",
       "      <th>max</th>\n",
       "      <td>2020.0</td>\n",
       "      <td>12.000000</td>\n",
       "      <td>178.000000</td>\n",
       "      <td>2020.0</td>\n",
       "    </tr>\n",
       "  </tbody>\n",
       "</table>\n",
       "</div>"
      ],
      "text/plain": [
       "        tahun        bulan       jumlah  periode_data\n",
       "count  6408.0  6408.000000  6408.000000        6408.0\n",
       "mean   2020.0     6.500000    21.404650        2020.0\n",
       "std       0.0     3.452322    18.487518           0.0\n",
       "min    2020.0     1.000000     0.000000        2020.0\n",
       "25%    2020.0     3.750000     9.000000        2020.0\n",
       "50%    2020.0     6.500000    17.000000        2020.0\n",
       "75%    2020.0     9.250000    29.000000        2020.0\n",
       "max    2020.0    12.000000   178.000000        2020.0"
      ]
     },
     "execution_count": 45,
     "metadata": {},
     "output_type": "execute_result"
    }
   ],
   "source": [
    "# Displaying information from numeric columns\n",
    "\n",
    "df.describe() #Generates descriptive statistics of numerical columns in the DataFrame"
   ]
  },
  {
   "cell_type": "code",
   "execution_count": 46,
   "id": "468ced61",
   "metadata": {},
   "outputs": [
    {
     "data": {
      "text/plain": [
       "21.40465043695381"
      ]
     },
     "execution_count": 46,
     "metadata": {},
     "output_type": "execute_result"
    }
   ],
   "source": [
    "# For example, displaying the mean of the 'Total' column\n",
    "\n",
    "df['jumlah'].mean()"
   ]
  },
  {
   "cell_type": "code",
   "execution_count": 47,
   "id": "ad11f72f",
   "metadata": {},
   "outputs": [
    {
     "data": {
      "text/plain": [
       "17.0"
      ]
     },
     "execution_count": 47,
     "metadata": {},
     "output_type": "execute_result"
    }
   ],
   "source": [
    "# For example, displaying the median of the 'Total' column\n",
    "\n",
    "df['jumlah'].median() #To calculate the mean of a specific column or columns in the DataFrame."
   ]
  },
  {
   "cell_type": "code",
   "execution_count": 48,
   "id": "8d87c5e7",
   "metadata": {},
   "outputs": [
    {
     "data": {
      "text/plain": [
       "10"
      ]
     },
     "execution_count": 48,
     "metadata": {},
     "output_type": "execute_result"
    }
   ],
   "source": [
    "# For example, displaying the mode of the 'Total' column\n",
    "\n",
    "df['jumlah'].mode()[0] #To calculate the median of a specific column or columns in the DataFrame."
   ]
  },
  {
   "cell_type": "code",
   "execution_count": 49,
   "id": "2988389c",
   "metadata": {},
   "outputs": [
    {
     "data": {
      "text/html": [
       "<div>\n",
       "<style scoped>\n",
       "    .dataframe tbody tr th:only-of-type {\n",
       "        vertical-align: middle;\n",
       "    }\n",
       "\n",
       "    .dataframe tbody tr th {\n",
       "        vertical-align: top;\n",
       "    }\n",
       "\n",
       "    .dataframe thead th {\n",
       "        text-align: right;\n",
       "    }\n",
       "</style>\n",
       "<table border=\"1\" class=\"dataframe\">\n",
       "  <thead>\n",
       "    <tr style=\"text-align: right;\">\n",
       "      <th></th>\n",
       "      <th>tahun</th>\n",
       "      <th>bulan</th>\n",
       "      <th>kota_kabupaten</th>\n",
       "      <th>kecamatan</th>\n",
       "      <th>kelurahan</th>\n",
       "      <th>jenis_kelamin</th>\n",
       "      <th>jumlah</th>\n",
       "      <th>periode_data</th>\n",
       "    </tr>\n",
       "  </thead>\n",
       "  <tbody>\n",
       "  </tbody>\n",
       "</table>\n",
       "</div>"
      ],
      "text/plain": [
       "Empty DataFrame\n",
       "Columns: [tahun, bulan, kota_kabupaten, kecamatan, kelurahan, jenis_kelamin, jumlah, periode_data]\n",
       "Index: []"
      ]
     },
     "execution_count": 49,
     "metadata": {},
     "output_type": "execute_result"
    }
   ],
   "source": [
    "# For example, checking NaN values in the 'Total' column\n",
    "\n",
    "df[df['jumlah'].isnull()] #To calculate the mode of a specific column or columns in the DataFrame"
   ]
  },
  {
   "cell_type": "code",
   "execution_count": 50,
   "id": "17de5a57",
   "metadata": {},
   "outputs": [
    {
     "data": {
      "text/plain": [
       "[0       False\n",
       " 1       False\n",
       " 2       False\n",
       " 3       False\n",
       " 4       False\n",
       "         ...  \n",
       " 6403    False\n",
       " 6404    False\n",
       " 6405    False\n",
       " 6406    False\n",
       " 6407    False\n",
       " Name: jumlah, Length: 6408, dtype: bool]"
      ]
     },
     "execution_count": 50,
     "metadata": {},
     "output_type": "execute_result"
    }
   ],
   "source": [
    "# Then we apply masking\n",
    "[df.jumlah.isnull()] "
   ]
  },
  {
   "cell_type": "code",
   "execution_count": 51,
   "id": "545b0c5b",
   "metadata": {},
   "outputs": [
    {
     "data": {
      "text/plain": [
       "array(['Laki-Laki', 'Perempuan'], dtype=object)"
      ]
     },
     "execution_count": 51,
     "metadata": {},
     "output_type": "execute_result"
    }
   ],
   "source": [
    "# For example, displaying unique data from the 'jenis_kelamin' column\n",
    "df.jenis_kelamin.unique() #Returns the number of unique elements in each column of the DataFrame."
   ]
  },
  {
   "cell_type": "code",
   "execution_count": 52,
   "id": "e631f484",
   "metadata": {},
   "outputs": [
    {
     "data": {
      "text/plain": [
       "2"
      ]
     },
     "execution_count": 52,
     "metadata": {},
     "output_type": "execute_result"
    }
   ],
   "source": [
    "# For example, displaying nunique data from the 'jenis_kelamin' column\n",
    "df.jenis_kelamin.nunique() "
   ]
  },
  {
   "cell_type": "code",
   "execution_count": 53,
   "id": "50770a0f",
   "metadata": {},
   "outputs": [
    {
     "data": {
      "text/plain": [
       "array(['KEPULAUAN SERIBU UTARA', 'KEPULAUAN SERIBU SELATAN', 'GAMBIR',\n",
       "       'SAWAH BESAR', 'KEMAYORAN', 'S E N E N', 'CEMPAKA PUTIH',\n",
       "       'MENTENG', 'TANAH ABANG', 'JOHAR BARU', 'PENJARINGAN',\n",
       "       'TANJUNG PRIOK', 'KOJA', 'CILINCING', 'PADEMANGAN',\n",
       "       'KELAPA GADING', 'CENGKARENG', 'GROGOL PETAMBURAN', 'TAMAN SARI',\n",
       "       'TAMBORA', 'MAMPANG PRAPATAN', 'PASAR MINGGU', 'KEBAYORAN LAMA',\n",
       "       'CILANDAK', 'KEBAYORAN BARU', 'PANCORAN', 'JAGAKARSA',\n",
       "       'PESANGGRAHAN', 'MATRAMAN', 'PULO GADUNG', 'JATINEGARA',\n",
       "       'KRAMATJATI', 'PASAR REBO', 'CAKUNG', 'DUREN SAWIT', 'MAKASAR',\n",
       "       'CIRACAS', 'KEBON JERUK', 'KALI DERES', 'PAL MERAH', 'KEMBANGAN',\n",
       "       'TEBET', 'SETIA BUDI', 'CIPAYUNG'], dtype=object)"
      ]
     },
     "execution_count": 53,
     "metadata": {},
     "output_type": "execute_result"
    }
   ],
   "source": [
    "df['kecamatan'].unique()"
   ]
  },
  {
   "cell_type": "code",
   "execution_count": 54,
   "id": "3c676ae8",
   "metadata": {},
   "outputs": [
    {
     "data": {
      "text/plain": [
       "44"
      ]
     },
     "execution_count": 54,
     "metadata": {},
     "output_type": "execute_result"
    }
   ],
   "source": [
    "df['kecamatan'].nunique()"
   ]
  },
  {
   "cell_type": "code",
   "execution_count": 55,
   "id": "1fc3e3a0",
   "metadata": {},
   "outputs": [
    {
     "data": {
      "text/plain": [
       "jenis_kelamin\n",
       "Laki-Laki    3204\n",
       "Perempuan    3204\n",
       "Name: count, dtype: int64"
      ]
     },
     "execution_count": 55,
     "metadata": {},
     "output_type": "execute_result"
    }
   ],
   "source": [
    "df.jenis_kelamin.value_counts() #Used to count the occurrences of unique values in a DataFrame column. It returns a Series containing counts of unique values."
   ]
  },
  {
   "cell_type": "code",
   "execution_count": 56,
   "id": "6bb8bfef",
   "metadata": {},
   "outputs": [
    {
     "data": {
      "text/html": [
       "<div>\n",
       "<style scoped>\n",
       "    .dataframe tbody tr th:only-of-type {\n",
       "        vertical-align: middle;\n",
       "    }\n",
       "\n",
       "    .dataframe tbody tr th {\n",
       "        vertical-align: top;\n",
       "    }\n",
       "\n",
       "    .dataframe thead th {\n",
       "        text-align: right;\n",
       "    }\n",
       "</style>\n",
       "<table border=\"1\" class=\"dataframe\">\n",
       "  <thead>\n",
       "    <tr style=\"text-align: right;\">\n",
       "      <th></th>\n",
       "      <th>kecamatan</th>\n",
       "      <th>kelurahan</th>\n",
       "      <th>jenis_kelamin</th>\n",
       "      <th>jumlah</th>\n",
       "    </tr>\n",
       "  </thead>\n",
       "  <tbody>\n",
       "    <tr>\n",
       "      <th>0</th>\n",
       "      <td>KEPULAUAN SERIBU UTARA</td>\n",
       "      <td>PULAU PANGGANG</td>\n",
       "      <td>Laki-Laki</td>\n",
       "      <td>5</td>\n",
       "    </tr>\n",
       "    <tr>\n",
       "      <th>1</th>\n",
       "      <td>KEPULAUAN SERIBU UTARA</td>\n",
       "      <td>PULAU KELAPA</td>\n",
       "      <td>Laki-Laki</td>\n",
       "      <td>1</td>\n",
       "    </tr>\n",
       "    <tr>\n",
       "      <th>2</th>\n",
       "      <td>KEPULAUAN SERIBU UTARA</td>\n",
       "      <td>PULAU HARAPAN</td>\n",
       "      <td>Laki-Laki</td>\n",
       "      <td>1</td>\n",
       "    </tr>\n",
       "    <tr>\n",
       "      <th>3</th>\n",
       "      <td>KEPULAUAN SERIBU SELATAN</td>\n",
       "      <td>PULAU UNTUNG JAWA</td>\n",
       "      <td>Laki-Laki</td>\n",
       "      <td>2</td>\n",
       "    </tr>\n",
       "    <tr>\n",
       "      <th>4</th>\n",
       "      <td>KEPULAUAN SERIBU SELATAN</td>\n",
       "      <td>PULAU TIDUNG</td>\n",
       "      <td>Laki-Laki</td>\n",
       "      <td>2</td>\n",
       "    </tr>\n",
       "    <tr>\n",
       "      <th>...</th>\n",
       "      <td>...</td>\n",
       "      <td>...</td>\n",
       "      <td>...</td>\n",
       "      <td>...</td>\n",
       "    </tr>\n",
       "    <tr>\n",
       "      <th>6403</th>\n",
       "      <td>CIPAYUNG</td>\n",
       "      <td>MUNJUL</td>\n",
       "      <td>Perempuan</td>\n",
       "      <td>23</td>\n",
       "    </tr>\n",
       "    <tr>\n",
       "      <th>6404</th>\n",
       "      <td>CIPAYUNG</td>\n",
       "      <td>SETU</td>\n",
       "      <td>Perempuan</td>\n",
       "      <td>20</td>\n",
       "    </tr>\n",
       "    <tr>\n",
       "      <th>6405</th>\n",
       "      <td>CIPAYUNG</td>\n",
       "      <td>BAMBU APUS</td>\n",
       "      <td>Perempuan</td>\n",
       "      <td>22</td>\n",
       "    </tr>\n",
       "    <tr>\n",
       "      <th>6406</th>\n",
       "      <td>CIPAYUNG</td>\n",
       "      <td>LUBANG BUAYA</td>\n",
       "      <td>Perempuan</td>\n",
       "      <td>100</td>\n",
       "    </tr>\n",
       "    <tr>\n",
       "      <th>6407</th>\n",
       "      <td>CIPAYUNG</td>\n",
       "      <td>CEGER</td>\n",
       "      <td>Perempuan</td>\n",
       "      <td>16</td>\n",
       "    </tr>\n",
       "  </tbody>\n",
       "</table>\n",
       "<p>6408 rows × 4 columns</p>\n",
       "</div>"
      ],
      "text/plain": [
       "                     kecamatan          kelurahan jenis_kelamin  jumlah\n",
       "0       KEPULAUAN SERIBU UTARA     PULAU PANGGANG     Laki-Laki       5\n",
       "1       KEPULAUAN SERIBU UTARA       PULAU KELAPA     Laki-Laki       1\n",
       "2       KEPULAUAN SERIBU UTARA      PULAU HARAPAN     Laki-Laki       1\n",
       "3     KEPULAUAN SERIBU SELATAN  PULAU UNTUNG JAWA     Laki-Laki       2\n",
       "4     KEPULAUAN SERIBU SELATAN       PULAU TIDUNG     Laki-Laki       2\n",
       "...                        ...                ...           ...     ...\n",
       "6403                  CIPAYUNG             MUNJUL     Perempuan      23\n",
       "6404                  CIPAYUNG               SETU     Perempuan      20\n",
       "6405                  CIPAYUNG         BAMBU APUS     Perempuan      22\n",
       "6406                  CIPAYUNG       LUBANG BUAYA     Perempuan     100\n",
       "6407                  CIPAYUNG              CEGER     Perempuan      16\n",
       "\n",
       "[6408 rows x 4 columns]"
      ]
     },
     "execution_count": 56,
     "metadata": {},
     "output_type": "execute_result"
    }
   ],
   "source": [
    "# Call a apsecific column\n",
    "\n",
    "df[['kecamatan','kelurahan','jenis_kelamin','jumlah']]\n",
    "#Retrieving certain columns from a DataFrame df. This notation will return a new DataFrame containing only the specified columns."
   ]
  },
  {
   "cell_type": "markdown",
   "id": "5e6d5909",
   "metadata": {},
   "source": [
    "Calling a Python dataset with terms and conditions means retrieving or\n",
    "selecting certain data from a dataset based on certain terms or conditions.\n",
    "This can be done using boolean operators or logical statements, such as ==,!=, <, >, <=, >=, or and, or, not."
   ]
  },
  {
   "cell_type": "code",
   "execution_count": 57,
   "id": "7f3ddbe5",
   "metadata": {},
   "outputs": [
    {
     "data": {
      "text/html": [
       "<div>\n",
       "<style scoped>\n",
       "    .dataframe tbody tr th:only-of-type {\n",
       "        vertical-align: middle;\n",
       "    }\n",
       "\n",
       "    .dataframe tbody tr th {\n",
       "        vertical-align: top;\n",
       "    }\n",
       "\n",
       "    .dataframe thead th {\n",
       "        text-align: right;\n",
       "    }\n",
       "</style>\n",
       "<table border=\"1\" class=\"dataframe\">\n",
       "  <thead>\n",
       "    <tr style=\"text-align: right;\">\n",
       "      <th></th>\n",
       "      <th>tahun</th>\n",
       "      <th>bulan</th>\n",
       "      <th>kota_kabupaten</th>\n",
       "      <th>kecamatan</th>\n",
       "      <th>kelurahan</th>\n",
       "      <th>jenis_kelamin</th>\n",
       "      <th>jumlah</th>\n",
       "      <th>periode_data</th>\n",
       "    </tr>\n",
       "  </thead>\n",
       "  <tbody>\n",
       "    <tr>\n",
       "      <th>3</th>\n",
       "      <td>2020</td>\n",
       "      <td>1</td>\n",
       "      <td>ADM. KEPULAUAN SERIBU</td>\n",
       "      <td>KEPULAUAN SERIBU SELATAN</td>\n",
       "      <td>PULAU UNTUNG JAWA</td>\n",
       "      <td>Laki-Laki</td>\n",
       "      <td>2</td>\n",
       "      <td>2020</td>\n",
       "    </tr>\n",
       "    <tr>\n",
       "      <th>4</th>\n",
       "      <td>2020</td>\n",
       "      <td>1</td>\n",
       "      <td>ADM. KEPULAUAN SERIBU</td>\n",
       "      <td>KEPULAUAN SERIBU SELATAN</td>\n",
       "      <td>PULAU TIDUNG</td>\n",
       "      <td>Laki-Laki</td>\n",
       "      <td>2</td>\n",
       "      <td>2020</td>\n",
       "    </tr>\n",
       "    <tr>\n",
       "      <th>12</th>\n",
       "      <td>2020</td>\n",
       "      <td>1</td>\n",
       "      <td>JAKARTA PUSAT</td>\n",
       "      <td>SAWAH BESAR</td>\n",
       "      <td>PASAR BARU</td>\n",
       "      <td>Laki-Laki</td>\n",
       "      <td>2</td>\n",
       "      <td>2020</td>\n",
       "    </tr>\n",
       "    <tr>\n",
       "      <th>25</th>\n",
       "      <td>2020</td>\n",
       "      <td>1</td>\n",
       "      <td>JAKARTA PUSAT</td>\n",
       "      <td>S E N E N</td>\n",
       "      <td>SENEN</td>\n",
       "      <td>Laki-Laki</td>\n",
       "      <td>2</td>\n",
       "      <td>2020</td>\n",
       "    </tr>\n",
       "    <tr>\n",
       "      <th>37</th>\n",
       "      <td>2020</td>\n",
       "      <td>1</td>\n",
       "      <td>JAKARTA PUSAT</td>\n",
       "      <td>MENTENG</td>\n",
       "      <td>GONDANGDIA</td>\n",
       "      <td>Laki-Laki</td>\n",
       "      <td>2</td>\n",
       "      <td>2020</td>\n",
       "    </tr>\n",
       "    <tr>\n",
       "      <th>...</th>\n",
       "      <td>...</td>\n",
       "      <td>...</td>\n",
       "      <td>...</td>\n",
       "      <td>...</td>\n",
       "      <td>...</td>\n",
       "      <td>...</td>\n",
       "      <td>...</td>\n",
       "      <td>...</td>\n",
       "    </tr>\n",
       "    <tr>\n",
       "      <th>6146</th>\n",
       "      <td>2020</td>\n",
       "      <td>12</td>\n",
       "      <td>ADM. KEPULAUAN SERIBU</td>\n",
       "      <td>KEPULAUAN SERIBU SELATAN</td>\n",
       "      <td>PULAU PARI</td>\n",
       "      <td>Perempuan</td>\n",
       "      <td>2</td>\n",
       "      <td>2020</td>\n",
       "    </tr>\n",
       "    <tr>\n",
       "      <th>6178</th>\n",
       "      <td>2020</td>\n",
       "      <td>12</td>\n",
       "      <td>JAKARTA PUSAT</td>\n",
       "      <td>MENTENG</td>\n",
       "      <td>GONDANGDIA</td>\n",
       "      <td>Perempuan</td>\n",
       "      <td>2</td>\n",
       "      <td>2020</td>\n",
       "    </tr>\n",
       "    <tr>\n",
       "      <th>6285</th>\n",
       "      <td>2020</td>\n",
       "      <td>12</td>\n",
       "      <td>JAKARTA SELATAN</td>\n",
       "      <td>SETIA BUDI</td>\n",
       "      <td>SETIA BUDI</td>\n",
       "      <td>Perempuan</td>\n",
       "      <td>2</td>\n",
       "      <td>2020</td>\n",
       "    </tr>\n",
       "    <tr>\n",
       "      <th>6286</th>\n",
       "      <td>2020</td>\n",
       "      <td>12</td>\n",
       "      <td>JAKARTA SELATAN</td>\n",
       "      <td>SETIA BUDI</td>\n",
       "      <td>KARET SEMANGGI</td>\n",
       "      <td>Perempuan</td>\n",
       "      <td>2</td>\n",
       "      <td>2020</td>\n",
       "    </tr>\n",
       "    <tr>\n",
       "      <th>6320</th>\n",
       "      <td>2020</td>\n",
       "      <td>12</td>\n",
       "      <td>JAKARTA SELATAN</td>\n",
       "      <td>KEBAYORAN BARU</td>\n",
       "      <td>RAWA BARAT</td>\n",
       "      <td>Perempuan</td>\n",
       "      <td>2</td>\n",
       "      <td>2020</td>\n",
       "    </tr>\n",
       "  </tbody>\n",
       "</table>\n",
       "<p>165 rows × 8 columns</p>\n",
       "</div>"
      ],
      "text/plain": [
       "      tahun  bulan         kota_kabupaten                 kecamatan  \\\n",
       "3      2020      1  ADM. KEPULAUAN SERIBU  KEPULAUAN SERIBU SELATAN   \n",
       "4      2020      1  ADM. KEPULAUAN SERIBU  KEPULAUAN SERIBU SELATAN   \n",
       "12     2020      1          JAKARTA PUSAT               SAWAH BESAR   \n",
       "25     2020      1          JAKARTA PUSAT                 S E N E N   \n",
       "37     2020      1          JAKARTA PUSAT                   MENTENG   \n",
       "...     ...    ...                    ...                       ...   \n",
       "6146   2020     12  ADM. KEPULAUAN SERIBU  KEPULAUAN SERIBU SELATAN   \n",
       "6178   2020     12          JAKARTA PUSAT                   MENTENG   \n",
       "6285   2020     12        JAKARTA SELATAN                SETIA BUDI   \n",
       "6286   2020     12        JAKARTA SELATAN                SETIA BUDI   \n",
       "6320   2020     12        JAKARTA SELATAN            KEBAYORAN BARU   \n",
       "\n",
       "              kelurahan jenis_kelamin  jumlah  periode_data  \n",
       "3     PULAU UNTUNG JAWA     Laki-Laki       2          2020  \n",
       "4          PULAU TIDUNG     Laki-Laki       2          2020  \n",
       "12           PASAR BARU     Laki-Laki       2          2020  \n",
       "25                SENEN     Laki-Laki       2          2020  \n",
       "37           GONDANGDIA     Laki-Laki       2          2020  \n",
       "...                 ...           ...     ...           ...  \n",
       "6146         PULAU PARI     Perempuan       2          2020  \n",
       "6178         GONDANGDIA     Perempuan       2          2020  \n",
       "6285         SETIA BUDI     Perempuan       2          2020  \n",
       "6286     KARET SEMANGGI     Perempuan       2          2020  \n",
       "6320         RAWA BARAT     Perempuan       2          2020  \n",
       "\n",
       "[165 rows x 8 columns]"
      ]
     },
     "execution_count": 57,
     "metadata": {},
     "output_type": "execute_result"
    }
   ],
   "source": [
    "df[df['jumlah']==2]"
   ]
  },
  {
   "cell_type": "code",
   "execution_count": 58,
   "id": "6ceac260",
   "metadata": {},
   "outputs": [
    {
     "data": {
      "text/html": [
       "<div>\n",
       "<style scoped>\n",
       "    .dataframe tbody tr th:only-of-type {\n",
       "        vertical-align: middle;\n",
       "    }\n",
       "\n",
       "    .dataframe tbody tr th {\n",
       "        vertical-align: top;\n",
       "    }\n",
       "\n",
       "    .dataframe thead th {\n",
       "        text-align: right;\n",
       "    }\n",
       "</style>\n",
       "<table border=\"1\" class=\"dataframe\">\n",
       "  <thead>\n",
       "    <tr style=\"text-align: right;\">\n",
       "      <th></th>\n",
       "      <th>tahun</th>\n",
       "      <th>bulan</th>\n",
       "      <th>kota_kabupaten</th>\n",
       "      <th>kecamatan</th>\n",
       "      <th>kelurahan</th>\n",
       "      <th>jenis_kelamin</th>\n",
       "      <th>jumlah</th>\n",
       "      <th>periode_data</th>\n",
       "    </tr>\n",
       "  </thead>\n",
       "  <tbody>\n",
       "    <tr>\n",
       "      <th>50</th>\n",
       "      <td>2020</td>\n",
       "      <td>1</td>\n",
       "      <td>JAKARTA UTARA</td>\n",
       "      <td>PENJARINGAN</td>\n",
       "      <td>PENJARINGAN</td>\n",
       "      <td>Laki-Laki</td>\n",
       "      <td>27</td>\n",
       "      <td>2020</td>\n",
       "    </tr>\n",
       "    <tr>\n",
       "      <th>56</th>\n",
       "      <td>2020</td>\n",
       "      <td>1</td>\n",
       "      <td>JAKARTA UTARA</td>\n",
       "      <td>TANJUNG PRIOK</td>\n",
       "      <td>SUNTER JAYA</td>\n",
       "      <td>Laki-Laki</td>\n",
       "      <td>29</td>\n",
       "      <td>2020</td>\n",
       "    </tr>\n",
       "    <tr>\n",
       "      <th>57</th>\n",
       "      <td>2020</td>\n",
       "      <td>1</td>\n",
       "      <td>JAKARTA UTARA</td>\n",
       "      <td>TANJUNG PRIOK</td>\n",
       "      <td>PAPANGGO</td>\n",
       "      <td>Laki-Laki</td>\n",
       "      <td>21</td>\n",
       "      <td>2020</td>\n",
       "    </tr>\n",
       "    <tr>\n",
       "      <th>63</th>\n",
       "      <td>2020</td>\n",
       "      <td>1</td>\n",
       "      <td>JAKARTA UTARA</td>\n",
       "      <td>KOJA</td>\n",
       "      <td>TUGU UTARA</td>\n",
       "      <td>Laki-Laki</td>\n",
       "      <td>23</td>\n",
       "      <td>2020</td>\n",
       "    </tr>\n",
       "    <tr>\n",
       "      <th>64</th>\n",
       "      <td>2020</td>\n",
       "      <td>1</td>\n",
       "      <td>JAKARTA UTARA</td>\n",
       "      <td>KOJA</td>\n",
       "      <td>LAGOA</td>\n",
       "      <td>Laki-Laki</td>\n",
       "      <td>34</td>\n",
       "      <td>2020</td>\n",
       "    </tr>\n",
       "    <tr>\n",
       "      <th>...</th>\n",
       "      <td>...</td>\n",
       "      <td>...</td>\n",
       "      <td>...</td>\n",
       "      <td>...</td>\n",
       "      <td>...</td>\n",
       "      <td>...</td>\n",
       "      <td>...</td>\n",
       "      <td>...</td>\n",
       "    </tr>\n",
       "    <tr>\n",
       "      <th>6400</th>\n",
       "      <td>2020</td>\n",
       "      <td>12</td>\n",
       "      <td>JAKARTA TIMUR</td>\n",
       "      <td>CIPAYUNG</td>\n",
       "      <td>CIPAYUNG</td>\n",
       "      <td>Perempuan</td>\n",
       "      <td>23</td>\n",
       "      <td>2020</td>\n",
       "    </tr>\n",
       "    <tr>\n",
       "      <th>6401</th>\n",
       "      <td>2020</td>\n",
       "      <td>12</td>\n",
       "      <td>JAKARTA TIMUR</td>\n",
       "      <td>CIPAYUNG</td>\n",
       "      <td>CILANGKAP</td>\n",
       "      <td>Perempuan</td>\n",
       "      <td>27</td>\n",
       "      <td>2020</td>\n",
       "    </tr>\n",
       "    <tr>\n",
       "      <th>6403</th>\n",
       "      <td>2020</td>\n",
       "      <td>12</td>\n",
       "      <td>JAKARTA TIMUR</td>\n",
       "      <td>CIPAYUNG</td>\n",
       "      <td>MUNJUL</td>\n",
       "      <td>Perempuan</td>\n",
       "      <td>23</td>\n",
       "      <td>2020</td>\n",
       "    </tr>\n",
       "    <tr>\n",
       "      <th>6405</th>\n",
       "      <td>2020</td>\n",
       "      <td>12</td>\n",
       "      <td>JAKARTA TIMUR</td>\n",
       "      <td>CIPAYUNG</td>\n",
       "      <td>BAMBU APUS</td>\n",
       "      <td>Perempuan</td>\n",
       "      <td>22</td>\n",
       "      <td>2020</td>\n",
       "    </tr>\n",
       "    <tr>\n",
       "      <th>6406</th>\n",
       "      <td>2020</td>\n",
       "      <td>12</td>\n",
       "      <td>JAKARTA TIMUR</td>\n",
       "      <td>CIPAYUNG</td>\n",
       "      <td>LUBANG BUAYA</td>\n",
       "      <td>Perempuan</td>\n",
       "      <td>100</td>\n",
       "      <td>2020</td>\n",
       "    </tr>\n",
       "  </tbody>\n",
       "</table>\n",
       "<p>2653 rows × 8 columns</p>\n",
       "</div>"
      ],
      "text/plain": [
       "      tahun  bulan kota_kabupaten      kecamatan     kelurahan jenis_kelamin  \\\n",
       "50     2020      1  JAKARTA UTARA    PENJARINGAN   PENJARINGAN     Laki-Laki   \n",
       "56     2020      1  JAKARTA UTARA  TANJUNG PRIOK   SUNTER JAYA     Laki-Laki   \n",
       "57     2020      1  JAKARTA UTARA  TANJUNG PRIOK      PAPANGGO     Laki-Laki   \n",
       "63     2020      1  JAKARTA UTARA           KOJA    TUGU UTARA     Laki-Laki   \n",
       "64     2020      1  JAKARTA UTARA           KOJA         LAGOA     Laki-Laki   \n",
       "...     ...    ...            ...            ...           ...           ...   \n",
       "6400   2020     12  JAKARTA TIMUR       CIPAYUNG      CIPAYUNG     Perempuan   \n",
       "6401   2020     12  JAKARTA TIMUR       CIPAYUNG     CILANGKAP     Perempuan   \n",
       "6403   2020     12  JAKARTA TIMUR       CIPAYUNG        MUNJUL     Perempuan   \n",
       "6405   2020     12  JAKARTA TIMUR       CIPAYUNG    BAMBU APUS     Perempuan   \n",
       "6406   2020     12  JAKARTA TIMUR       CIPAYUNG  LUBANG BUAYA     Perempuan   \n",
       "\n",
       "      jumlah  periode_data  \n",
       "50        27          2020  \n",
       "56        29          2020  \n",
       "57        21          2020  \n",
       "63        23          2020  \n",
       "64        34          2020  \n",
       "...      ...           ...  \n",
       "6400      23          2020  \n",
       "6401      27          2020  \n",
       "6403      23          2020  \n",
       "6405      22          2020  \n",
       "6406     100          2020  \n",
       "\n",
       "[2653 rows x 8 columns]"
      ]
     },
     "execution_count": 58,
     "metadata": {},
     "output_type": "execute_result"
    }
   ],
   "source": [
    "#For example, we will call the 'jumlah' column where the value is greater than 20\n",
    "\n",
    "df[df['jumlah']>20]"
   ]
  },
  {
   "cell_type": "code",
   "execution_count": 59,
   "id": "24005ea3",
   "metadata": {},
   "outputs": [
    {
     "data": {
      "text/html": [
       "<div>\n",
       "<style scoped>\n",
       "    .dataframe tbody tr th:only-of-type {\n",
       "        vertical-align: middle;\n",
       "    }\n",
       "\n",
       "    .dataframe tbody tr th {\n",
       "        vertical-align: top;\n",
       "    }\n",
       "\n",
       "    .dataframe thead th {\n",
       "        text-align: right;\n",
       "    }\n",
       "</style>\n",
       "<table border=\"1\" class=\"dataframe\">\n",
       "  <thead>\n",
       "    <tr style=\"text-align: right;\">\n",
       "      <th></th>\n",
       "      <th>tahun</th>\n",
       "      <th>bulan</th>\n",
       "      <th>kota_kabupaten</th>\n",
       "      <th>kecamatan</th>\n",
       "      <th>kelurahan</th>\n",
       "      <th>jenis_kelamin</th>\n",
       "      <th>jumlah</th>\n",
       "      <th>periode_data</th>\n",
       "    </tr>\n",
       "  </thead>\n",
       "  <tbody>\n",
       "    <tr>\n",
       "      <th>0</th>\n",
       "      <td>2020</td>\n",
       "      <td>1</td>\n",
       "      <td>ADM. KEPULAUAN SERIBU</td>\n",
       "      <td>KEPULAUAN SERIBU UTARA</td>\n",
       "      <td>PULAU PANGGANG</td>\n",
       "      <td>Laki-Laki</td>\n",
       "      <td>5</td>\n",
       "      <td>2020</td>\n",
       "    </tr>\n",
       "    <tr>\n",
       "      <th>1</th>\n",
       "      <td>2020</td>\n",
       "      <td>1</td>\n",
       "      <td>ADM. KEPULAUAN SERIBU</td>\n",
       "      <td>KEPULAUAN SERIBU UTARA</td>\n",
       "      <td>PULAU KELAPA</td>\n",
       "      <td>Laki-Laki</td>\n",
       "      <td>1</td>\n",
       "      <td>2020</td>\n",
       "    </tr>\n",
       "    <tr>\n",
       "      <th>2</th>\n",
       "      <td>2020</td>\n",
       "      <td>1</td>\n",
       "      <td>ADM. KEPULAUAN SERIBU</td>\n",
       "      <td>KEPULAUAN SERIBU UTARA</td>\n",
       "      <td>PULAU HARAPAN</td>\n",
       "      <td>Laki-Laki</td>\n",
       "      <td>1</td>\n",
       "      <td>2020</td>\n",
       "    </tr>\n",
       "    <tr>\n",
       "      <th>3</th>\n",
       "      <td>2020</td>\n",
       "      <td>1</td>\n",
       "      <td>ADM. KEPULAUAN SERIBU</td>\n",
       "      <td>KEPULAUAN SERIBU SELATAN</td>\n",
       "      <td>PULAU UNTUNG JAWA</td>\n",
       "      <td>Laki-Laki</td>\n",
       "      <td>2</td>\n",
       "      <td>2020</td>\n",
       "    </tr>\n",
       "    <tr>\n",
       "      <th>4</th>\n",
       "      <td>2020</td>\n",
       "      <td>1</td>\n",
       "      <td>ADM. KEPULAUAN SERIBU</td>\n",
       "      <td>KEPULAUAN SERIBU SELATAN</td>\n",
       "      <td>PULAU TIDUNG</td>\n",
       "      <td>Laki-Laki</td>\n",
       "      <td>2</td>\n",
       "      <td>2020</td>\n",
       "    </tr>\n",
       "    <tr>\n",
       "      <th>...</th>\n",
       "      <td>...</td>\n",
       "      <td>...</td>\n",
       "      <td>...</td>\n",
       "      <td>...</td>\n",
       "      <td>...</td>\n",
       "      <td>...</td>\n",
       "      <td>...</td>\n",
       "      <td>...</td>\n",
       "    </tr>\n",
       "    <tr>\n",
       "      <th>6391</th>\n",
       "      <td>2020</td>\n",
       "      <td>12</td>\n",
       "      <td>JAKARTA TIMUR</td>\n",
       "      <td>MAKASAR</td>\n",
       "      <td>PINANG RANTI</td>\n",
       "      <td>Perempuan</td>\n",
       "      <td>20</td>\n",
       "      <td>2020</td>\n",
       "    </tr>\n",
       "    <tr>\n",
       "      <th>6398</th>\n",
       "      <td>2020</td>\n",
       "      <td>12</td>\n",
       "      <td>JAKARTA TIMUR</td>\n",
       "      <td>CIRACAS</td>\n",
       "      <td>SUSUKAN</td>\n",
       "      <td>Perempuan</td>\n",
       "      <td>19</td>\n",
       "      <td>2020</td>\n",
       "    </tr>\n",
       "    <tr>\n",
       "      <th>6402</th>\n",
       "      <td>2020</td>\n",
       "      <td>12</td>\n",
       "      <td>JAKARTA TIMUR</td>\n",
       "      <td>CIPAYUNG</td>\n",
       "      <td>PONDOK RANGGON</td>\n",
       "      <td>Perempuan</td>\n",
       "      <td>14</td>\n",
       "      <td>2020</td>\n",
       "    </tr>\n",
       "    <tr>\n",
       "      <th>6404</th>\n",
       "      <td>2020</td>\n",
       "      <td>12</td>\n",
       "      <td>JAKARTA TIMUR</td>\n",
       "      <td>CIPAYUNG</td>\n",
       "      <td>SETU</td>\n",
       "      <td>Perempuan</td>\n",
       "      <td>20</td>\n",
       "      <td>2020</td>\n",
       "    </tr>\n",
       "    <tr>\n",
       "      <th>6407</th>\n",
       "      <td>2020</td>\n",
       "      <td>12</td>\n",
       "      <td>JAKARTA TIMUR</td>\n",
       "      <td>CIPAYUNG</td>\n",
       "      <td>CEGER</td>\n",
       "      <td>Perempuan</td>\n",
       "      <td>16</td>\n",
       "      <td>2020</td>\n",
       "    </tr>\n",
       "  </tbody>\n",
       "</table>\n",
       "<p>3755 rows × 8 columns</p>\n",
       "</div>"
      ],
      "text/plain": [
       "      tahun  bulan         kota_kabupaten                 kecamatan  \\\n",
       "0      2020      1  ADM. KEPULAUAN SERIBU    KEPULAUAN SERIBU UTARA   \n",
       "1      2020      1  ADM. KEPULAUAN SERIBU    KEPULAUAN SERIBU UTARA   \n",
       "2      2020      1  ADM. KEPULAUAN SERIBU    KEPULAUAN SERIBU UTARA   \n",
       "3      2020      1  ADM. KEPULAUAN SERIBU  KEPULAUAN SERIBU SELATAN   \n",
       "4      2020      1  ADM. KEPULAUAN SERIBU  KEPULAUAN SERIBU SELATAN   \n",
       "...     ...    ...                    ...                       ...   \n",
       "6391   2020     12          JAKARTA TIMUR                   MAKASAR   \n",
       "6398   2020     12          JAKARTA TIMUR                   CIRACAS   \n",
       "6402   2020     12          JAKARTA TIMUR                  CIPAYUNG   \n",
       "6404   2020     12          JAKARTA TIMUR                  CIPAYUNG   \n",
       "6407   2020     12          JAKARTA TIMUR                  CIPAYUNG   \n",
       "\n",
       "              kelurahan jenis_kelamin  jumlah  periode_data  \n",
       "0        PULAU PANGGANG     Laki-Laki       5          2020  \n",
       "1          PULAU KELAPA     Laki-Laki       1          2020  \n",
       "2         PULAU HARAPAN     Laki-Laki       1          2020  \n",
       "3     PULAU UNTUNG JAWA     Laki-Laki       2          2020  \n",
       "4          PULAU TIDUNG     Laki-Laki       2          2020  \n",
       "...                 ...           ...     ...           ...  \n",
       "6391       PINANG RANTI     Perempuan      20          2020  \n",
       "6398            SUSUKAN     Perempuan      19          2020  \n",
       "6402     PONDOK RANGGON     Perempuan      14          2020  \n",
       "6404               SETU     Perempuan      20          2020  \n",
       "6407              CEGER     Perempuan      16          2020  \n",
       "\n",
       "[3755 rows x 8 columns]"
      ]
     },
     "execution_count": 59,
     "metadata": {},
     "output_type": "execute_result"
    }
   ],
   "source": [
    "#For example, we will call the 'jumlah' column where the value is less than or equal to 20\n",
    "\n",
    "df[~(df['jumlah']>20)]"
   ]
  },
  {
   "cell_type": "code",
   "execution_count": 60,
   "id": "869c47cc",
   "metadata": {},
   "outputs": [
    {
     "data": {
      "text/html": [
       "<div>\n",
       "<style scoped>\n",
       "    .dataframe tbody tr th:only-of-type {\n",
       "        vertical-align: middle;\n",
       "    }\n",
       "\n",
       "    .dataframe tbody tr th {\n",
       "        vertical-align: top;\n",
       "    }\n",
       "\n",
       "    .dataframe thead th {\n",
       "        text-align: right;\n",
       "    }\n",
       "</style>\n",
       "<table border=\"1\" class=\"dataframe\">\n",
       "  <thead>\n",
       "    <tr style=\"text-align: right;\">\n",
       "      <th></th>\n",
       "      <th>tahun</th>\n",
       "      <th>bulan</th>\n",
       "      <th>kota_kabupaten</th>\n",
       "      <th>kecamatan</th>\n",
       "      <th>kelurahan</th>\n",
       "      <th>jenis_kelamin</th>\n",
       "      <th>jumlah</th>\n",
       "      <th>periode_data</th>\n",
       "    </tr>\n",
       "  </thead>\n",
       "  <tbody>\n",
       "    <tr>\n",
       "      <th>261</th>\n",
       "      <td>2020</td>\n",
       "      <td>1</td>\n",
       "      <td>JAKARTA TIMUR</td>\n",
       "      <td>CIRACAS</td>\n",
       "      <td>CIRACAS</td>\n",
       "      <td>Perempuan</td>\n",
       "      <td>22</td>\n",
       "      <td>2020</td>\n",
       "    </tr>\n",
       "    <tr>\n",
       "      <th>262</th>\n",
       "      <td>2020</td>\n",
       "      <td>1</td>\n",
       "      <td>JAKARTA TIMUR</td>\n",
       "      <td>CIRACAS</td>\n",
       "      <td>CIBUBUR</td>\n",
       "      <td>Perempuan</td>\n",
       "      <td>30</td>\n",
       "      <td>2020</td>\n",
       "    </tr>\n",
       "    <tr>\n",
       "      <th>473</th>\n",
       "      <td>2020</td>\n",
       "      <td>1</td>\n",
       "      <td>JAKARTA UTARA</td>\n",
       "      <td>PENJARINGAN</td>\n",
       "      <td>PENJARINGAN</td>\n",
       "      <td>Perempuan</td>\n",
       "      <td>29</td>\n",
       "      <td>2020</td>\n",
       "    </tr>\n",
       "    <tr>\n",
       "      <th>479</th>\n",
       "      <td>2020</td>\n",
       "      <td>1</td>\n",
       "      <td>JAKARTA UTARA</td>\n",
       "      <td>TANJUNG PRIOK</td>\n",
       "      <td>SUNTER JAYA</td>\n",
       "      <td>Perempuan</td>\n",
       "      <td>30</td>\n",
       "      <td>2020</td>\n",
       "    </tr>\n",
       "    <tr>\n",
       "      <th>483</th>\n",
       "      <td>2020</td>\n",
       "      <td>1</td>\n",
       "      <td>JAKARTA UTARA</td>\n",
       "      <td>TANJUNG PRIOK</td>\n",
       "      <td>SUNTER AGUNG</td>\n",
       "      <td>Perempuan</td>\n",
       "      <td>25</td>\n",
       "      <td>2020</td>\n",
       "    </tr>\n",
       "    <tr>\n",
       "      <th>...</th>\n",
       "      <td>...</td>\n",
       "      <td>...</td>\n",
       "      <td>...</td>\n",
       "      <td>...</td>\n",
       "      <td>...</td>\n",
       "      <td>...</td>\n",
       "      <td>...</td>\n",
       "      <td>...</td>\n",
       "    </tr>\n",
       "    <tr>\n",
       "      <th>6400</th>\n",
       "      <td>2020</td>\n",
       "      <td>12</td>\n",
       "      <td>JAKARTA TIMUR</td>\n",
       "      <td>CIPAYUNG</td>\n",
       "      <td>CIPAYUNG</td>\n",
       "      <td>Perempuan</td>\n",
       "      <td>23</td>\n",
       "      <td>2020</td>\n",
       "    </tr>\n",
       "    <tr>\n",
       "      <th>6401</th>\n",
       "      <td>2020</td>\n",
       "      <td>12</td>\n",
       "      <td>JAKARTA TIMUR</td>\n",
       "      <td>CIPAYUNG</td>\n",
       "      <td>CILANGKAP</td>\n",
       "      <td>Perempuan</td>\n",
       "      <td>27</td>\n",
       "      <td>2020</td>\n",
       "    </tr>\n",
       "    <tr>\n",
       "      <th>6403</th>\n",
       "      <td>2020</td>\n",
       "      <td>12</td>\n",
       "      <td>JAKARTA TIMUR</td>\n",
       "      <td>CIPAYUNG</td>\n",
       "      <td>MUNJUL</td>\n",
       "      <td>Perempuan</td>\n",
       "      <td>23</td>\n",
       "      <td>2020</td>\n",
       "    </tr>\n",
       "    <tr>\n",
       "      <th>6405</th>\n",
       "      <td>2020</td>\n",
       "      <td>12</td>\n",
       "      <td>JAKARTA TIMUR</td>\n",
       "      <td>CIPAYUNG</td>\n",
       "      <td>BAMBU APUS</td>\n",
       "      <td>Perempuan</td>\n",
       "      <td>22</td>\n",
       "      <td>2020</td>\n",
       "    </tr>\n",
       "    <tr>\n",
       "      <th>6406</th>\n",
       "      <td>2020</td>\n",
       "      <td>12</td>\n",
       "      <td>JAKARTA TIMUR</td>\n",
       "      <td>CIPAYUNG</td>\n",
       "      <td>LUBANG BUAYA</td>\n",
       "      <td>Perempuan</td>\n",
       "      <td>100</td>\n",
       "      <td>2020</td>\n",
       "    </tr>\n",
       "  </tbody>\n",
       "</table>\n",
       "<p>1248 rows × 8 columns</p>\n",
       "</div>"
      ],
      "text/plain": [
       "      tahun  bulan kota_kabupaten      kecamatan     kelurahan jenis_kelamin  \\\n",
       "261    2020      1  JAKARTA TIMUR        CIRACAS       CIRACAS     Perempuan   \n",
       "262    2020      1  JAKARTA TIMUR        CIRACAS       CIBUBUR     Perempuan   \n",
       "473    2020      1  JAKARTA UTARA    PENJARINGAN   PENJARINGAN     Perempuan   \n",
       "479    2020      1  JAKARTA UTARA  TANJUNG PRIOK   SUNTER JAYA     Perempuan   \n",
       "483    2020      1  JAKARTA UTARA  TANJUNG PRIOK  SUNTER AGUNG     Perempuan   \n",
       "...     ...    ...            ...            ...           ...           ...   \n",
       "6400   2020     12  JAKARTA TIMUR       CIPAYUNG      CIPAYUNG     Perempuan   \n",
       "6401   2020     12  JAKARTA TIMUR       CIPAYUNG     CILANGKAP     Perempuan   \n",
       "6403   2020     12  JAKARTA TIMUR       CIPAYUNG        MUNJUL     Perempuan   \n",
       "6405   2020     12  JAKARTA TIMUR       CIPAYUNG    BAMBU APUS     Perempuan   \n",
       "6406   2020     12  JAKARTA TIMUR       CIPAYUNG  LUBANG BUAYA     Perempuan   \n",
       "\n",
       "      jumlah  periode_data  \n",
       "261       22          2020  \n",
       "262       30          2020  \n",
       "473       29          2020  \n",
       "479       30          2020  \n",
       "483       25          2020  \n",
       "...      ...           ...  \n",
       "6400      23          2020  \n",
       "6401      27          2020  \n",
       "6403      23          2020  \n",
       "6405      22          2020  \n",
       "6406     100          2020  \n",
       "\n",
       "[1248 rows x 8 columns]"
      ]
     },
     "execution_count": 60,
     "metadata": {},
     "output_type": "execute_result"
    }
   ],
   "source": [
    "#For example, we will call the 'jumlah' column where the value is greater than 20 and the 'jenis_kelamin' column is Female\n",
    "\n",
    "df[(df['jumlah']>20)&(df['jenis_kelamin']=='Perempuan')]"
   ]
  },
  {
   "cell_type": "code",
   "execution_count": 61,
   "id": "ab34fafe",
   "metadata": {},
   "outputs": [
    {
     "data": {
      "text/html": [
       "<div>\n",
       "<style scoped>\n",
       "    .dataframe tbody tr th:only-of-type {\n",
       "        vertical-align: middle;\n",
       "    }\n",
       "\n",
       "    .dataframe tbody tr th {\n",
       "        vertical-align: top;\n",
       "    }\n",
       "\n",
       "    .dataframe thead th {\n",
       "        text-align: right;\n",
       "    }\n",
       "</style>\n",
       "<table border=\"1\" class=\"dataframe\">\n",
       "  <thead>\n",
       "    <tr style=\"text-align: right;\">\n",
       "      <th></th>\n",
       "      <th>tahun</th>\n",
       "      <th>bulan</th>\n",
       "      <th>kota_kabupaten</th>\n",
       "      <th>kecamatan</th>\n",
       "      <th>kelurahan</th>\n",
       "      <th>jenis_kelamin</th>\n",
       "      <th>jumlah</th>\n",
       "      <th>periode_data</th>\n",
       "    </tr>\n",
       "  </thead>\n",
       "  <tbody>\n",
       "    <tr>\n",
       "      <th>50</th>\n",
       "      <td>2020</td>\n",
       "      <td>1</td>\n",
       "      <td>JAKARTA UTARA</td>\n",
       "      <td>PENJARINGAN</td>\n",
       "      <td>PENJARINGAN</td>\n",
       "      <td>Laki-Laki</td>\n",
       "      <td>27</td>\n",
       "      <td>2020</td>\n",
       "    </tr>\n",
       "    <tr>\n",
       "      <th>56</th>\n",
       "      <td>2020</td>\n",
       "      <td>1</td>\n",
       "      <td>JAKARTA UTARA</td>\n",
       "      <td>TANJUNG PRIOK</td>\n",
       "      <td>SUNTER JAYA</td>\n",
       "      <td>Laki-Laki</td>\n",
       "      <td>29</td>\n",
       "      <td>2020</td>\n",
       "    </tr>\n",
       "    <tr>\n",
       "      <th>57</th>\n",
       "      <td>2020</td>\n",
       "      <td>1</td>\n",
       "      <td>JAKARTA UTARA</td>\n",
       "      <td>TANJUNG PRIOK</td>\n",
       "      <td>PAPANGGO</td>\n",
       "      <td>Laki-Laki</td>\n",
       "      <td>21</td>\n",
       "      <td>2020</td>\n",
       "    </tr>\n",
       "    <tr>\n",
       "      <th>63</th>\n",
       "      <td>2020</td>\n",
       "      <td>1</td>\n",
       "      <td>JAKARTA UTARA</td>\n",
       "      <td>KOJA</td>\n",
       "      <td>TUGU UTARA</td>\n",
       "      <td>Laki-Laki</td>\n",
       "      <td>23</td>\n",
       "      <td>2020</td>\n",
       "    </tr>\n",
       "    <tr>\n",
       "      <th>64</th>\n",
       "      <td>2020</td>\n",
       "      <td>1</td>\n",
       "      <td>JAKARTA UTARA</td>\n",
       "      <td>KOJA</td>\n",
       "      <td>LAGOA</td>\n",
       "      <td>Laki-Laki</td>\n",
       "      <td>34</td>\n",
       "      <td>2020</td>\n",
       "    </tr>\n",
       "    <tr>\n",
       "      <th>...</th>\n",
       "      <td>...</td>\n",
       "      <td>...</td>\n",
       "      <td>...</td>\n",
       "      <td>...</td>\n",
       "      <td>...</td>\n",
       "      <td>...</td>\n",
       "      <td>...</td>\n",
       "      <td>...</td>\n",
       "    </tr>\n",
       "    <tr>\n",
       "      <th>6400</th>\n",
       "      <td>2020</td>\n",
       "      <td>12</td>\n",
       "      <td>JAKARTA TIMUR</td>\n",
       "      <td>CIPAYUNG</td>\n",
       "      <td>CIPAYUNG</td>\n",
       "      <td>Perempuan</td>\n",
       "      <td>23</td>\n",
       "      <td>2020</td>\n",
       "    </tr>\n",
       "    <tr>\n",
       "      <th>6401</th>\n",
       "      <td>2020</td>\n",
       "      <td>12</td>\n",
       "      <td>JAKARTA TIMUR</td>\n",
       "      <td>CIPAYUNG</td>\n",
       "      <td>CILANGKAP</td>\n",
       "      <td>Perempuan</td>\n",
       "      <td>27</td>\n",
       "      <td>2020</td>\n",
       "    </tr>\n",
       "    <tr>\n",
       "      <th>6403</th>\n",
       "      <td>2020</td>\n",
       "      <td>12</td>\n",
       "      <td>JAKARTA TIMUR</td>\n",
       "      <td>CIPAYUNG</td>\n",
       "      <td>MUNJUL</td>\n",
       "      <td>Perempuan</td>\n",
       "      <td>23</td>\n",
       "      <td>2020</td>\n",
       "    </tr>\n",
       "    <tr>\n",
       "      <th>6405</th>\n",
       "      <td>2020</td>\n",
       "      <td>12</td>\n",
       "      <td>JAKARTA TIMUR</td>\n",
       "      <td>CIPAYUNG</td>\n",
       "      <td>BAMBU APUS</td>\n",
       "      <td>Perempuan</td>\n",
       "      <td>22</td>\n",
       "      <td>2020</td>\n",
       "    </tr>\n",
       "    <tr>\n",
       "      <th>6406</th>\n",
       "      <td>2020</td>\n",
       "      <td>12</td>\n",
       "      <td>JAKARTA TIMUR</td>\n",
       "      <td>CIPAYUNG</td>\n",
       "      <td>LUBANG BUAYA</td>\n",
       "      <td>Perempuan</td>\n",
       "      <td>100</td>\n",
       "      <td>2020</td>\n",
       "    </tr>\n",
       "  </tbody>\n",
       "</table>\n",
       "<p>2653 rows × 8 columns</p>\n",
       "</div>"
      ],
      "text/plain": [
       "      tahun  bulan kota_kabupaten      kecamatan     kelurahan jenis_kelamin  \\\n",
       "50     2020      1  JAKARTA UTARA    PENJARINGAN   PENJARINGAN     Laki-Laki   \n",
       "56     2020      1  JAKARTA UTARA  TANJUNG PRIOK   SUNTER JAYA     Laki-Laki   \n",
       "57     2020      1  JAKARTA UTARA  TANJUNG PRIOK      PAPANGGO     Laki-Laki   \n",
       "63     2020      1  JAKARTA UTARA           KOJA    TUGU UTARA     Laki-Laki   \n",
       "64     2020      1  JAKARTA UTARA           KOJA         LAGOA     Laki-Laki   \n",
       "...     ...    ...            ...            ...           ...           ...   \n",
       "6400   2020     12  JAKARTA TIMUR       CIPAYUNG      CIPAYUNG     Perempuan   \n",
       "6401   2020     12  JAKARTA TIMUR       CIPAYUNG     CILANGKAP     Perempuan   \n",
       "6403   2020     12  JAKARTA TIMUR       CIPAYUNG        MUNJUL     Perempuan   \n",
       "6405   2020     12  JAKARTA TIMUR       CIPAYUNG    BAMBU APUS     Perempuan   \n",
       "6406   2020     12  JAKARTA TIMUR       CIPAYUNG  LUBANG BUAYA     Perempuan   \n",
       "\n",
       "      jumlah  periode_data  \n",
       "50        27          2020  \n",
       "56        29          2020  \n",
       "57        21          2020  \n",
       "63        23          2020  \n",
       "64        34          2020  \n",
       "...      ...           ...  \n",
       "6400      23          2020  \n",
       "6401      27          2020  \n",
       "6403      23          2020  \n",
       "6405      22          2020  \n",
       "6406     100          2020  \n",
       "\n",
       "[2653 rows x 8 columns]"
      ]
     },
     "execution_count": 61,
     "metadata": {},
     "output_type": "execute_result"
    }
   ],
   "source": [
    "#For example, we will call the 'jumlah' column where the value is greater than 20 or the 'jenis_kelamin' column is female\n",
    "\n",
    "df[(df['jumlah']>20)|(df['jenis_kelamin']=='perempuan')]"
   ]
  },
  {
   "cell_type": "code",
   "execution_count": 62,
   "id": "20bc5a9c",
   "metadata": {},
   "outputs": [
    {
     "data": {
      "text/html": [
       "<div>\n",
       "<style scoped>\n",
       "    .dataframe tbody tr th:only-of-type {\n",
       "        vertical-align: middle;\n",
       "    }\n",
       "\n",
       "    .dataframe tbody tr th {\n",
       "        vertical-align: top;\n",
       "    }\n",
       "\n",
       "    .dataframe thead th {\n",
       "        text-align: right;\n",
       "    }\n",
       "</style>\n",
       "<table border=\"1\" class=\"dataframe\">\n",
       "  <thead>\n",
       "    <tr style=\"text-align: right;\">\n",
       "      <th></th>\n",
       "      <th>tahun</th>\n",
       "      <th>bulan</th>\n",
       "      <th>kota_kabupaten</th>\n",
       "      <th>kecamatan</th>\n",
       "      <th>kelurahan</th>\n",
       "      <th>jenis_kelamin</th>\n",
       "      <th>jumlah</th>\n",
       "      <th>periode_data</th>\n",
       "    </tr>\n",
       "  </thead>\n",
       "  <tbody>\n",
       "    <tr>\n",
       "      <th>359</th>\n",
       "      <td>2020</td>\n",
       "      <td>2</td>\n",
       "      <td>JAKARTA BARAT</td>\n",
       "      <td>CENGKARENG</td>\n",
       "      <td>KAPUK</td>\n",
       "      <td>Laki-Laki</td>\n",
       "      <td>51</td>\n",
       "      <td>2020</td>\n",
       "    </tr>\n",
       "    <tr>\n",
       "      <th>864</th>\n",
       "      <td>2020</td>\n",
       "      <td>2</td>\n",
       "      <td>JAKARTA UTARA</td>\n",
       "      <td>KOJA</td>\n",
       "      <td>TUGU UTARA</td>\n",
       "      <td>Perempuan</td>\n",
       "      <td>51</td>\n",
       "      <td>2020</td>\n",
       "    </tr>\n",
       "    <tr>\n",
       "      <th>1328</th>\n",
       "      <td>2020</td>\n",
       "      <td>3</td>\n",
       "      <td>JAKARTA BARAT</td>\n",
       "      <td>CENGKARENG</td>\n",
       "      <td>KAPUK</td>\n",
       "      <td>Laki-Laki</td>\n",
       "      <td>74</td>\n",
       "      <td>2020</td>\n",
       "    </tr>\n",
       "    <tr>\n",
       "      <th>2001</th>\n",
       "      <td>2020</td>\n",
       "      <td>5</td>\n",
       "      <td>JAKARTA UTARA</td>\n",
       "      <td>CILINCING</td>\n",
       "      <td>KALI BARU</td>\n",
       "      <td>Laki-Laki</td>\n",
       "      <td>57</td>\n",
       "      <td>2020</td>\n",
       "    </tr>\n",
       "    <tr>\n",
       "      <th>2373</th>\n",
       "      <td>2020</td>\n",
       "      <td>5</td>\n",
       "      <td>JAKARTA UTARA</td>\n",
       "      <td>CILINCING</td>\n",
       "      <td>KALI BARU</td>\n",
       "      <td>Perempuan</td>\n",
       "      <td>57</td>\n",
       "      <td>2020</td>\n",
       "    </tr>\n",
       "    <tr>\n",
       "      <th>...</th>\n",
       "      <td>...</td>\n",
       "      <td>...</td>\n",
       "      <td>...</td>\n",
       "      <td>...</td>\n",
       "      <td>...</td>\n",
       "      <td>...</td>\n",
       "      <td>...</td>\n",
       "      <td>...</td>\n",
       "    </tr>\n",
       "    <tr>\n",
       "      <th>6384</th>\n",
       "      <td>2020</td>\n",
       "      <td>12</td>\n",
       "      <td>JAKARTA TIMUR</td>\n",
       "      <td>DUREN SAWIT</td>\n",
       "      <td>PONDOK BAMBU</td>\n",
       "      <td>Perempuan</td>\n",
       "      <td>55</td>\n",
       "      <td>2020</td>\n",
       "    </tr>\n",
       "    <tr>\n",
       "      <th>6385</th>\n",
       "      <td>2020</td>\n",
       "      <td>12</td>\n",
       "      <td>JAKARTA TIMUR</td>\n",
       "      <td>DUREN SAWIT</td>\n",
       "      <td>KLENDER</td>\n",
       "      <td>Perempuan</td>\n",
       "      <td>60</td>\n",
       "      <td>2020</td>\n",
       "    </tr>\n",
       "    <tr>\n",
       "      <th>6386</th>\n",
       "      <td>2020</td>\n",
       "      <td>12</td>\n",
       "      <td>JAKARTA TIMUR</td>\n",
       "      <td>DUREN SAWIT</td>\n",
       "      <td>PONDOK KELAPA</td>\n",
       "      <td>Perempuan</td>\n",
       "      <td>68</td>\n",
       "      <td>2020</td>\n",
       "    </tr>\n",
       "    <tr>\n",
       "      <th>6396</th>\n",
       "      <td>2020</td>\n",
       "      <td>12</td>\n",
       "      <td>JAKARTA TIMUR</td>\n",
       "      <td>CIRACAS</td>\n",
       "      <td>CIBUBUR</td>\n",
       "      <td>Perempuan</td>\n",
       "      <td>56</td>\n",
       "      <td>2020</td>\n",
       "    </tr>\n",
       "    <tr>\n",
       "      <th>6406</th>\n",
       "      <td>2020</td>\n",
       "      <td>12</td>\n",
       "      <td>JAKARTA TIMUR</td>\n",
       "      <td>CIPAYUNG</td>\n",
       "      <td>LUBANG BUAYA</td>\n",
       "      <td>Perempuan</td>\n",
       "      <td>100</td>\n",
       "      <td>2020</td>\n",
       "    </tr>\n",
       "  </tbody>\n",
       "</table>\n",
       "<p>442 rows × 8 columns</p>\n",
       "</div>"
      ],
      "text/plain": [
       "      tahun  bulan kota_kabupaten    kecamatan      kelurahan jenis_kelamin  \\\n",
       "359    2020      2  JAKARTA BARAT   CENGKARENG          KAPUK     Laki-Laki   \n",
       "864    2020      2  JAKARTA UTARA         KOJA     TUGU UTARA     Perempuan   \n",
       "1328   2020      3  JAKARTA BARAT   CENGKARENG          KAPUK     Laki-Laki   \n",
       "2001   2020      5  JAKARTA UTARA    CILINCING      KALI BARU     Laki-Laki   \n",
       "2373   2020      5  JAKARTA UTARA    CILINCING      KALI BARU     Perempuan   \n",
       "...     ...    ...            ...          ...            ...           ...   \n",
       "6384   2020     12  JAKARTA TIMUR  DUREN SAWIT   PONDOK BAMBU     Perempuan   \n",
       "6385   2020     12  JAKARTA TIMUR  DUREN SAWIT        KLENDER     Perempuan   \n",
       "6386   2020     12  JAKARTA TIMUR  DUREN SAWIT  PONDOK KELAPA     Perempuan   \n",
       "6396   2020     12  JAKARTA TIMUR      CIRACAS        CIBUBUR     Perempuan   \n",
       "6406   2020     12  JAKARTA TIMUR     CIPAYUNG   LUBANG BUAYA     Perempuan   \n",
       "\n",
       "      jumlah  periode_data  \n",
       "359       51          2020  \n",
       "864       51          2020  \n",
       "1328      74          2020  \n",
       "2001      57          2020  \n",
       "2373      57          2020  \n",
       "...      ...           ...  \n",
       "6384      55          2020  \n",
       "6385      60          2020  \n",
       "6386      68          2020  \n",
       "6396      56          2020  \n",
       "6406     100          2020  \n",
       "\n",
       "[442 rows x 8 columns]"
      ]
     },
     "execution_count": 62,
     "metadata": {},
     "output_type": "execute_result"
    }
   ],
   "source": [
    "#For example, we will call the 'jumlah' column where the value is between 20 and 50\n",
    "\n",
    "df[((df['jumlah']>20)&(df['jumlah']>50))]"
   ]
  },
  {
   "cell_type": "code",
   "execution_count": 63,
   "id": "24111f07",
   "metadata": {},
   "outputs": [
    {
     "data": {
      "text/html": [
       "<div>\n",
       "<style scoped>\n",
       "    .dataframe tbody tr th:only-of-type {\n",
       "        vertical-align: middle;\n",
       "    }\n",
       "\n",
       "    .dataframe tbody tr th {\n",
       "        vertical-align: top;\n",
       "    }\n",
       "\n",
       "    .dataframe thead th {\n",
       "        text-align: right;\n",
       "    }\n",
       "</style>\n",
       "<table border=\"1\" class=\"dataframe\">\n",
       "  <thead>\n",
       "    <tr style=\"text-align: right;\">\n",
       "      <th></th>\n",
       "      <th>kota_kabupaten</th>\n",
       "      <th>kecamatan</th>\n",
       "      <th>jumlah</th>\n",
       "      <th>jenis_kelamin</th>\n",
       "    </tr>\n",
       "  </thead>\n",
       "  <tbody>\n",
       "    <tr>\n",
       "      <th>259</th>\n",
       "      <td>JAKARTA TIMUR</td>\n",
       "      <td>MAKASAR</td>\n",
       "      <td>3</td>\n",
       "      <td>Perempuan</td>\n",
       "    </tr>\n",
       "    <tr>\n",
       "      <th>260</th>\n",
       "      <td>JAKARTA TIMUR</td>\n",
       "      <td>MAKASAR</td>\n",
       "      <td>11</td>\n",
       "      <td>Perempuan</td>\n",
       "    </tr>\n",
       "    <tr>\n",
       "      <th>261</th>\n",
       "      <td>JAKARTA TIMUR</td>\n",
       "      <td>CIRACAS</td>\n",
       "      <td>22</td>\n",
       "      <td>Perempuan</td>\n",
       "    </tr>\n",
       "    <tr>\n",
       "      <th>262</th>\n",
       "      <td>JAKARTA TIMUR</td>\n",
       "      <td>CIRACAS</td>\n",
       "      <td>30</td>\n",
       "      <td>Perempuan</td>\n",
       "    </tr>\n",
       "    <tr>\n",
       "      <th>263</th>\n",
       "      <td>JAKARTA TIMUR</td>\n",
       "      <td>CIRACAS</td>\n",
       "      <td>18</td>\n",
       "      <td>Perempuan</td>\n",
       "    </tr>\n",
       "    <tr>\n",
       "      <th>...</th>\n",
       "      <td>...</td>\n",
       "      <td>...</td>\n",
       "      <td>...</td>\n",
       "      <td>...</td>\n",
       "    </tr>\n",
       "    <tr>\n",
       "      <th>6403</th>\n",
       "      <td>JAKARTA TIMUR</td>\n",
       "      <td>CIPAYUNG</td>\n",
       "      <td>23</td>\n",
       "      <td>Perempuan</td>\n",
       "    </tr>\n",
       "    <tr>\n",
       "      <th>6404</th>\n",
       "      <td>JAKARTA TIMUR</td>\n",
       "      <td>CIPAYUNG</td>\n",
       "      <td>20</td>\n",
       "      <td>Perempuan</td>\n",
       "    </tr>\n",
       "    <tr>\n",
       "      <th>6405</th>\n",
       "      <td>JAKARTA TIMUR</td>\n",
       "      <td>CIPAYUNG</td>\n",
       "      <td>22</td>\n",
       "      <td>Perempuan</td>\n",
       "    </tr>\n",
       "    <tr>\n",
       "      <th>6406</th>\n",
       "      <td>JAKARTA TIMUR</td>\n",
       "      <td>CIPAYUNG</td>\n",
       "      <td>100</td>\n",
       "      <td>Perempuan</td>\n",
       "    </tr>\n",
       "    <tr>\n",
       "      <th>6407</th>\n",
       "      <td>JAKARTA TIMUR</td>\n",
       "      <td>CIPAYUNG</td>\n",
       "      <td>16</td>\n",
       "      <td>Perempuan</td>\n",
       "    </tr>\n",
       "  </tbody>\n",
       "</table>\n",
       "<p>3255 rows × 4 columns</p>\n",
       "</div>"
      ],
      "text/plain": [
       "     kota_kabupaten kecamatan  jumlah jenis_kelamin\n",
       "259   JAKARTA TIMUR   MAKASAR       3     Perempuan\n",
       "260   JAKARTA TIMUR   MAKASAR      11     Perempuan\n",
       "261   JAKARTA TIMUR   CIRACAS      22     Perempuan\n",
       "262   JAKARTA TIMUR   CIRACAS      30     Perempuan\n",
       "263   JAKARTA TIMUR   CIRACAS      18     Perempuan\n",
       "...             ...       ...     ...           ...\n",
       "6403  JAKARTA TIMUR  CIPAYUNG      23     Perempuan\n",
       "6404  JAKARTA TIMUR  CIPAYUNG      20     Perempuan\n",
       "6405  JAKARTA TIMUR  CIPAYUNG      22     Perempuan\n",
       "6406  JAKARTA TIMUR  CIPAYUNG     100     Perempuan\n",
       "6407  JAKARTA TIMUR  CIPAYUNG      16     Perempuan\n",
       "\n",
       "[3255 rows x 4 columns]"
      ]
     },
     "execution_count": 63,
     "metadata": {},
     "output_type": "execute_result"
    }
   ],
   "source": [
    "#For example, we will call the 'kota_kabupaten' and 'kecamatan' columns where the jumlah is greater than 80 or the 'jenis_kelamin' column is female\n",
    "\n",
    "df[['kota_kabupaten','kecamatan','jumlah','jenis_kelamin']][(df['jumlah']>80)|(df['jenis_kelamin']=='Perempuan')]"
   ]
  }
 ],
 "metadata": {
  "kernelspec": {
   "display_name": "Python 3 (ipykernel)",
   "language": "python",
   "name": "python3"
  },
  "language_info": {
   "codemirror_mode": {
    "name": "ipython",
    "version": 3
   },
   "file_extension": ".py",
   "mimetype": "text/x-python",
   "name": "python",
   "nbconvert_exporter": "python",
   "pygments_lexer": "ipython3",
   "version": "3.11.7"
  }
 },
 "nbformat": 4,
 "nbformat_minor": 5
}
