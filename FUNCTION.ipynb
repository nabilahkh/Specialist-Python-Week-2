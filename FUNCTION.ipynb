{
 "cells": [
  {
   "cell_type": "markdown",
   "id": "31279e85-76ca-4cb7-9574-d048d832537f",
   "metadata": {},
   "source": [
    "# FUNCTION"
   ]
  },
  {
   "cell_type": "markdown",
   "id": "8823e8e4-1122-42e5-b1b7-9e3a5cb2eff3",
   "metadata": {},
   "source": [
    "- In mathematics, a function is a process that relates between an input and an output.\n",
    "- In Python, apart from these relationship functions, functions are also a way to organize code with the ultimate goal of code being reusable.\n",
    "- It's best if functions only have one specific use but can be reused\n",
    "- Common functions are provided by Python\n",
    "- Can define our own functions"
   ]
  },
  {
   "cell_type": "markdown",
   "id": "81f7e0a2-0164-4fea-8f64-c9120e5c61d4",
   "metadata": {},
   "source": [
    "Defining functions"
   ]
  },
  {
   "cell_type": "markdown",
   "id": "458d8943-da3e-4cc0-8532-1ec8347a06b5",
   "metadata": {},
   "source": [
    "- Functions are defined with the def keyword followed by the function name and parameters in brackets ()\n",
    "- Optionally, a docstring can be added - a documentation string that describes the context of the function\n",
    "- The code block in each function starts with a colon and uses indentation\n",
    "- The function stops when there is a return (expression) statement that returns (an expression) to the caller\n",
    "- Can create a function that does not return output with return None"
   ]
  },
  {
   "cell_type": "code",
   "execution_count": 1,
   "id": "f3ac99a0-7894-4148-9488-15e928a454a1",
   "metadata": {},
   "outputs": [],
   "source": [
    "def pangkat(x):\n",
    "    kuadrat = x**2 #fungsi pangkat dua\n",
    "    return kuadrat"
   ]
  },
  {
   "cell_type": "code",
   "execution_count": 2,
   "id": "5445eb39-a0f7-4bc2-9847-5b389b18ff8b",
   "metadata": {},
   "outputs": [
    {
     "data": {
      "text/plain": [
       "25"
      ]
     },
     "execution_count": 2,
     "metadata": {},
     "output_type": "execute_result"
    }
   ],
   "source": [
    "pangkat(5)"
   ]
  },
  {
   "cell_type": "code",
   "execution_count": 3,
   "id": "4df30211-2122-46e7-866c-04aba86fa50e",
   "metadata": {},
   "outputs": [
    {
     "data": {
      "text/plain": [
       "9"
      ]
     },
     "execution_count": 3,
     "metadata": {},
     "output_type": "execute_result"
    }
   ],
   "source": [
    "pangkat(3)"
   ]
  },
  {
   "cell_type": "code",
   "execution_count": 4,
   "id": "869fa002-c010-4df8-9f2d-810359a19f33",
   "metadata": {},
   "outputs": [],
   "source": [
    "def pangkat_tiga(x):\n",
    "    kubik = x**3 #fungsi pangkat tiga\n",
    "    print(kubik)"
   ]
  },
  {
   "cell_type": "code",
   "execution_count": 5,
   "id": "f205a2dd-9461-40f4-a9b4-fbd589810b8e",
   "metadata": {},
   "outputs": [
    {
     "name": "stdout",
     "output_type": "stream",
     "text": [
      "8\n"
     ]
    }
   ],
   "source": [
    "pangkat_tiga(2)"
   ]
  },
  {
   "cell_type": "markdown",
   "id": "cb720822-869d-45ef-aae9-6e1bcd38ec00",
   "metadata": {},
   "source": [
    "By default, Python will position according to the registration order in which it was defined, and must be called in that order"
   ]
  },
  {
   "cell_type": "code",
   "execution_count": 6,
   "id": "e6773062-2dc6-47c1-affa-e109eadc132c",
   "metadata": {},
   "outputs": [],
   "source": [
    "def nama(x):\n",
    "    halo = \"Hai {}\".format(x)\n",
    "    return halo"
   ]
  },
  {
   "cell_type": "code",
   "execution_count": 7,
   "id": "41290d49-6363-40b3-b14f-591f044b5212",
   "metadata": {},
   "outputs": [
    {
     "data": {
      "text/plain": [
       "'Hai Suwarti'"
      ]
     },
     "execution_count": 7,
     "metadata": {},
     "output_type": "execute_result"
    }
   ],
   "source": [
    "nama(\"Suwarti\")"
   ]
  },
  {
   "cell_type": "code",
   "execution_count": 8,
   "id": "11a90ca0-ba75-4f13-8695-9ba03cdb5284",
   "metadata": {},
   "outputs": [
    {
     "data": {
      "text/plain": [
       "'Hai Soe Dal Mi'"
      ]
     },
     "execution_count": 8,
     "metadata": {},
     "output_type": "execute_result"
    }
   ],
   "source": [
    "nama(\"Soe Dal Mi\")"
   ]
  },
  {
   "cell_type": "code",
   "execution_count": null,
   "id": "7f687de0-5af3-4bb2-92ba-3c25d22668d9",
   "metadata": {},
   "outputs": [],
   "source": []
  }
 ],
 "metadata": {
  "kernelspec": {
   "display_name": "Python 3 (ipykernel)",
   "language": "python",
   "name": "python3"
  },
  "language_info": {
   "codemirror_mode": {
    "name": "ipython",
    "version": 3
   },
   "file_extension": ".py",
   "mimetype": "text/x-python",
   "name": "python",
   "nbconvert_exporter": "python",
   "pygments_lexer": "ipython3",
   "version": "3.11.7"
  }
 },
 "nbformat": 4,
 "nbformat_minor": 5
}
