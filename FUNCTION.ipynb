{
 "cells": [
  {
   "cell_type": "markdown",
   "id": "54604fc2",
   "metadata": {},
   "source": [
    "### FUNCTION\n",
    "- In mathematics, a function is a process that relates an input to an output. \n",
    "- In Python, besides serving as this mathematical relation, functions are also a way to organize code - with the ultimate goal of making the code reusable.\n",
    "- Functions should ideally have a specific purpose but be reusable. \n",
    "- While Python provides many built-in functions, we can always define our own.\n",
    "\n",
    "#### Defining a function\n",
    "- Functions are defined using the keyword \"def\" followed by the function name and its parameters in parentheses ().\n",
    "- Optionally, you can add a docstring - a documentation string that explains the function's context.\n",
    "- The block of code within each function starts with a colon : and uses indentation.\n",
    "- A function terminates when there's a return [expression] statement, which returns the [expression] to the caller.\n",
    "- You can also create functions that don't return an output by using return None."
   ]
  },
  {
   "cell_type": "code",
   "execution_count": 1,
   "id": "874a651d",
   "metadata": {},
   "outputs": [],
   "source": [
    "def even_or_odd(num):\n",
    "    return ['Even', 'Odd'][num % 2]"
   ]
  },
  {
   "cell_type": "code",
   "execution_count": 2,
   "id": "9a771685",
   "metadata": {},
   "outputs": [
    {
     "data": {
      "text/plain": [
       "'Even'"
      ]
     },
     "execution_count": 2,
     "metadata": {},
     "output_type": "execute_result"
    }
   ],
   "source": [
    "even_or_odd(24)"
   ]
  },
  {
   "cell_type": "code",
   "execution_count": 3,
   "id": "f6b47b09",
   "metadata": {},
   "outputs": [
    {
     "data": {
      "text/plain": [
       "'Odd'"
      ]
     },
     "execution_count": 3,
     "metadata": {},
     "output_type": "execute_result"
    }
   ],
   "source": [
    "even_or_odd(5)"
   ]
  },
  {
   "cell_type": "markdown",
   "id": "ff37c03c",
   "metadata": {},
   "source": [
    "By default, Python will position each parameter according to the registration sequence when defined, and they must be called in that sequence."
   ]
  },
  {
   "cell_type": "code",
   "execution_count": 4,
   "id": "45d38a59",
   "metadata": {},
   "outputs": [],
   "source": [
    "def name(x):\n",
    "    halo = \"Hello! My Name is {}\".format(x)\n",
    "    return halo"
   ]
  },
  {
   "cell_type": "code",
   "execution_count": 5,
   "id": "f6e09b0f",
   "metadata": {},
   "outputs": [
    {
     "data": {
      "text/plain": [
       "'Hello! My Name is Dinda Ayu'"
      ]
     },
     "execution_count": 5,
     "metadata": {},
     "output_type": "execute_result"
    }
   ],
   "source": [
    "name(\"Dinda Ayu\")"
   ]
  },
  {
   "cell_type": "code",
   "execution_count": 6,
   "id": "be4d6ef6",
   "metadata": {},
   "outputs": [
    {
     "data": {
      "text/plain": [
       "'Hello! My Name is Budi Budiman'"
      ]
     },
     "execution_count": 6,
     "metadata": {},
     "output_type": "execute_result"
    }
   ],
   "source": [
    "name(\"Budi Budiman\")"
   ]
  },
  {
   "cell_type": "markdown",
   "id": "bd8cc8ec",
   "metadata": {},
   "source": [
    "#### RETURN\n",
    "\n",
    "The return [expression] statement will cause the program execution to exit from the function at that point, while also returning a specific value."
   ]
  },
  {
   "cell_type": "code",
   "execution_count": 7,
   "id": "ab91294e",
   "metadata": {},
   "outputs": [],
   "source": [
    "def subtraction(a,b):\n",
    "    minus = a - b #Subtraction function\n",
    "    print(\"The result of subtraction is {}\".format(minus))\n",
    "    return minus"
   ]
  },
  {
   "cell_type": "code",
   "execution_count": 8,
   "id": "d86d4566",
   "metadata": {},
   "outputs": [
    {
     "name": "stdout",
     "output_type": "stream",
     "text": [
      "The result of subtraction is 88\n"
     ]
    },
    {
     "data": {
      "text/plain": [
       "88"
      ]
     },
     "execution_count": 8,
     "metadata": {},
     "output_type": "execute_result"
    }
   ],
   "source": [
    "subtraction(1785,1697)"
   ]
  },
  {
   "cell_type": "code",
   "execution_count": 9,
   "id": "b5fd46b4",
   "metadata": {},
   "outputs": [
    {
     "name": "stdout",
     "output_type": "stream",
     "text": [
      "The result of subtraction is 88\n",
      "The result of subtraction is 88\n"
     ]
    }
   ],
   "source": [
    "output = subtraction(1785,1697)\n",
    "print(\"The result of subtraction is {}\".format(output))"
   ]
  },
  {
   "cell_type": "markdown",
   "id": "b2f0bad0",
   "metadata": {},
   "source": [
    "- The return value of a function can be stored in a variable.\n",
    "- This is what distinguishes a function that returns a value from one that does not (often referred to as a procedure)."
   ]
  },
  {
   "cell_type": "code",
   "execution_count": 10,
   "id": "9be820df",
   "metadata": {},
   "outputs": [],
   "source": [
    "def calculation_operation(a,b):\n",
    "    exponentiation = a ** b\n",
    "    modulo = a % b\n",
    "    floor_division = a // b\n",
    "    return exponentiation"
   ]
  },
  {
   "cell_type": "code",
   "execution_count": 11,
   "id": "a14bef3b",
   "metadata": {},
   "outputs": [
    {
     "data": {
      "text/plain": [
       "8"
      ]
     },
     "execution_count": 11,
     "metadata": {},
     "output_type": "execute_result"
    }
   ],
   "source": [
    "calculation_operation(2,3)"
   ]
  },
  {
   "cell_type": "code",
   "execution_count": 12,
   "id": "bbfd286a",
   "metadata": {},
   "outputs": [
    {
     "name": "stdout",
     "output_type": "stream",
     "text": [
      "The result of exponentiation is 8\n"
     ]
    }
   ],
   "source": [
    "output_exponentiation = calculation_operation(2,3)\n",
    "print(\"The result of exponentiation is {}\".format(output_exponentiation))"
   ]
  },
  {
   "cell_type": "markdown",
   "id": "c02e01ed",
   "metadata": {},
   "source": [
    "#### DOT FORMAT\n",
    "\n",
    "In Python, \"dot format\" commonly refers to the use of the format() method for string formatting. This method allows you to insert values into a string by specifying placeholders and providing the values to substitute."
   ]
  },
  {
   "cell_type": "code",
   "execution_count": 13,
   "id": "113820d4",
   "metadata": {},
   "outputs": [],
   "source": [
    "def format_input():\n",
    "    name = input(\"Enter your name: \")\n",
    "    age = input(\"Enter your age: \")\n",
    "    formatted_message = \"Hello, my name is {} and I am {} years old.\".format(name, age)\n",
    "    return formatted_message"
   ]
  },
  {
   "cell_type": "code",
   "execution_count": 14,
   "id": "0ab7105c",
   "metadata": {},
   "outputs": [
    {
     "name": "stdout",
     "output_type": "stream",
     "text": [
      "Enter your name: Dina\n",
      "Enter your age: 20\n",
      "Hello, my name is Dina and I am 20 years old.\n"
     ]
    }
   ],
   "source": [
    "result = format_input()\n",
    "print(result)"
   ]
  },
  {
   "cell_type": "markdown",
   "id": "0418ebb6",
   "metadata": {},
   "source": [
    "#### Pass by Reference vs Value\n",
    "- All parameters (arguments) in Python are \"passed by reference\". This means that when we modify a variable, the data referenced by it will also change, both inside the function and outside the calling function.\n",
    "- Except if we perform an assignment operation that will change the reference parameter."
   ]
  },
  {
   "cell_type": "code",
   "execution_count": 15,
   "id": "74f44cba",
   "metadata": {},
   "outputs": [],
   "source": [
    "def update_outfit(outfit_list):\n",
    "    outfit_list.append(\"Sunglasses\")\n",
    "    print(\"Outfit items after update:\", outfit_list)"
   ]
  },
  {
   "cell_type": "code",
   "execution_count": 16,
   "id": "0de06187",
   "metadata": {},
   "outputs": [
    {
     "name": "stdout",
     "output_type": "stream",
     "text": [
      "Outfit items after update: ['Shirt', 'Pants', 'Sunglasses']\n"
     ]
    }
   ],
   "source": [
    "update_outfit([\"Shirt\", \"Pants\"])"
   ]
  },
  {
   "cell_type": "code",
   "execution_count": 17,
   "id": "d126a8e8",
   "metadata": {},
   "outputs": [
    {
     "name": "stdout",
     "output_type": "stream",
     "text": [
      "Outfit items after update: ['Dress', 'Heels', 'Sunglasses']\n"
     ]
    }
   ],
   "source": [
    "update_outfit([\"Dress\", \"Heels\"])"
   ]
  },
  {
   "cell_type": "code",
   "execution_count": 18,
   "id": "e9e1c07a",
   "metadata": {},
   "outputs": [
    {
     "name": "stdout",
     "output_type": "stream",
     "text": [
      "Outfit items after update: ['T-shirt', 'Jeans', 'Sunglasses']\n",
      "Current outfit after function call: ['T-shirt', 'Jeans', 'Sunglasses']\n"
     ]
    }
   ],
   "source": [
    "current_outfit = [\"T-shirt\", \"Jeans\"]\n",
    "update_outfit(current_outfit)\n",
    "print(\"Current outfit after function call:\", current_outfit)"
   ]
  },
  {
   "cell_type": "markdown",
   "id": "27258d97",
   "metadata": {},
   "source": [
    "However, we must be careful because assigning a variable with the same name as a parameter creates a new variable in the local scope and is not related to the global variable."
   ]
  }
 ],
 "metadata": {
  "kernelspec": {
   "display_name": "Python 3 (ipykernel)",
   "language": "python",
   "name": "python3"
  },
  "language_info": {
   "codemirror_mode": {
    "name": "ipython",
    "version": 3
   },
   "file_extension": ".py",
   "mimetype": "text/x-python",
   "name": "python",
   "nbconvert_exporter": "python",
   "pygments_lexer": "ipython3",
   "version": "3.11.7"
  }
 },
 "nbformat": 4,
 "nbformat_minor": 5
}
