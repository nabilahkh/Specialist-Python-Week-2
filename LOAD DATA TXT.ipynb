{
 "cells": [
  {
   "cell_type": "markdown",
   "id": "2cf02d3f",
   "metadata": {},
   "source": [
    "### LOAD DATA TXT\n",
    "DateTime is a module in Python that deals with real-time data and time. It provides classes and functions to manipulate and format dates and times. Here are some commonly used classes and functions in the DateTime module.\n",
    "\n",
    "#### OPEN\n",
    "In Python, you can open and read a text file using the built-in open() function. The open() function in Python is used to open a file and return a file (.txt) object.\n",
    "\n",
    "#### READ\n",
    "The read() function in Python is used to read the contents of a file object that has been opened using the open() function. \n",
    "\n",
    "#### Close\n",
    "The close() function in Python is used to close a file that has been opened using the open() function. This is important because it frees up system resources and ensures that any changes made to the file are saved."
   ]
  },
  {
   "cell_type": "code",
   "execution_count": 1,
   "id": "98884312",
   "metadata": {},
   "outputs": [],
   "source": [
    "workFile = open('Nama Anggota.txt', 'r')"
   ]
  },
  {
   "cell_type": "code",
   "execution_count": 2,
   "id": "f4882fb5",
   "metadata": {},
   "outputs": [],
   "source": [
    "workFileContents = workFile.read()"
   ]
  },
  {
   "cell_type": "code",
   "execution_count": 3,
   "id": "0b65b95e",
   "metadata": {},
   "outputs": [
    {
     "name": "stdout",
     "output_type": "stream",
     "text": [
      "Student Name, Gender\n",
      "Rara, Female\n",
      "Bibil, Female\n",
      "Dimas, Male\n",
      "Deva, Female\n",
      "Zalfaa, Female\n",
      "\n"
     ]
    }
   ],
   "source": [
    "print(workFileContents)"
   ]
  },
  {
   "cell_type": "code",
   "execution_count": 4,
   "id": "c70b0043",
   "metadata": {},
   "outputs": [],
   "source": [
    "workFile = open('Nama Anggota.txt', 'r')"
   ]
  },
  {
   "cell_type": "code",
   "execution_count": 5,
   "id": "5251b3dc",
   "metadata": {},
   "outputs": [],
   "source": [
    "workFileFirstLine = workFile.readline()"
   ]
  },
  {
   "cell_type": "code",
   "execution_count": 6,
   "id": "f524f298",
   "metadata": {},
   "outputs": [
    {
     "name": "stdout",
     "output_type": "stream",
     "text": [
      "Student Name, Gender\n",
      "\n"
     ]
    }
   ],
   "source": [
    "print(workFileFirstLine)"
   ]
  },
  {
   "cell_type": "code",
   "execution_count": 7,
   "id": "24c737f2",
   "metadata": {},
   "outputs": [],
   "source": [
    "workFileSecondLine = workFile.readline()"
   ]
  },
  {
   "cell_type": "code",
   "execution_count": 8,
   "id": "c6f113ff",
   "metadata": {},
   "outputs": [
    {
     "name": "stdout",
     "output_type": "stream",
     "text": [
      "Rara, Female\n",
      "\n"
     ]
    }
   ],
   "source": [
    "print(workFileSecondLine)"
   ]
  },
  {
   "cell_type": "code",
   "execution_count": 9,
   "id": "0c91e4e7",
   "metadata": {},
   "outputs": [],
   "source": [
    "workFile.close()"
   ]
  }
 ],
 "metadata": {
  "kernelspec": {
   "display_name": "Python 3 (ipykernel)",
   "language": "python",
   "name": "python3"
  },
  "language_info": {
   "codemirror_mode": {
    "name": "ipython",
    "version": 3
   },
   "file_extension": ".py",
   "mimetype": "text/x-python",
   "name": "python",
   "nbconvert_exporter": "python",
   "pygments_lexer": "ipython3",
   "version": "3.11.7"
  }
 },
 "nbformat": 4,
 "nbformat_minor": 5
}
