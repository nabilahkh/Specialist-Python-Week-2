{
 "cells": [
  {
   "cell_type": "markdown",
   "id": "80ef6ce6-03f8-49d9-8c86-f127b880f41e",
   "metadata": {},
   "source": [
    "# RETURN"
   ]
  },
  {
   "cell_type": "markdown",
   "id": "fe0ae915-d087-4e82-935e-7fcf6d1f88c4",
   "metadata": {},
   "source": [
    "The return [expression] statement will make program execution exit the current function, while returning a certain value."
   ]
  },
  {
   "cell_type": "code",
   "execution_count": 1,
   "id": "ac7a996f-d589-4fdd-956a-4ea71b2e50e8",
   "metadata": {},
   "outputs": [],
   "source": [
    "def tambah(x,y):\n",
    "    plus = x + y #fungsi penjumlahan\n",
    "    print(\"Hasil penjumlahan adalah {}\".format(plus))\n",
    "    return plus"
   ]
  },
  {
   "cell_type": "code",
   "execution_count": 2,
   "id": "963c9830-d385-4ec0-be62-011a5be45cde",
   "metadata": {},
   "outputs": [
    {
     "name": "stdout",
     "output_type": "stream",
     "text": [
      "Hasil penjumlahan adalah 5\n"
     ]
    },
    {
     "data": {
      "text/plain": [
       "5"
      ]
     },
     "execution_count": 2,
     "metadata": {},
     "output_type": "execute_result"
    }
   ],
   "source": [
    "tambah(2,3)"
   ]
  },
  {
   "cell_type": "code",
   "execution_count": 3,
   "id": "0d6063de-d0be-4ff1-8d46-a2f2d9de7c5e",
   "metadata": {},
   "outputs": [
    {
     "name": "stdout",
     "output_type": "stream",
     "text": [
      "Hasil penjumlahan adalah 5\n",
      "Hasil dari return adalah 5\n"
     ]
    }
   ],
   "source": [
    "output = tambah(2,3)\n",
    "print(\"Hasil dari return adalah {}\".format(output))"
   ]
  },
  {
   "cell_type": "markdown",
   "id": "a0b2059e-f6ec-4ba4-a689-98c09c39291f",
   "metadata": {},
   "source": [
    "- The return value of a function can be stored in a variable.\n",
    "- This will differentiate a function that returns a value from a function that does not return a value (often referred to as a procedure)."
   ]
  },
  {
   "cell_type": "code",
   "execution_count": 4,
   "id": "3f1b7b5e-604d-4941-8682-42c1c70dd0c4",
   "metadata": {},
   "outputs": [],
   "source": [
    "def operasi_hitung(a,b):\n",
    "    tambah = a + b\n",
    "    kali = a * b\n",
    "    bagi = a / b\n",
    "    return kali"
   ]
  },
  {
   "cell_type": "code",
   "execution_count": 5,
   "id": "f897f803-a33b-479f-b1e1-86e26ef040a2",
   "metadata": {},
   "outputs": [
    {
     "data": {
      "text/plain": [
       "35"
      ]
     },
     "execution_count": 5,
     "metadata": {},
     "output_type": "execute_result"
    }
   ],
   "source": [
    "operasi_hitung(5,7)"
   ]
  },
  {
   "cell_type": "code",
   "execution_count": 6,
   "id": "08463965-d307-4b62-b86a-6b45bab079d4",
   "metadata": {},
   "outputs": [
    {
     "name": "stdout",
     "output_type": "stream",
     "text": [
      "Hasil adalah 35\n"
     ]
    }
   ],
   "source": [
    "output_tambah = operasi_hitung(5,7)\n",
    "print(\"Hasil adalah {}\".format(output_tambah))"
   ]
  },
  {
   "cell_type": "code",
   "execution_count": 7,
   "id": "f9a8de66-edf0-40e2-a35d-a8f09caecb8e",
   "metadata": {},
   "outputs": [],
   "source": [
    "####"
   ]
  },
  {
   "cell_type": "code",
   "execution_count": 9,
   "id": "04aaad98-7a0e-4e84-a832-77d25f1180bb",
   "metadata": {},
   "outputs": [],
   "source": [
    "# define function\n",
    "\n",
    "def pangkat(x):\n",
    "    kuadrat = x**2 #fungsi pangkat dua\n",
    "    return kuadrat"
   ]
  },
  {
   "cell_type": "code",
   "execution_count": 10,
   "id": "f8761f65-0c2b-465e-93e1-de2b0aba95fe",
   "metadata": {},
   "outputs": [
    {
     "data": {
      "text/plain": [
       "16"
      ]
     },
     "execution_count": 10,
     "metadata": {},
     "output_type": "execute_result"
    }
   ],
   "source": [
    "pangkat(4)"
   ]
  },
  {
   "cell_type": "code",
   "execution_count": 11,
   "id": "0de3fa5e-ccd5-4b0b-ad3e-728a8f06f8cc",
   "metadata": {},
   "outputs": [
    {
     "name": "stdin",
     "output_type": "stream",
     "text": [
      " 5\n"
     ]
    },
    {
     "name": "stdout",
     "output_type": "stream",
     "text": [
      "Hasilnya adalah 25\n"
     ]
    }
   ],
   "source": [
    "angka = int(input().strip()) #combine customize\n",
    "hasil = pangkat(angka)\n",
    "print(\"Hasilnya adalah {}\".format(hasil))"
   ]
  },
  {
   "cell_type": "code",
   "execution_count": 12,
   "id": "e0053170-de46-4133-b835-2c0400b467b8",
   "metadata": {},
   "outputs": [
    {
     "name": "stdout",
     "output_type": "stream",
     "text": [
      "Hasil kuadrat dari 5 adalah 25\n"
     ]
    }
   ],
   "source": [
    "print(\"Hasil kuadrat dari {} adalah {}\".format(angka, hasil))"
   ]
  },
  {
   "cell_type": "code",
   "execution_count": null,
   "id": "15d2f03b-ab6e-45d2-abfe-456abf7a0298",
   "metadata": {},
   "outputs": [],
   "source": []
  }
 ],
 "metadata": {
  "kernelspec": {
   "display_name": "Python 3 (ipykernel)",
   "language": "python",
   "name": "python3"
  },
  "language_info": {
   "codemirror_mode": {
    "name": "ipython",
    "version": 3
   },
   "file_extension": ".py",
   "mimetype": "text/x-python",
   "name": "python",
   "nbconvert_exporter": "python",
   "pygments_lexer": "ipython3",
   "version": "3.11.7"
  }
 },
 "nbformat": 4,
 "nbformat_minor": 5
}
