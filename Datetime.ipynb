{
 "cells": [
  {
   "cell_type": "markdown",
   "id": "65fa24a3-e702-435c-803a-de313ccc1bee",
   "metadata": {},
   "source": [
    "# DateTime"
   ]
  },
  {
   "cell_type": "markdown",
   "id": "1b6fce6e-1f4d-4404-900a-12774d14ba27",
   "metadata": {},
   "source": [
    "DateTime is a module in Python that deals with real-time data and time. It provides classes and functions to manipulate and format dates and times. Here are some commonly used classes and functions in the DateTime module:e."
   ]
  },
  {
   "cell_type": "markdown",
   "id": "3472756a-9f49-400c-b3a9-9d606cce0c43",
   "metadata": {},
   "source": [
    "- date : This class represents a date (year, month, and day) without time.\n",
    "- datetime : This class represents a date and time (year, month, day, hour, minute, second, and microsecond).\n",
    "- time : This class represents time (hour, minute, second, and microsecond) without a date."
   ]
  },
  {
   "cell_type": "code",
   "execution_count": null,
   "id": "e7dc0cdb-4809-434c-a5a1-7bb2e745b742",
   "metadata": {},
   "outputs": [],
   "source": [
    "import datetime"
   ]
  },
  {
   "cell_type": "code",
   "execution_count": 2,
   "id": "06dc900d-72c9-432b-bfb9-51a6ac1eedf6",
   "metadata": {},
   "outputs": [],
   "source": [
    "todayWithTime = datetime.datetime.today()"
   ]
  },
  {
   "cell_type": "code",
   "execution_count": 3,
   "id": "eb2a9f25-a0ef-4d28-aee9-087c5379eb0f",
   "metadata": {},
   "outputs": [
    {
     "data": {
      "text/plain": [
       "datetime.datetime(2024, 4, 19, 8, 30, 54, 839458)"
      ]
     },
     "execution_count": 3,
     "metadata": {},
     "output_type": "execute_result"
    }
   ],
   "source": [
    "todayWithTime"
   ]
  },
  {
   "cell_type": "code",
   "execution_count": 6,
   "id": "b4004c8c-6f29-41c8-a023-86c31c9f2358",
   "metadata": {},
   "outputs": [],
   "source": [
    "todayWithoutTime = datetime.date.today()"
   ]
  },
  {
   "cell_type": "code",
   "execution_count": 7,
   "id": "29e73bd1-52ac-4800-a4f6-82077cf076ab",
   "metadata": {},
   "outputs": [
    {
     "data": {
      "text/plain": [
       "datetime.date(2024, 4, 19)"
      ]
     },
     "execution_count": 7,
     "metadata": {},
     "output_type": "execute_result"
    }
   ],
   "source": [
    "todayWithoutTime"
   ]
  },
  {
   "cell_type": "code",
   "execution_count": 23,
   "id": "e45ad2e1-ec32-43d6-917a-c98374d8cb4e",
   "metadata": {},
   "outputs": [],
   "source": [
    "formatting_time = datetime.datetime.strftime(todayWithTime, \"%H : %M : %S\")"
   ]
  },
  {
   "cell_type": "code",
   "execution_count": 15,
   "id": "9082c022-444b-4ef7-8aa8-2886dc668d48",
   "metadata": {},
   "outputs": [
    {
     "name": "stdout",
     "output_type": "stream",
     "text": [
      "Formatted time:  08: 42: 44\n"
     ]
    }
   ],
   "source": [
    "from datetime import datetime\n",
    "\n",
    "todayWithTime = datetime.now()\n",
    "formatting_time = datetime.strftime(todayWithTime, \"%H: %M: %S\")\n",
    "print(\"Formatted time: \", formatting_time)"
   ]
  },
  {
   "cell_type": "code",
   "execution_count": 11,
   "id": "8f72716a-55d7-41d4-a717-03dc7334a364",
   "metadata": {},
   "outputs": [
    {
     "data": {
      "text/plain": [
       "'08: 37: 59'"
      ]
     },
     "execution_count": 11,
     "metadata": {},
     "output_type": "execute_result"
    }
   ],
   "source": [
    "formatting_time"
   ]
  },
  {
   "cell_type": "code",
   "execution_count": 22,
   "id": "432e0ff7-866e-4180-8a51-8f0e572913d5",
   "metadata": {},
   "outputs": [],
   "source": [
    "formatting_date = datetime.datetime.strtime(todayWithoutTime, \"%m: %d: %y\")"
   ]
  },
  {
   "cell_type": "code",
   "execution_count": null,
   "id": "77d153c0-02b7-4b51-bf16-977a967c25ea",
   "metadata": {},
   "outputs": [],
   "source": [
    "formatting_date"
   ]
  },
  {
   "cell_type": "code",
   "execution_count": null,
   "id": "a81d3740-dfe3-4e3b-bae8-ca5f3a31b422",
   "metadata": {},
   "outputs": [],
   "source": [
    "//TASK"
   ]
  },
  {
   "cell_type": "code",
   "execution_count": 17,
   "id": "5ebb0aef-9f7c-4227-9de3-95790b88102d",
   "metadata": {},
   "outputs": [
    {
     "name": "stdout",
     "output_type": "stream",
     "text": [
      "Formatted datetime:  2024-04-19 08:43:03\n"
     ]
    }
   ],
   "source": [
    "from datetime import datetime\n",
    "\n",
    "now = datetime.now()\n",
    "formatted_datetime = datetime.strftime(now, \"%Y-%m-%d %H:%M:%S\")\n",
    "print(\"Formatted datetime: \", formatted_datetime)"
   ]
  },
  {
   "cell_type": "code",
   "execution_count": 18,
   "id": "4d78f1dc-3356-4e5d-8d75-50e8959bc542",
   "metadata": {},
   "outputs": [
    {
     "name": "stdout",
     "output_type": "stream",
     "text": [
      "Formatted datetime:  19-04-2024 08:43:11\n"
     ]
    }
   ],
   "source": [
    "from datetime import datetime\n",
    "\n",
    "now = datetime.now()\n",
    "formatted_datetime = datetime.strftime(now, \"%d-%m-%Y %H:%M:%S\")\n",
    "print(\"Formatted datetime: \", formatted_datetime)"
   ]
  },
  {
   "cell_type": "code",
   "execution_count": 21,
   "id": "2bd4a1aa-d4e5-4bbb-bbce-10153b83ce81",
   "metadata": {},
   "outputs": [
    {
     "name": "stdout",
     "output_type": "stream",
     "text": [
      "Formatted datetime:  08:45 AM\n"
     ]
    }
   ],
   "source": [
    "from datetime import datetime\n",
    "\n",
    "now = datetime.now()\n",
    "formatted_datetime = datetime.strftime(now, \"%I:%M %p\")\n",
    "print(\"Formatted datetime: \", formatted_datetime)"
   ]
  }
 ],
 "metadata": {
  "kernelspec": {
   "display_name": "Python 3 (ipykernel)",
   "language": "python",
   "name": "python3"
  },
  "language_info": {
   "codemirror_mode": {
    "name": "ipython",
    "version": 3
   },
   "file_extension": ".py",
   "mimetype": "text/x-python",
   "name": "python",
   "nbconvert_exporter": "python",
   "pygments_lexer": "ipython3",
   "version": "3.11.7"
  }
 },
 "nbformat": 4,
 "nbformat_minor": 5
}
