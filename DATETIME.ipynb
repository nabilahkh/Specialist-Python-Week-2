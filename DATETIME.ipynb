{
 "cells": [
  {
   "cell_type": "markdown",
   "id": "1e8fac9d",
   "metadata": {},
   "source": [
    "### DateTime\n",
    "DateTime is a module in Python that deals with real-time data and time. It provides classes and functions to manipulate and format dates and times. Here are some commonly used classes and functions in the DateTime module."
   ]
  },
  {
   "cell_type": "code",
   "execution_count": 2,
   "id": "ee505b37",
   "metadata": {},
   "outputs": [],
   "source": [
    "import datetime"
   ]
  },
  {
   "cell_type": "code",
   "execution_count": 3,
   "id": "eca5bb50",
   "metadata": {},
   "outputs": [],
   "source": [
    "todayWithTime = datetime.datetime.today()"
   ]
  },
  {
   "cell_type": "code",
   "execution_count": 4,
   "id": "7dbba113",
   "metadata": {},
   "outputs": [
    {
     "data": {
      "text/plain": [
       "datetime.datetime(2024, 4, 20, 12, 32, 52, 524105)"
      ]
     },
     "execution_count": 4,
     "metadata": {},
     "output_type": "execute_result"
    }
   ],
   "source": [
    "todayWithTime"
   ]
  },
  {
   "cell_type": "code",
   "execution_count": 5,
   "id": "b39cfd06",
   "metadata": {},
   "outputs": [],
   "source": [
    "todayWithoutTime = datetime.datetime.today()"
   ]
  },
  {
   "cell_type": "code",
   "execution_count": 6,
   "id": "210442ff",
   "metadata": {},
   "outputs": [
    {
     "data": {
      "text/plain": [
       "datetime.datetime(2024, 4, 20, 12, 33, 4, 477728)"
      ]
     },
     "execution_count": 6,
     "metadata": {},
     "output_type": "execute_result"
    }
   ],
   "source": [
    "todayWithoutTime"
   ]
  },
  {
   "cell_type": "code",
   "execution_count": 7,
   "id": "c144fe15",
   "metadata": {},
   "outputs": [],
   "source": [
    "formatting_time = datetime.datetime.strftime(todayWithTime, \"%H: %M: %S\")"
   ]
  },
  {
   "cell_type": "code",
   "execution_count": 8,
   "id": "25b2c3e9",
   "metadata": {},
   "outputs": [
    {
     "data": {
      "text/plain": [
       "'12: 32: 52'"
      ]
     },
     "execution_count": 8,
     "metadata": {},
     "output_type": "execute_result"
    }
   ],
   "source": [
    "formatting_time"
   ]
  },
  {
   "cell_type": "code",
   "execution_count": 9,
   "id": "1f0b6f96",
   "metadata": {},
   "outputs": [],
   "source": [
    "formatting_date = datetime.datetime.strftime(todayWithoutTime, \"%m/%d/%Y\")"
   ]
  },
  {
   "cell_type": "code",
   "execution_count": 10,
   "id": "28c430f1",
   "metadata": {},
   "outputs": [
    {
     "data": {
      "text/plain": [
       "'04/20/2024'"
      ]
     },
     "execution_count": 10,
     "metadata": {},
     "output_type": "execute_result"
    }
   ],
   "source": [
    "formatting_date"
   ]
  },
  {
   "cell_type": "markdown",
   "id": "228d78b0",
   "metadata": {},
   "source": [
    "#### QUIZ"
   ]
  },
  {
   "cell_type": "code",
   "execution_count": 11,
   "id": "1069c27a",
   "metadata": {},
   "outputs": [],
   "source": [
    "now_microsecond = datetime.datetime.now()"
   ]
  },
  {
   "cell_type": "code",
   "execution_count": 12,
   "id": "01276999",
   "metadata": {},
   "outputs": [
    {
     "data": {
      "text/plain": [
       "datetime.datetime(2024, 4, 20, 12, 34, 10, 998668)"
      ]
     },
     "execution_count": 12,
     "metadata": {},
     "output_type": "execute_result"
    }
   ],
   "source": [
    "now_microsecond"
   ]
  },
  {
   "cell_type": "code",
   "execution_count": 13,
   "id": "6d2e7cf1",
   "metadata": {},
   "outputs": [],
   "source": [
    "now = datetime.datetime.now()"
   ]
  },
  {
   "cell_type": "code",
   "execution_count": 14,
   "id": "4255599e",
   "metadata": {},
   "outputs": [],
   "source": [
    "stardarInternational_format = now.strftime(\"%Y-%m-%d %H:%M:%S\")"
   ]
  },
  {
   "cell_type": "code",
   "execution_count": 15,
   "id": "3f648cbd",
   "metadata": {},
   "outputs": [
    {
     "data": {
      "text/plain": [
       "'2024-04-20 12:34:24'"
      ]
     },
     "execution_count": 15,
     "metadata": {},
     "output_type": "execute_result"
    }
   ],
   "source": [
    "stardarInternational_format"
   ]
  },
  {
   "cell_type": "code",
   "execution_count": 16,
   "id": "9517328f",
   "metadata": {},
   "outputs": [],
   "source": [
    "now = datetime.datetime.now()\n",
    "unix_timestamp = int(now.timestamp())"
   ]
  },
  {
   "cell_type": "code",
   "execution_count": 17,
   "id": "de488d37",
   "metadata": {},
   "outputs": [
    {
     "data": {
      "text/plain": [
       "1713591288"
      ]
     },
     "execution_count": 17,
     "metadata": {},
     "output_type": "execute_result"
    }
   ],
   "source": [
    "unix_timestamp"
   ]
  }
 ],
 "metadata": {
  "kernelspec": {
   "display_name": "Python 3 (ipykernel)",
   "language": "python",
   "name": "python3"
  },
  "language_info": {
   "codemirror_mode": {
    "name": "ipython",
    "version": 3
   },
   "file_extension": ".py",
   "mimetype": "text/x-python",
   "name": "python",
   "nbconvert_exporter": "python",
   "pygments_lexer": "ipython3",
   "version": "3.11.7"
  }
 },
 "nbformat": 4,
 "nbformat_minor": 5
}
