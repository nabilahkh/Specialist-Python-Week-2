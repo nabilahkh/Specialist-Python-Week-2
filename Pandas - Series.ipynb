{
 "cells": [
  {
   "cell_type": "markdown",
   "id": "15abec92",
   "metadata": {},
   "source": [
    "## PANDAS\n",
    "\n",
    "Pandas is a powerful and widely used open-source Python library primarily used for data manipulation and analysis. It provides high-performance data structures and tools for working with structured data, making it an essential tool for data scientists and analysts."
   ]
  },
  {
   "cell_type": "code",
   "execution_count": 1,
   "id": "b6c2e26f",
   "metadata": {},
   "outputs": [],
   "source": [
    "import pandas as pd"
   ]
  },
  {
   "cell_type": "markdown",
   "id": "b94fc7cf",
   "metadata": {},
   "source": [
    "Pandas has two main objects: Series and DataFrame.\n",
    "\n",
    "### Series\n",
    "The Series object is a ONE-dimensional array that can store various types of data, such as integers, floats, strings, and others. It does not have column names as it consists of only one column. Each element in a Series has a label called an index."
   ]
  },
  {
   "cell_type": "code",
   "execution_count": 2,
   "id": "9d4dfba0",
   "metadata": {},
   "outputs": [],
   "source": [
    "data = [0.25, 0.50, 0.75, 1]"
   ]
  },
  {
   "cell_type": "code",
   "execution_count": 3,
   "id": "405aeda7",
   "metadata": {},
   "outputs": [
    {
     "name": "stdout",
     "output_type": "stream",
     "text": [
      "[0.25, 0.5, 0.75, 1]\n"
     ]
    }
   ],
   "source": [
    "print(data)"
   ]
  },
  {
   "cell_type": "markdown",
   "id": "77d3c035",
   "metadata": {},
   "source": [
    "Convert it into a Series"
   ]
  },
  {
   "cell_type": "code",
   "execution_count": 4,
   "id": "7f5150a8",
   "metadata": {},
   "outputs": [],
   "source": [
    "data = pd.Series(data)"
   ]
  },
  {
   "cell_type": "code",
   "execution_count": 5,
   "id": "5d11159f",
   "metadata": {},
   "outputs": [
    {
     "data": {
      "text/plain": [
       "0    0.25\n",
       "1    0.50\n",
       "2    0.75\n",
       "3    1.00\n",
       "dtype: float64"
      ]
     },
     "execution_count": 5,
     "metadata": {},
     "output_type": "execute_result"
    }
   ],
   "source": [
    "data"
   ]
  },
  {
   "cell_type": "markdown",
   "id": "1c5c1213",
   "metadata": {},
   "source": [
    "#### QUIZ 1\n",
    "\n",
    "Create an example of a Series."
   ]
  },
  {
   "cell_type": "code",
   "execution_count": 6,
   "id": "c3f24338",
   "metadata": {},
   "outputs": [],
   "source": [
    "name = ['Ageng', 'Ayu', 'Dinda', 'Putri']"
   ]
  },
  {
   "cell_type": "code",
   "execution_count": 7,
   "id": "ffcdf6fe",
   "metadata": {},
   "outputs": [
    {
     "name": "stdout",
     "output_type": "stream",
     "text": [
      "['Ageng', 'Ayu', 'Dinda', 'Putri']\n"
     ]
    }
   ],
   "source": [
    "print(name)"
   ]
  },
  {
   "cell_type": "code",
   "execution_count": 8,
   "id": "1be8bed5",
   "metadata": {},
   "outputs": [],
   "source": [
    "name = pd.Series(name)"
   ]
  },
  {
   "cell_type": "code",
   "execution_count": 9,
   "id": "c2221a0d",
   "metadata": {},
   "outputs": [
    {
     "data": {
      "text/plain": [
       "0    Ageng\n",
       "1      Ayu\n",
       "2    Dinda\n",
       "3    Putri\n",
       "dtype: object"
      ]
     },
     "execution_count": 9,
     "metadata": {},
     "output_type": "execute_result"
    }
   ],
   "source": [
    "name"
   ]
  },
  {
   "cell_type": "markdown",
   "id": "125d4295",
   "metadata": {},
   "source": [
    "Convert the Series to an array"
   ]
  },
  {
   "cell_type": "code",
   "execution_count": 10,
   "id": "2c03095a",
   "metadata": {},
   "outputs": [
    {
     "data": {
      "text/plain": [
       "array([0.25, 0.5 , 0.75, 1.  ])"
      ]
     },
     "execution_count": 10,
     "metadata": {},
     "output_type": "execute_result"
    }
   ],
   "source": [
    "data.values"
   ]
  },
  {
   "cell_type": "markdown",
   "id": "1d302be5",
   "metadata": {},
   "source": [
    "Display the indices.\n",
    "\n",
    "The indices are represented as a range, where the start point is inclusive, and the stop point is exclusive in the range."
   ]
  },
  {
   "cell_type": "code",
   "execution_count": 11,
   "id": "b90ffaf3",
   "metadata": {},
   "outputs": [
    {
     "data": {
      "text/plain": [
       "RangeIndex(start=0, stop=4, step=1)"
      ]
     },
     "execution_count": 11,
     "metadata": {},
     "output_type": "execute_result"
    }
   ],
   "source": [
    "data.index"
   ]
  },
  {
   "cell_type": "code",
   "execution_count": 12,
   "id": "99cca8bc",
   "metadata": {},
   "outputs": [
    {
     "data": {
      "text/plain": [
       "[1, 2, 3, 4, 5, 6, 7, 8, 9]"
      ]
     },
     "execution_count": 12,
     "metadata": {},
     "output_type": "execute_result"
    }
   ],
   "source": [
    "list(range(1,10))"
   ]
  },
  {
   "cell_type": "markdown",
   "id": "88e918d7",
   "metadata": {},
   "source": [
    "Accessing the data"
   ]
  },
  {
   "cell_type": "code",
   "execution_count": 13,
   "id": "2b45f52a",
   "metadata": {},
   "outputs": [
    {
     "data": {
      "text/plain": [
       "0.75"
      ]
     },
     "execution_count": 13,
     "metadata": {},
     "output_type": "execute_result"
    }
   ],
   "source": [
    "data[2]"
   ]
  },
  {
   "cell_type": "markdown",
   "id": "c77373a7",
   "metadata": {},
   "source": [
    "- The output is 0.75 because the index \"2\" in Python starts from 0 by default, so it's not subtracted by 1.\n",
    "- Implicit indices are the default indices of the data.\n",
    "- We can define our own indices, which are called explicit indices. These are the indices defined by the user.\n",
    "- When defining indices, the number of indices must be the same as the number of data points"
   ]
  },
  {
   "cell_type": "code",
   "execution_count": 14,
   "id": "78554074",
   "metadata": {},
   "outputs": [],
   "source": [
    "data = pd.Series([0.25, 0.50, 0.75, 1 ],  index = ['a','b','c','d'])"
   ]
  },
  {
   "cell_type": "code",
   "execution_count": 15,
   "id": "f9694f14",
   "metadata": {},
   "outputs": [
    {
     "data": {
      "text/plain": [
       "a    0.25\n",
       "b    0.50\n",
       "c    0.75\n",
       "d    1.00\n",
       "dtype: float64"
      ]
     },
     "execution_count": 15,
     "metadata": {},
     "output_type": "execute_result"
    }
   ],
   "source": [
    "data"
   ]
  },
  {
   "cell_type": "code",
   "execution_count": 16,
   "id": "21d0e2f4",
   "metadata": {},
   "outputs": [
    {
     "data": {
      "text/plain": [
       "array([0.25, 0.5 , 0.75, 1.  ])"
      ]
     },
     "execution_count": 16,
     "metadata": {},
     "output_type": "execute_result"
    }
   ],
   "source": [
    "data.values"
   ]
  },
  {
   "cell_type": "code",
   "execution_count": 17,
   "id": "30bb5b0b",
   "metadata": {},
   "outputs": [
    {
     "data": {
      "text/plain": [
       "Index(['a', 'b', 'c', 'd'], dtype='object')"
      ]
     },
     "execution_count": 17,
     "metadata": {},
     "output_type": "execute_result"
    }
   ],
   "source": [
    "data.index"
   ]
  },
  {
   "cell_type": "markdown",
   "id": "8ef987f9",
   "metadata": {},
   "source": [
    "Call the data"
   ]
  },
  {
   "cell_type": "code",
   "execution_count": 35,
   "id": "e311ed75",
   "metadata": {},
   "outputs": [
    {
     "data": {
      "text/plain": [
       "0.25"
      ]
     },
     "execution_count": 35,
     "metadata": {},
     "output_type": "execute_result"
    }
   ],
   "source": [
    "#Explicit index\n",
    "\n",
    "data['a']"
   ]
  },
  {
   "cell_type": "markdown",
   "id": "f339fb06",
   "metadata": {},
   "source": [
    "This is data selection.\n",
    "\n",
    "Even though we have created explicit indices, we can still call their implicit indices."
   ]
  },
  {
   "cell_type": "code",
   "execution_count": 36,
   "id": "b59a2346",
   "metadata": {},
   "outputs": [
    {
     "name": "stderr",
     "output_type": "stream",
     "text": [
      "/var/folders/9v/jr522vfx6hvf7snl2zzlk8r40000gn/T/ipykernel_89610/4077746543.py:2: FutureWarning: Series.__getitem__ treating keys as positions is deprecated. In a future version, integer keys will always be treated as labels (consistent with DataFrame behavior). To access a value by position, use `ser.iloc[pos]`\n",
      "  data[3]\n"
     ]
    },
    {
     "data": {
      "text/plain": [
       "1.0"
      ]
     },
     "execution_count": 36,
     "metadata": {},
     "output_type": "execute_result"
    }
   ],
   "source": [
    "#Implicit index\n",
    "data[3]"
   ]
  },
  {
   "cell_type": "markdown",
   "id": "3fca5ed2",
   "metadata": {},
   "source": [
    "#### QUIZ 2\n",
    "- Create a Series.\n",
    "- Create explicit (custom) indices.\n",
    "- Call explicit index.\n",
    "- Call implicit index (default)."
   ]
  },
  {
   "cell_type": "code",
   "execution_count": 20,
   "id": "2870d572",
   "metadata": {},
   "outputs": [],
   "source": [
    "name = pd.Series(['Ageng', 'Ayu', 'Dinda', 'Putri'], index = ['1a', '2b', '3c', '4d'])"
   ]
  },
  {
   "cell_type": "code",
   "execution_count": 21,
   "id": "a3980bfb",
   "metadata": {},
   "outputs": [
    {
     "data": {
      "text/plain": [
       "1a    Ageng\n",
       "2b      Ayu\n",
       "3c    Dinda\n",
       "4d    Putri\n",
       "dtype: object"
      ]
     },
     "execution_count": 21,
     "metadata": {},
     "output_type": "execute_result"
    }
   ],
   "source": [
    "name"
   ]
  },
  {
   "cell_type": "code",
   "execution_count": 22,
   "id": "8a9bc88e",
   "metadata": {},
   "outputs": [
    {
     "data": {
      "text/plain": [
       "array(['Ageng', 'Ayu', 'Dinda', 'Putri'], dtype=object)"
      ]
     },
     "execution_count": 22,
     "metadata": {},
     "output_type": "execute_result"
    }
   ],
   "source": [
    "name.values"
   ]
  },
  {
   "cell_type": "code",
   "execution_count": 23,
   "id": "944a15df",
   "metadata": {},
   "outputs": [
    {
     "data": {
      "text/plain": [
       "Index(['1a', '2b', '3c', '4d'], dtype='object')"
      ]
     },
     "execution_count": 23,
     "metadata": {},
     "output_type": "execute_result"
    }
   ],
   "source": [
    "name.index"
   ]
  },
  {
   "cell_type": "code",
   "execution_count": 24,
   "id": "9e7daa20",
   "metadata": {},
   "outputs": [
    {
     "data": {
      "text/plain": [
       "'Ayu'"
      ]
     },
     "execution_count": 24,
     "metadata": {},
     "output_type": "execute_result"
    }
   ],
   "source": [
    "name['2b']"
   ]
  },
  {
   "cell_type": "code",
   "execution_count": 25,
   "id": "a755421e",
   "metadata": {},
   "outputs": [
    {
     "name": "stderr",
     "output_type": "stream",
     "text": [
      "/var/folders/9v/jr522vfx6hvf7snl2zzlk8r40000gn/T/ipykernel_89610/2596861784.py:1: FutureWarning: Series.__getitem__ treating keys as positions is deprecated. In a future version, integer keys will always be treated as labels (consistent with DataFrame behavior). To access a value by position, use `ser.iloc[pos]`\n",
      "  name[3]\n"
     ]
    },
    {
     "data": {
      "text/plain": [
       "'Putri'"
      ]
     },
     "execution_count": 25,
     "metadata": {},
     "output_type": "execute_result"
    }
   ],
   "source": [
    "name[3]"
   ]
  },
  {
   "cell_type": "markdown",
   "id": "5dcb5016",
   "metadata": {},
   "source": [
    "When the implicit and explicit indices are the same, when we call the data, it will rely only on its explicit indices."
   ]
  },
  {
   "cell_type": "code",
   "execution_count": 26,
   "id": "ee109b5d",
   "metadata": {},
   "outputs": [],
   "source": [
    "data_2 = pd.Series([0.25, 0.50, 0.75, 1], index = [2,5,3,7])"
   ]
  },
  {
   "cell_type": "code",
   "execution_count": 27,
   "id": "e9ebf8b0",
   "metadata": {},
   "outputs": [
    {
     "data": {
      "text/plain": [
       "0.25"
      ]
     },
     "execution_count": 27,
     "metadata": {},
     "output_type": "execute_result"
    }
   ],
   "source": [
    "data_2[2]"
   ]
  },
  {
   "cell_type": "code",
   "execution_count": 28,
   "id": "7d084d8c",
   "metadata": {},
   "outputs": [
    {
     "ename": "KeyError",
     "evalue": "0",
     "output_type": "error",
     "traceback": [
      "\u001b[0;31m---------------------------------------------------------------------------\u001b[0m",
      "\u001b[0;31mKeyError\u001b[0m                                  Traceback (most recent call last)",
      "File \u001b[0;32m/opt/anaconda3/lib/python3.11/site-packages/pandas/core/indexes/base.py:3791\u001b[0m, in \u001b[0;36mIndex.get_loc\u001b[0;34m(self, key)\u001b[0m\n\u001b[1;32m   3790\u001b[0m \u001b[38;5;28;01mtry\u001b[39;00m:\n\u001b[0;32m-> 3791\u001b[0m     \u001b[38;5;28;01mreturn\u001b[39;00m \u001b[38;5;28mself\u001b[39m\u001b[38;5;241m.\u001b[39m_engine\u001b[38;5;241m.\u001b[39mget_loc(casted_key)\n\u001b[1;32m   3792\u001b[0m \u001b[38;5;28;01mexcept\u001b[39;00m \u001b[38;5;167;01mKeyError\u001b[39;00m \u001b[38;5;28;01mas\u001b[39;00m err:\n",
      "File \u001b[0;32mindex.pyx:152\u001b[0m, in \u001b[0;36mpandas._libs.index.IndexEngine.get_loc\u001b[0;34m()\u001b[0m\n",
      "File \u001b[0;32mindex.pyx:181\u001b[0m, in \u001b[0;36mpandas._libs.index.IndexEngine.get_loc\u001b[0;34m()\u001b[0m\n",
      "File \u001b[0;32mpandas/_libs/hashtable_class_helper.pxi:2606\u001b[0m, in \u001b[0;36mpandas._libs.hashtable.Int64HashTable.get_item\u001b[0;34m()\u001b[0m\n",
      "File \u001b[0;32mpandas/_libs/hashtable_class_helper.pxi:2630\u001b[0m, in \u001b[0;36mpandas._libs.hashtable.Int64HashTable.get_item\u001b[0;34m()\u001b[0m\n",
      "\u001b[0;31mKeyError\u001b[0m: 0",
      "\nThe above exception was the direct cause of the following exception:\n",
      "\u001b[0;31mKeyError\u001b[0m                                  Traceback (most recent call last)",
      "Cell \u001b[0;32mIn[28], line 1\u001b[0m\n\u001b[0;32m----> 1\u001b[0m data_2[\u001b[38;5;241m0\u001b[39m]\n",
      "File \u001b[0;32m/opt/anaconda3/lib/python3.11/site-packages/pandas/core/series.py:1040\u001b[0m, in \u001b[0;36mSeries.__getitem__\u001b[0;34m(self, key)\u001b[0m\n\u001b[1;32m   1037\u001b[0m     \u001b[38;5;28;01mreturn\u001b[39;00m \u001b[38;5;28mself\u001b[39m\u001b[38;5;241m.\u001b[39m_values[key]\n\u001b[1;32m   1039\u001b[0m \u001b[38;5;28;01melif\u001b[39;00m key_is_scalar:\n\u001b[0;32m-> 1040\u001b[0m     \u001b[38;5;28;01mreturn\u001b[39;00m \u001b[38;5;28mself\u001b[39m\u001b[38;5;241m.\u001b[39m_get_value(key)\n\u001b[1;32m   1042\u001b[0m \u001b[38;5;66;03m# Convert generator to list before going through hashable part\u001b[39;00m\n\u001b[1;32m   1043\u001b[0m \u001b[38;5;66;03m# (We will iterate through the generator there to check for slices)\u001b[39;00m\n\u001b[1;32m   1044\u001b[0m \u001b[38;5;28;01mif\u001b[39;00m is_iterator(key):\n",
      "File \u001b[0;32m/opt/anaconda3/lib/python3.11/site-packages/pandas/core/series.py:1156\u001b[0m, in \u001b[0;36mSeries._get_value\u001b[0;34m(self, label, takeable)\u001b[0m\n\u001b[1;32m   1153\u001b[0m     \u001b[38;5;28;01mreturn\u001b[39;00m \u001b[38;5;28mself\u001b[39m\u001b[38;5;241m.\u001b[39m_values[label]\n\u001b[1;32m   1155\u001b[0m \u001b[38;5;66;03m# Similar to Index.get_value, but we do not fall back to positional\u001b[39;00m\n\u001b[0;32m-> 1156\u001b[0m loc \u001b[38;5;241m=\u001b[39m \u001b[38;5;28mself\u001b[39m\u001b[38;5;241m.\u001b[39mindex\u001b[38;5;241m.\u001b[39mget_loc(label)\n\u001b[1;32m   1158\u001b[0m \u001b[38;5;28;01mif\u001b[39;00m is_integer(loc):\n\u001b[1;32m   1159\u001b[0m     \u001b[38;5;28;01mreturn\u001b[39;00m \u001b[38;5;28mself\u001b[39m\u001b[38;5;241m.\u001b[39m_values[loc]\n",
      "File \u001b[0;32m/opt/anaconda3/lib/python3.11/site-packages/pandas/core/indexes/base.py:3798\u001b[0m, in \u001b[0;36mIndex.get_loc\u001b[0;34m(self, key)\u001b[0m\n\u001b[1;32m   3793\u001b[0m     \u001b[38;5;28;01mif\u001b[39;00m \u001b[38;5;28misinstance\u001b[39m(casted_key, \u001b[38;5;28mslice\u001b[39m) \u001b[38;5;129;01mor\u001b[39;00m (\n\u001b[1;32m   3794\u001b[0m         \u001b[38;5;28misinstance\u001b[39m(casted_key, abc\u001b[38;5;241m.\u001b[39mIterable)\n\u001b[1;32m   3795\u001b[0m         \u001b[38;5;129;01mand\u001b[39;00m \u001b[38;5;28many\u001b[39m(\u001b[38;5;28misinstance\u001b[39m(x, \u001b[38;5;28mslice\u001b[39m) \u001b[38;5;28;01mfor\u001b[39;00m x \u001b[38;5;129;01min\u001b[39;00m casted_key)\n\u001b[1;32m   3796\u001b[0m     ):\n\u001b[1;32m   3797\u001b[0m         \u001b[38;5;28;01mraise\u001b[39;00m InvalidIndexError(key)\n\u001b[0;32m-> 3798\u001b[0m     \u001b[38;5;28;01mraise\u001b[39;00m \u001b[38;5;167;01mKeyError\u001b[39;00m(key) \u001b[38;5;28;01mfrom\u001b[39;00m \u001b[38;5;21;01merr\u001b[39;00m\n\u001b[1;32m   3799\u001b[0m \u001b[38;5;28;01mexcept\u001b[39;00m \u001b[38;5;167;01mTypeError\u001b[39;00m:\n\u001b[1;32m   3800\u001b[0m     \u001b[38;5;66;03m# If we have a listlike key, _check_indexing_error will raise\u001b[39;00m\n\u001b[1;32m   3801\u001b[0m     \u001b[38;5;66;03m#  InvalidIndexError. Otherwise we fall through and re-raise\u001b[39;00m\n\u001b[1;32m   3802\u001b[0m     \u001b[38;5;66;03m#  the TypeError.\u001b[39;00m\n\u001b[1;32m   3803\u001b[0m     \u001b[38;5;28mself\u001b[39m\u001b[38;5;241m.\u001b[39m_check_indexing_error(key)\n",
      "\u001b[0;31mKeyError\u001b[0m: 0"
     ]
    }
   ],
   "source": [
    "data_2[0]"
   ]
  },
  {
   "cell_type": "markdown",
   "id": "02bd6c20",
   "metadata": {},
   "source": [
    "The result of data_2[0] is an error due to the similarity between the explicit indices and the implicit indices."
   ]
  },
  {
   "cell_type": "markdown",
   "id": "1363af3a",
   "metadata": {},
   "source": [
    "#### QUIZ 3\n",
    "- Create a Series.\n",
    "- Create explicit (custom) indices that are the same as the default Python indices.\n",
    "- Call explicit index.\n",
    "- Call implicit index (default)."
   ]
  },
  {
   "cell_type": "code",
   "execution_count": 29,
   "id": "ba6ce4f7",
   "metadata": {},
   "outputs": [],
   "source": [
    "name_2 = pd.Series(['Ageng', 'Ayu', 'Dinda', 'Putri'], index = [1,3,5,7])"
   ]
  },
  {
   "cell_type": "code",
   "execution_count": 30,
   "id": "bafb366b",
   "metadata": {},
   "outputs": [
    {
     "data": {
      "text/plain": [
       "1    Ageng\n",
       "3      Ayu\n",
       "5    Dinda\n",
       "7    Putri\n",
       "dtype: object"
      ]
     },
     "execution_count": 30,
     "metadata": {},
     "output_type": "execute_result"
    }
   ],
   "source": [
    "name_2"
   ]
  },
  {
   "cell_type": "code",
   "execution_count": 31,
   "id": "8b0e1bb4",
   "metadata": {},
   "outputs": [
    {
     "data": {
      "text/plain": [
       "array(['Ageng', 'Ayu', 'Dinda', 'Putri'], dtype=object)"
      ]
     },
     "execution_count": 31,
     "metadata": {},
     "output_type": "execute_result"
    }
   ],
   "source": [
    "name_2.values"
   ]
  },
  {
   "cell_type": "code",
   "execution_count": 32,
   "id": "4d5ae94c",
   "metadata": {},
   "outputs": [
    {
     "data": {
      "text/plain": [
       "Index([1, 3, 5, 7], dtype='int64')"
      ]
     },
     "execution_count": 32,
     "metadata": {},
     "output_type": "execute_result"
    }
   ],
   "source": [
    "name_2.index"
   ]
  },
  {
   "cell_type": "code",
   "execution_count": 37,
   "id": "1f2f40f4",
   "metadata": {},
   "outputs": [
    {
     "data": {
      "text/plain": [
       "'Ageng'"
      ]
     },
     "execution_count": 37,
     "metadata": {},
     "output_type": "execute_result"
    }
   ],
   "source": [
    "# Call explicit index\n",
    "\n",
    "name_2[1]"
   ]
  },
  {
   "cell_type": "code",
   "execution_count": 34,
   "id": "ce6027b8",
   "metadata": {},
   "outputs": [
    {
     "ename": "KeyError",
     "evalue": "0",
     "output_type": "error",
     "traceback": [
      "\u001b[0;31m---------------------------------------------------------------------------\u001b[0m",
      "\u001b[0;31mKeyError\u001b[0m                                  Traceback (most recent call last)",
      "File \u001b[0;32m/opt/anaconda3/lib/python3.11/site-packages/pandas/core/indexes/base.py:3791\u001b[0m, in \u001b[0;36mIndex.get_loc\u001b[0;34m(self, key)\u001b[0m\n\u001b[1;32m   3790\u001b[0m \u001b[38;5;28;01mtry\u001b[39;00m:\n\u001b[0;32m-> 3791\u001b[0m     \u001b[38;5;28;01mreturn\u001b[39;00m \u001b[38;5;28mself\u001b[39m\u001b[38;5;241m.\u001b[39m_engine\u001b[38;5;241m.\u001b[39mget_loc(casted_key)\n\u001b[1;32m   3792\u001b[0m \u001b[38;5;28;01mexcept\u001b[39;00m \u001b[38;5;167;01mKeyError\u001b[39;00m \u001b[38;5;28;01mas\u001b[39;00m err:\n",
      "File \u001b[0;32mindex.pyx:152\u001b[0m, in \u001b[0;36mpandas._libs.index.IndexEngine.get_loc\u001b[0;34m()\u001b[0m\n",
      "File \u001b[0;32mindex.pyx:181\u001b[0m, in \u001b[0;36mpandas._libs.index.IndexEngine.get_loc\u001b[0;34m()\u001b[0m\n",
      "File \u001b[0;32mpandas/_libs/hashtable_class_helper.pxi:2606\u001b[0m, in \u001b[0;36mpandas._libs.hashtable.Int64HashTable.get_item\u001b[0;34m()\u001b[0m\n",
      "File \u001b[0;32mpandas/_libs/hashtable_class_helper.pxi:2630\u001b[0m, in \u001b[0;36mpandas._libs.hashtable.Int64HashTable.get_item\u001b[0;34m()\u001b[0m\n",
      "\u001b[0;31mKeyError\u001b[0m: 0",
      "\nThe above exception was the direct cause of the following exception:\n",
      "\u001b[0;31mKeyError\u001b[0m                                  Traceback (most recent call last)",
      "Cell \u001b[0;32mIn[34], line 1\u001b[0m\n\u001b[0;32m----> 1\u001b[0m name_2[\u001b[38;5;241m0\u001b[39m]\n",
      "File \u001b[0;32m/opt/anaconda3/lib/python3.11/site-packages/pandas/core/series.py:1040\u001b[0m, in \u001b[0;36mSeries.__getitem__\u001b[0;34m(self, key)\u001b[0m\n\u001b[1;32m   1037\u001b[0m     \u001b[38;5;28;01mreturn\u001b[39;00m \u001b[38;5;28mself\u001b[39m\u001b[38;5;241m.\u001b[39m_values[key]\n\u001b[1;32m   1039\u001b[0m \u001b[38;5;28;01melif\u001b[39;00m key_is_scalar:\n\u001b[0;32m-> 1040\u001b[0m     \u001b[38;5;28;01mreturn\u001b[39;00m \u001b[38;5;28mself\u001b[39m\u001b[38;5;241m.\u001b[39m_get_value(key)\n\u001b[1;32m   1042\u001b[0m \u001b[38;5;66;03m# Convert generator to list before going through hashable part\u001b[39;00m\n\u001b[1;32m   1043\u001b[0m \u001b[38;5;66;03m# (We will iterate through the generator there to check for slices)\u001b[39;00m\n\u001b[1;32m   1044\u001b[0m \u001b[38;5;28;01mif\u001b[39;00m is_iterator(key):\n",
      "File \u001b[0;32m/opt/anaconda3/lib/python3.11/site-packages/pandas/core/series.py:1156\u001b[0m, in \u001b[0;36mSeries._get_value\u001b[0;34m(self, label, takeable)\u001b[0m\n\u001b[1;32m   1153\u001b[0m     \u001b[38;5;28;01mreturn\u001b[39;00m \u001b[38;5;28mself\u001b[39m\u001b[38;5;241m.\u001b[39m_values[label]\n\u001b[1;32m   1155\u001b[0m \u001b[38;5;66;03m# Similar to Index.get_value, but we do not fall back to positional\u001b[39;00m\n\u001b[0;32m-> 1156\u001b[0m loc \u001b[38;5;241m=\u001b[39m \u001b[38;5;28mself\u001b[39m\u001b[38;5;241m.\u001b[39mindex\u001b[38;5;241m.\u001b[39mget_loc(label)\n\u001b[1;32m   1158\u001b[0m \u001b[38;5;28;01mif\u001b[39;00m is_integer(loc):\n\u001b[1;32m   1159\u001b[0m     \u001b[38;5;28;01mreturn\u001b[39;00m \u001b[38;5;28mself\u001b[39m\u001b[38;5;241m.\u001b[39m_values[loc]\n",
      "File \u001b[0;32m/opt/anaconda3/lib/python3.11/site-packages/pandas/core/indexes/base.py:3798\u001b[0m, in \u001b[0;36mIndex.get_loc\u001b[0;34m(self, key)\u001b[0m\n\u001b[1;32m   3793\u001b[0m     \u001b[38;5;28;01mif\u001b[39;00m \u001b[38;5;28misinstance\u001b[39m(casted_key, \u001b[38;5;28mslice\u001b[39m) \u001b[38;5;129;01mor\u001b[39;00m (\n\u001b[1;32m   3794\u001b[0m         \u001b[38;5;28misinstance\u001b[39m(casted_key, abc\u001b[38;5;241m.\u001b[39mIterable)\n\u001b[1;32m   3795\u001b[0m         \u001b[38;5;129;01mand\u001b[39;00m \u001b[38;5;28many\u001b[39m(\u001b[38;5;28misinstance\u001b[39m(x, \u001b[38;5;28mslice\u001b[39m) \u001b[38;5;28;01mfor\u001b[39;00m x \u001b[38;5;129;01min\u001b[39;00m casted_key)\n\u001b[1;32m   3796\u001b[0m     ):\n\u001b[1;32m   3797\u001b[0m         \u001b[38;5;28;01mraise\u001b[39;00m InvalidIndexError(key)\n\u001b[0;32m-> 3798\u001b[0m     \u001b[38;5;28;01mraise\u001b[39;00m \u001b[38;5;167;01mKeyError\u001b[39;00m(key) \u001b[38;5;28;01mfrom\u001b[39;00m \u001b[38;5;21;01merr\u001b[39;00m\n\u001b[1;32m   3799\u001b[0m \u001b[38;5;28;01mexcept\u001b[39;00m \u001b[38;5;167;01mTypeError\u001b[39;00m:\n\u001b[1;32m   3800\u001b[0m     \u001b[38;5;66;03m# If we have a listlike key, _check_indexing_error will raise\u001b[39;00m\n\u001b[1;32m   3801\u001b[0m     \u001b[38;5;66;03m#  InvalidIndexError. Otherwise we fall through and re-raise\u001b[39;00m\n\u001b[1;32m   3802\u001b[0m     \u001b[38;5;66;03m#  the TypeError.\u001b[39;00m\n\u001b[1;32m   3803\u001b[0m     \u001b[38;5;28mself\u001b[39m\u001b[38;5;241m.\u001b[39m_check_indexing_error(key)\n",
      "\u001b[0;31mKeyError\u001b[0m: 0"
     ]
    }
   ],
   "source": [
    "# Call implicit index (default)\n",
    "\n",
    "name_2[0]"
   ]
  },
  {
   "cell_type": "markdown",
   "id": "08be55cc",
   "metadata": {},
   "source": [
    "We'll now try to perform data slicing"
   ]
  },
  {
   "cell_type": "code",
   "execution_count": 38,
   "id": "9dddeee2",
   "metadata": {},
   "outputs": [],
   "source": [
    "data = pd.Series([0.25, 0.50, 0.75, 1], index = ['a', 'b', 'c', 'd'])"
   ]
  },
  {
   "cell_type": "code",
   "execution_count": 39,
   "id": "b7ac154b",
   "metadata": {},
   "outputs": [
    {
     "data": {
      "text/plain": [
       "a    0.25\n",
       "b    0.50\n",
       "c    0.75\n",
       "d    1.00\n",
       "dtype: float64"
      ]
     },
     "execution_count": 39,
     "metadata": {},
     "output_type": "execute_result"
    }
   ],
   "source": [
    "data"
   ]
  },
  {
   "cell_type": "code",
   "execution_count": 40,
   "id": "5acfe5df",
   "metadata": {},
   "outputs": [
    {
     "data": {
      "text/plain": [
       "b    0.50\n",
       "c    0.75\n",
       "dtype: float64"
      ]
     },
     "execution_count": 40,
     "metadata": {},
     "output_type": "execute_result"
    }
   ],
   "source": [
    "# For example, we will call from data 'b' to data 'c'\n",
    "\n",
    "data['b':'c'] #explicit"
   ]
  },
  {
   "cell_type": "markdown",
   "id": "456e33fb",
   "metadata": {},
   "source": [
    "But if we slice its implicit indices, only the start point will appear, because implicit indices are in the form of a range."
   ]
  },
  {
   "cell_type": "code",
   "execution_count": 42,
   "id": "9c35e4f4",
   "metadata": {},
   "outputs": [
    {
     "data": {
      "text/plain": [
       "b    0.5\n",
       "dtype: float64"
      ]
     },
     "execution_count": 42,
     "metadata": {},
     "output_type": "execute_result"
    }
   ],
   "source": [
    "data[1:2] #implicit"
   ]
  },
  {
   "cell_type": "markdown",
   "id": "3350f1ba",
   "metadata": {},
   "source": [
    "#### QUIZ 4\n",
    "- Create a Series.\n",
    "- Create explicit (custom) indices.\n",
    "- Call explicit index.\n",
    "- Call implicit index (default)."
   ]
  },
  {
   "cell_type": "code",
   "execution_count": 44,
   "id": "b6225d69",
   "metadata": {},
   "outputs": [],
   "source": [
    "name_3 = pd.Series(['Ageng', 'Ayu', 'Dinda', 'Putri'], index = ['1ab', '2bc', '3cd', '4de'])"
   ]
  },
  {
   "cell_type": "code",
   "execution_count": 45,
   "id": "065b9a7f",
   "metadata": {},
   "outputs": [
    {
     "data": {
      "text/plain": [
       "1ab    Ageng\n",
       "2bc      Ayu\n",
       "3cd    Dinda\n",
       "4de    Putri\n",
       "dtype: object"
      ]
     },
     "execution_count": 45,
     "metadata": {},
     "output_type": "execute_result"
    }
   ],
   "source": [
    "name_3"
   ]
  },
  {
   "cell_type": "code",
   "execution_count": 46,
   "id": "1ec2ff82",
   "metadata": {},
   "outputs": [
    {
     "data": {
      "text/plain": [
       "2bc      Ayu\n",
       "3cd    Dinda\n",
       "4de    Putri\n",
       "dtype: object"
      ]
     },
     "execution_count": 46,
     "metadata": {},
     "output_type": "execute_result"
    }
   ],
   "source": [
    "name_3['2bc':'4de'] #explicit"
   ]
  },
  {
   "cell_type": "code",
   "execution_count": 47,
   "id": "7200cf6b",
   "metadata": {},
   "outputs": [
    {
     "data": {
      "text/plain": [
       "1ab    Ageng\n",
       "2bc      Ayu\n",
       "dtype: object"
      ]
     },
     "execution_count": 47,
     "metadata": {},
     "output_type": "execute_result"
    }
   ],
   "source": [
    "name_3[0:2] #implicit"
   ]
  },
  {
   "cell_type": "markdown",
   "id": "8d13397a",
   "metadata": {},
   "source": [
    "### Ioc and iloc\n",
    "\n",
    "Example of data where some implicit and explicit indices are the same."
   ]
  },
  {
   "cell_type": "code",
   "execution_count": 48,
   "id": "1882df56",
   "metadata": {},
   "outputs": [],
   "source": [
    "data_2 = pd.Series([0.25, 0.50, 0.75, 1], index = [2,5,3,7])"
   ]
  },
  {
   "cell_type": "code",
   "execution_count": 49,
   "id": "2a691fba",
   "metadata": {},
   "outputs": [
    {
     "data": {
      "text/plain": [
       "2    0.25\n",
       "5    0.50\n",
       "3    0.75\n",
       "7    1.00\n",
       "dtype: float64"
      ]
     },
     "execution_count": 49,
     "metadata": {},
     "output_type": "execute_result"
    }
   ],
   "source": [
    "data_2"
   ]
  },
  {
   "cell_type": "markdown",
   "id": "42bac1e3",
   "metadata": {},
   "source": [
    "When we access a single index, it will display its explicit index."
   ]
  },
  {
   "cell_type": "code",
   "execution_count": 50,
   "id": "dd50fe83",
   "metadata": {},
   "outputs": [
    {
     "data": {
      "text/plain": [
       "0.25"
      ]
     },
     "execution_count": 50,
     "metadata": {},
     "output_type": "execute_result"
    }
   ],
   "source": [
    "data_2[2] #explicit : selecting"
   ]
  },
  {
   "cell_type": "code",
   "execution_count": 51,
   "id": "bcf029bb",
   "metadata": {},
   "outputs": [
    {
     "data": {
      "text/plain": [
       "3    0.75\n",
       "dtype: float64"
      ]
     },
     "execution_count": 51,
     "metadata": {},
     "output_type": "execute_result"
    }
   ],
   "source": [
    "data_2[2:3] #implicit : slicing"
   ]
  },
  {
   "cell_type": "markdown",
   "id": "e982621c",
   "metadata": {},
   "source": [
    "When explicit and implicit indices are the same, inconsistencies occur as in the case above.\n",
    "\n",
    "To address this inconsistency, we will use the principles of loc and iloc.\n",
    "\n",
    "loc is used to call its explicit indices, while iloc is used to call its implicit indices."
   ]
  },
  {
   "cell_type": "code",
   "execution_count": 52,
   "id": "79ed72da",
   "metadata": {},
   "outputs": [
    {
     "data": {
      "text/plain": [
       "0.75"
      ]
     },
     "execution_count": 52,
     "metadata": {},
     "output_type": "execute_result"
    }
   ],
   "source": [
    "#loc\n",
    "\n",
    "data_2.loc[3] #selecting explicit"
   ]
  },
  {
   "cell_type": "code",
   "execution_count": 53,
   "id": "0eea7e35",
   "metadata": {},
   "outputs": [
    {
     "data": {
      "text/plain": [
       "2    0.25\n",
       "5    0.50\n",
       "3    0.75\n",
       "dtype: float64"
      ]
     },
     "execution_count": 53,
     "metadata": {},
     "output_type": "execute_result"
    }
   ],
   "source": [
    "data_2.loc[2:3] #slicing explicit"
   ]
  },
  {
   "cell_type": "code",
   "execution_count": 54,
   "id": "c039546d",
   "metadata": {},
   "outputs": [
    {
     "data": {
      "text/plain": [
       "0.25"
      ]
     },
     "execution_count": 54,
     "metadata": {},
     "output_type": "execute_result"
    }
   ],
   "source": [
    "#iloc\n",
    "\n",
    "data_2.iloc[0] #selecting implicit"
   ]
  },
  {
   "cell_type": "code",
   "execution_count": 56,
   "id": "15c336dd",
   "metadata": {},
   "outputs": [
    {
     "data": {
      "text/plain": [
       "2    0.25\n",
       "5    0.50\n",
       "dtype: float64"
      ]
     },
     "execution_count": 56,
     "metadata": {},
     "output_type": "execute_result"
    }
   ],
   "source": [
    "#iloc\n",
    "\n",
    "data_2.iloc[0:2] #slicing implicit"
   ]
  },
  {
   "cell_type": "markdown",
   "id": "6b347742",
   "metadata": {},
   "source": [
    "#### QUIZ 5\n",
    "- Create a Series.\n",
    "- Create explicit indices.\n",
    "- Call loc.\n",
    "- Call iloc."
   ]
  },
  {
   "cell_type": "code",
   "execution_count": 57,
   "id": "228342b6",
   "metadata": {},
   "outputs": [],
   "source": [
    "name_3 = pd.Series(['Ageng', 'Ayu', 'Dinda', 'Putri'], index = [1,3,5,7])"
   ]
  },
  {
   "cell_type": "code",
   "execution_count": 58,
   "id": "aba6480c",
   "metadata": {},
   "outputs": [
    {
     "data": {
      "text/plain": [
       "1    Ageng\n",
       "3      Ayu\n",
       "5    Dinda\n",
       "7    Putri\n",
       "dtype: object"
      ]
     },
     "execution_count": 58,
     "metadata": {},
     "output_type": "execute_result"
    }
   ],
   "source": [
    "name_3 #explicit : selecting"
   ]
  },
  {
   "cell_type": "code",
   "execution_count": 59,
   "id": "be2d6baa",
   "metadata": {},
   "outputs": [
    {
     "data": {
      "text/plain": [
       "7    Putri\n",
       "dtype: object"
      ]
     },
     "execution_count": 59,
     "metadata": {},
     "output_type": "execute_result"
    }
   ],
   "source": [
    "name_3[3:5] #implicit : slicing"
   ]
  },
  {
   "cell_type": "code",
   "execution_count": 60,
   "id": "b06afaf2",
   "metadata": {},
   "outputs": [
    {
     "data": {
      "text/plain": [
       "'Dinda'"
      ]
     },
     "execution_count": 60,
     "metadata": {},
     "output_type": "execute_result"
    }
   ],
   "source": [
    "name_3.loc[5] #(loc) explicit : selecting"
   ]
  },
  {
   "cell_type": "code",
   "execution_count": 61,
   "id": "66548c13",
   "metadata": {},
   "outputs": [
    {
     "data": {
      "text/plain": [
       "1    Ageng\n",
       "3      Ayu\n",
       "dtype: object"
      ]
     },
     "execution_count": 61,
     "metadata": {},
     "output_type": "execute_result"
    }
   ],
   "source": [
    "name_3.loc[1:3] #(loc) explicit : slicing"
   ]
  },
  {
   "cell_type": "code",
   "execution_count": 62,
   "id": "a1ae97be",
   "metadata": {},
   "outputs": [
    {
     "data": {
      "text/plain": [
       "'Ageng'"
      ]
     },
     "execution_count": 62,
     "metadata": {},
     "output_type": "execute_result"
    }
   ],
   "source": [
    "name_3.iloc[0] #(iloc) implicit : selecting"
   ]
  },
  {
   "cell_type": "code",
   "execution_count": 63,
   "id": "b0666535",
   "metadata": {},
   "outputs": [
    {
     "data": {
      "text/plain": [
       "3      Ayu\n",
       "5    Dinda\n",
       "dtype: object"
      ]
     },
     "execution_count": 63,
     "metadata": {},
     "output_type": "execute_result"
    }
   ],
   "source": [
    "name_3.iloc[1:3] #(iloc) implicit : slicing"
   ]
  },
  {
   "cell_type": "markdown",
   "id": "8afa5a98",
   "metadata": {},
   "source": [
    "#### Dictionary -- Series"
   ]
  },
  {
   "cell_type": "code",
   "execution_count": 65,
   "id": "8cf1ae29",
   "metadata": {},
   "outputs": [],
   "source": [
    "dict_population = {'Jakarta':750,\n",
    "                'Bogor': 490,\n",
    "                'Depok': 350,\n",
    "                'Tanggerang': 270,\n",
    "                'Bekasi': 670}\n",
    "#This is just an example, not the actual population numbers."
   ]
  },
  {
   "cell_type": "code",
   "execution_count": 66,
   "id": "e15e0ac6",
   "metadata": {},
   "outputs": [
    {
     "data": {
      "text/plain": [
       "{'Jakarta': 750, 'Bogor': 490, 'Depok': 350, 'Tanggerang': 270, 'Bekasi': 670}"
      ]
     },
     "execution_count": 66,
     "metadata": {},
     "output_type": "execute_result"
    }
   ],
   "source": [
    "dict_population"
   ]
  },
  {
   "cell_type": "code",
   "execution_count": 67,
   "id": "3c7e1c00",
   "metadata": {},
   "outputs": [],
   "source": [
    "#Transforming a dictionary into a series.\n",
    "\n",
    "population = pd.Series(dict_population)"
   ]
  },
  {
   "cell_type": "code",
   "execution_count": 68,
   "id": "fd4b1727",
   "metadata": {},
   "outputs": [
    {
     "data": {
      "text/plain": [
       "Jakarta       750\n",
       "Bogor         490\n",
       "Depok         350\n",
       "Tanggerang    270\n",
       "Bekasi        670\n",
       "dtype: int64"
      ]
     },
     "execution_count": 68,
     "metadata": {},
     "output_type": "execute_result"
    }
   ],
   "source": [
    "population"
   ]
  },
  {
   "cell_type": "code",
   "execution_count": 69,
   "id": "8721f8e3",
   "metadata": {},
   "outputs": [
    {
     "data": {
      "text/plain": [
       "350"
      ]
     },
     "execution_count": 69,
     "metadata": {},
     "output_type": "execute_result"
    }
   ],
   "source": [
    "population.loc['Depok']"
   ]
  },
  {
   "cell_type": "code",
   "execution_count": 71,
   "id": "3f1d350c",
   "metadata": {},
   "outputs": [
    {
     "data": {
      "text/plain": [
       "350"
      ]
     },
     "execution_count": 71,
     "metadata": {},
     "output_type": "execute_result"
    }
   ],
   "source": [
    "population.iloc[2]"
   ]
  },
  {
   "cell_type": "code",
   "execution_count": 72,
   "id": "86a3f6ce",
   "metadata": {},
   "outputs": [],
   "source": [
    "dict_area = {'Jakarta':737,\n",
    "            'Bogor':325,\n",
    "            'Depok':247,\n",
    "            'Tanggerang':302,\n",
    "            'Bekasi':355}\n",
    "\n",
    "#This is just an example, not the actual land area numbers."
   ]
  },
  {
   "cell_type": "code",
   "execution_count": 73,
   "id": "ece445ff",
   "metadata": {},
   "outputs": [],
   "source": [
    "area = pd.Series(dict_area)"
   ]
  },
  {
   "cell_type": "code",
   "execution_count": 74,
   "id": "fb76b79c",
   "metadata": {},
   "outputs": [
    {
     "data": {
      "text/plain": [
       "Jakarta       737\n",
       "Bogor         325\n",
       "Depok         247\n",
       "Tanggerang    302\n",
       "Bekasi        355\n",
       "dtype: int64"
      ]
     },
     "execution_count": 74,
     "metadata": {},
     "output_type": "execute_result"
    }
   ],
   "source": [
    "area"
   ]
  },
  {
   "cell_type": "markdown",
   "id": "61c5479f",
   "metadata": {},
   "source": [
    "#### QUIZ 6\n",
    "- Create a Series from a dictionary.\n",
    "- Call loc.\n",
    "- Call iloc."
   ]
  },
  {
   "cell_type": "code",
   "execution_count": 84,
   "id": "59fbcbdd",
   "metadata": {},
   "outputs": [],
   "source": [
    "personal_information = {'Name': 'Ageng',\n",
    "                        'Age': 24,\n",
    "                        'Occupation':'Lecturer',\n",
    "                        'City': 'Yogyakarta',\n",
    "                        'Address': 'Jl. Merdeka No.1'}"
   ]
  },
  {
   "cell_type": "code",
   "execution_count": 85,
   "id": "4bc8c9b3",
   "metadata": {},
   "outputs": [
    {
     "data": {
      "text/plain": [
       "{'Name': 'Ageng',\n",
       " 'Age': 24,\n",
       " 'Occupation': 'Lecturer',\n",
       " 'City': 'Yogyakarta',\n",
       " 'Address': 'Jl. Merdeka No.1'}"
      ]
     },
     "execution_count": 85,
     "metadata": {},
     "output_type": "execute_result"
    }
   ],
   "source": [
    "personal_information"
   ]
  },
  {
   "cell_type": "code",
   "execution_count": 86,
   "id": "b928d731",
   "metadata": {},
   "outputs": [],
   "source": [
    "information = pd.Series(personal_information)"
   ]
  },
  {
   "cell_type": "code",
   "execution_count": 87,
   "id": "cc6a477b",
   "metadata": {},
   "outputs": [
    {
     "data": {
      "text/plain": [
       "Name                     Ageng\n",
       "Age                         24\n",
       "Occupation            Lecturer\n",
       "City                Yogyakarta\n",
       "Address       Jl. Merdeka No.1\n",
       "dtype: object"
      ]
     },
     "execution_count": 87,
     "metadata": {},
     "output_type": "execute_result"
    }
   ],
   "source": [
    "information"
   ]
  },
  {
   "cell_type": "code",
   "execution_count": 88,
   "id": "8522e33b",
   "metadata": {},
   "outputs": [
    {
     "data": {
      "text/plain": [
       "'Ageng'"
      ]
     },
     "execution_count": 88,
     "metadata": {},
     "output_type": "execute_result"
    }
   ],
   "source": [
    "information.loc['Name']"
   ]
  },
  {
   "cell_type": "code",
   "execution_count": 89,
   "id": "f44ccdd1",
   "metadata": {},
   "outputs": [
    {
     "data": {
      "text/plain": [
       "24"
      ]
     },
     "execution_count": 89,
     "metadata": {},
     "output_type": "execute_result"
    }
   ],
   "source": [
    "information.iloc[1]"
   ]
  },
  {
   "cell_type": "code",
   "execution_count": 90,
   "id": "4135e18c",
   "metadata": {},
   "outputs": [],
   "source": [
    "additional_information = {'Name': 'Anna',\n",
    "                          'Age': 25,\n",
    "                          'Occupation': 'Designer',\n",
    "                          'City': 'Jakarta',\n",
    "                          'Address': 'Jl. Sultan Agung No. 2'}"
   ]
  },
  {
   "cell_type": "code",
   "execution_count": 91,
   "id": "79746894",
   "metadata": {},
   "outputs": [],
   "source": [
    "additional_information = pd.Series(additional_information)"
   ]
  },
  {
   "cell_type": "code",
   "execution_count": 92,
   "id": "08c0e1c6",
   "metadata": {},
   "outputs": [
    {
     "data": {
      "text/plain": [
       "Name                            Anna\n",
       "Age                               25\n",
       "Occupation                  Designer\n",
       "City                         Jakarta\n",
       "Address       Jl. Sultan Agung No. 2\n",
       "dtype: object"
      ]
     },
     "execution_count": 92,
     "metadata": {},
     "output_type": "execute_result"
    }
   ],
   "source": [
    "additional_information"
   ]
  },
  {
   "cell_type": "code",
   "execution_count": 93,
   "id": "9086c172",
   "metadata": {},
   "outputs": [
    {
     "data": {
      "text/plain": [
       "'Jakarta'"
      ]
     },
     "execution_count": 93,
     "metadata": {},
     "output_type": "execute_result"
    }
   ],
   "source": [
    "additional_information.loc['City']"
   ]
  },
  {
   "cell_type": "code",
   "execution_count": 94,
   "id": "f4d61131",
   "metadata": {},
   "outputs": [
    {
     "data": {
      "text/plain": [
       "'Anna'"
      ]
     },
     "execution_count": 94,
     "metadata": {},
     "output_type": "execute_result"
    }
   ],
   "source": [
    "additional_information.iloc[0]"
   ]
  }
 ],
 "metadata": {
  "kernelspec": {
   "display_name": "Python 3 (ipykernel)",
   "language": "python",
   "name": "python3"
  },
  "language_info": {
   "codemirror_mode": {
    "name": "ipython",
    "version": 3
   },
   "file_extension": ".py",
   "mimetype": "text/x-python",
   "name": "python",
   "nbconvert_exporter": "python",
   "pygments_lexer": "ipython3",
   "version": "3.11.7"
  }
 },
 "nbformat": 4,
 "nbformat_minor": 5
}
