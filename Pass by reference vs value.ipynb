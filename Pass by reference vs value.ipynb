{
 "cells": [
  {
   "cell_type": "markdown",
   "id": "1c3c0d4e-1861-415d-9051-14eda3296920",
   "metadata": {},
   "source": [
    "# Pass by reference vs value"
   ]
  },
  {
   "cell_type": "markdown",
   "id": "9ffe3513-af1f-4184-abd3-a3d296da79b8",
   "metadata": {},
   "source": [
    "- All parameters (arguments) in the Python language are \"passed by reference\", meaning that when we change a variable, the data that references it will change, both inside the function and outside the calling function.\n",
    "- Unless we perform an assignment operation which will change the reference parameter."
   ]
  },
  {
   "cell_type": "code",
   "execution_count": 1,
   "id": "0429a9d3-4478-48fa-ba2a-81197c54ecf1",
   "metadata": {},
   "outputs": [],
   "source": [
    "def rubah(daftar_list):\n",
    "    daftar_list.append([3,4])\n",
    "    print(\"Nilai dalam fungsi adalah {}\".format(daftar_list))"
   ]
  },
  {
   "cell_type": "code",
   "execution_count": 2,
   "id": "f22305f9-1c39-4cbd-a4d1-6807a8db4425",
   "metadata": {},
   "outputs": [
    {
     "name": "stdout",
     "output_type": "stream",
     "text": [
      "Nilai dalam fungsi adalah [10, [3, 4]]\n"
     ]
    }
   ],
   "source": [
    "rubah([10])"
   ]
  },
  {
   "cell_type": "code",
   "execution_count": 3,
   "id": "60da1469-0e03-4ac1-86dd-ddf538e4bb0a",
   "metadata": {},
   "outputs": [
    {
     "name": "stdout",
     "output_type": "stream",
     "text": [
      "Nilai dalam fungsi adalah [12, [3, 4]]\n"
     ]
    }
   ],
   "source": [
    "rubah([12])"
   ]
  },
  {
   "cell_type": "code",
   "execution_count": 4,
   "id": "794808b4-b969-4e62-a7df-35872d6156e1",
   "metadata": {},
   "outputs": [
    {
     "name": "stdout",
     "output_type": "stream",
     "text": [
      "Nilai dalam fungsi adalah [10, [3, 4]]\n",
      "Nilai di luar fungsi adalah [10, [3, 4]]\n"
     ]
    }
   ],
   "source": [
    "daftar_list = [10]\n",
    "rubah(daftar_list)\n",
    "print(\"Nilai di luar fungsi adalah {}\".format(daftar_list))"
   ]
  },
  {
   "cell_type": "code",
   "execution_count": null,
   "id": "7eddf3c7-ed7d-420d-b780-d37cc3636ccc",
   "metadata": {},
   "outputs": [],
   "source": []
  }
 ],
 "metadata": {
  "kernelspec": {
   "display_name": "Python 3 (ipykernel)",
   "language": "python",
   "name": "python3"
  },
  "language_info": {
   "codemirror_mode": {
    "name": "ipython",
    "version": 3
   },
   "file_extension": ".py",
   "mimetype": "text/x-python",
   "name": "python",
   "nbconvert_exporter": "python",
   "pygments_lexer": "ipython3",
   "version": "3.11.7"
  }
 },
 "nbformat": 4,
 "nbformat_minor": 5
}
