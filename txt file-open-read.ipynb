{
 "cells": [
  {
   "cell_type": "markdown",
   "id": "a31723b3-6e6d-4f45-b7b8-d02ecfc22d9b",
   "metadata": {},
   "source": [
    "# Open"
   ]
  },
  {
   "cell_type": "markdown",
   "id": "ab6e5c86-22bc-4556-8371-b1ce6760b76f",
   "metadata": {},
   "source": [
    "In Python, you can open and read a text file using the built-in open() function. The open() function in Python is used to open a file and return a file (.txt) object."
   ]
  },
  {
   "cell_type": "code",
   "execution_count": 1,
   "id": "bc490ff1-4ea3-431f-8fb4-8c448fa78591",
   "metadata": {},
   "outputs": [],
   "source": [
    "workFile = open('jackets.txt', 'r') \n",
    "\n",
    "# Here are some common modes used with the open() function:\n",
    "#'r': Opens the file in read mode. This is the default mode."
   ]
  },
  {
   "cell_type": "code",
   "execution_count": 2,
   "id": "e6d8a84e-7d3f-456d-a3eb-971eb646fdc6",
   "metadata": {},
   "outputs": [],
   "source": [
    "workFileContents = workFile.read()"
   ]
  },
  {
   "cell_type": "code",
   "execution_count": 3,
   "id": "f02468f4-d138-4040-972a-5097f97239ca",
   "metadata": {},
   "outputs": [
    {
     "name": "stdout",
     "output_type": "stream",
     "text": [
      "Product, Price\n",
      "Big Down Jacket, 100\n",
      "Medium Down Jacket, 80\n",
      "Regular Jacket, 40\n"
     ]
    }
   ],
   "source": [
    "print(workFileContents)"
   ]
  },
  {
   "cell_type": "markdown",
   "id": "e4564a60-f778-4bf4-b8f6-866ed72a5d72",
   "metadata": {},
   "source": [
    "# Read"
   ]
  },
  {
   "cell_type": "markdown",
   "id": "f2490d9e-645e-4e16-8cc9-27802e9ae66f",
   "metadata": {},
   "source": [
    "The read() function in Python is used to read the contents of a file object that has been opened using the open() function."
   ]
  },
  {
   "cell_type": "code",
   "execution_count": 4,
   "id": "d1d62d37-f545-4466-9977-e0ce6956ecd7",
   "metadata": {},
   "outputs": [],
   "source": [
    "workFile = open('jackets.txt', 'r') \n",
    "\n",
    "#contents = file_object.read()"
   ]
  },
  {
   "cell_type": "code",
   "execution_count": 5,
   "id": "feaf7434-f04a-4eb4-9af7-760d266440f5",
   "metadata": {},
   "outputs": [],
   "source": [
    "workFileFirstLine = workFile.readline() \n",
    "\n",
    "#The line of code workFileFirstLine = workFile.readline() reads the first line of the file object workFile and assigns it to the variable workFileFirstLine."
   ]
  },
  {
   "cell_type": "code",
   "execution_count": 7,
   "id": "565ca21f-d01f-464b-ad5e-63689098ceb6",
   "metadata": {},
   "outputs": [
    {
     "name": "stdout",
     "output_type": "stream",
     "text": [
      "Product, Price\n",
      "\n"
     ]
    }
   ],
   "source": [
    "print(workFileFirstLine)\n",
    "\n",
    "#The print() function is then used to display the value of workFileFirstLine on the screen."
   ]
  },
  {
   "cell_type": "code",
   "execution_count": 8,
   "id": "5d5c7c09-4513-44a9-a6b0-ef0c5d66564d",
   "metadata": {},
   "outputs": [],
   "source": [
    "workFileSecondLine = workFile.readline() \n",
    "\n",
    "#The line of code workFileSecondLine = workFile.readline() reads the second line of the file object workFile and assigns it to the variable workFileSecondLine."
   ]
  },
  {
   "cell_type": "code",
   "execution_count": 9,
   "id": "d8e5fea8-a37e-4d0b-b489-b4bc2cf501b8",
   "metadata": {},
   "outputs": [
    {
     "name": "stdout",
     "output_type": "stream",
     "text": [
      "Big Down Jacket, 100\n",
      "\n"
     ]
    }
   ],
   "source": [
    "print(workFileSecondLine)\n",
    "\n",
    "#The print() function is then used to display the value of workFileSecondtLine on the screen."
   ]
  },
  {
   "cell_type": "markdown",
   "id": "aac068a0-5fef-4409-8003-abc708b8441e",
   "metadata": {},
   "source": [
    "# Close"
   ]
  },
  {
   "cell_type": "markdown",
   "id": "7183aebd-6675-4b62-9fcb-51bad4985d5e",
   "metadata": {},
   "source": [
    "The close() function in Python is used to close a file that has been opened using the open() function. This is important because it frees up system resources and ensures that any changes made to the file are saved."
   ]
  },
  {
   "cell_type": "code",
   "execution_count": 22,
   "id": "c299e46f-87cb-4ddc-9e5a-49769455f2e8",
   "metadata": {},
   "outputs": [],
   "source": [
    "workFile.close()\n",
    "\n",
    "#The workFile.close() statement is used to close the file object workFile that was opened using the open() function."
   ]
  },
  {
   "cell_type": "markdown",
   "id": "747a8764-398e-49fd-ae83-addb5a3b121b",
   "metadata": {},
   "source": [
    "//TASK"
   ]
  },
  {
   "cell_type": "code",
   "execution_count": 24,
   "id": "4f543996-608b-4c7a-a609-10891215d4a3",
   "metadata": {},
   "outputs": [],
   "source": [
    "#Open\n",
    "\n",
    "workFile = open('Mapel.txt', 'r')"
   ]
  },
  {
   "cell_type": "code",
   "execution_count": 25,
   "id": "fedb1878-e522-4359-83fe-116a733eb9d4",
   "metadata": {},
   "outputs": [],
   "source": [
    "workFileContents = workFile.read()"
   ]
  },
  {
   "cell_type": "code",
   "execution_count": 26,
   "id": "b6eb5165-a187-4cd2-8a96-7ecc822802b2",
   "metadata": {},
   "outputs": [
    {
     "name": "stdout",
     "output_type": "stream",
     "text": [
      "Matematika, IPA, IPS\n",
      "Nilai MTK 98\n",
      "Nilai IPA 89\n",
      "Nilai IPS 100\n"
     ]
    }
   ],
   "source": [
    "print(workFileContents)"
   ]
  },
  {
   "cell_type": "code",
   "execution_count": 27,
   "id": "ca1b1081-36a1-484a-be7b-8ed5157459e0",
   "metadata": {},
   "outputs": [],
   "source": [
    "#Read\n",
    "\n",
    "workFile = open('Mapel.txt', 'r')"
   ]
  },
  {
   "cell_type": "code",
   "execution_count": 28,
   "id": "313d54b8-b11c-4c48-ba3f-5bc20a19b61a",
   "metadata": {},
   "outputs": [],
   "source": [
    "workFileFirstLine = workFile.readline()"
   ]
  },
  {
   "cell_type": "code",
   "execution_count": 29,
   "id": "2753f6b8-15f0-4477-9922-84ad81068fde",
   "metadata": {},
   "outputs": [
    {
     "name": "stdout",
     "output_type": "stream",
     "text": [
      "Matematika, IPA, IPS\n",
      "\n"
     ]
    }
   ],
   "source": [
    "print(workFileFirstLine)"
   ]
  },
  {
   "cell_type": "code",
   "execution_count": 30,
   "id": "a6e90e76-f0d0-4c69-8c47-bf76acc173be",
   "metadata": {},
   "outputs": [],
   "source": [
    "workFileSecondLine = workFile.readline()"
   ]
  },
  {
   "cell_type": "code",
   "execution_count": 31,
   "id": "2f0297ef-10a6-46b5-9445-8e9001733707",
   "metadata": {},
   "outputs": [
    {
     "name": "stdout",
     "output_type": "stream",
     "text": [
      "Nilai MTK 98\n",
      "\n"
     ]
    }
   ],
   "source": [
    "print(workFileSecondLine)"
   ]
  },
  {
   "cell_type": "code",
   "execution_count": 32,
   "id": "8c0ee04e-cc86-44c3-af58-dffa7517a473",
   "metadata": {},
   "outputs": [],
   "source": [
    "#close\n",
    "\n",
    "workFile.close()"
   ]
  }
 ],
 "metadata": {
  "kernelspec": {
   "display_name": "Python 3 (ipykernel)",
   "language": "python",
   "name": "python3"
  },
  "language_info": {
   "codemirror_mode": {
    "name": "ipython",
    "version": 3
   },
   "file_extension": ".py",
   "mimetype": "text/x-python",
   "name": "python",
   "nbconvert_exporter": "python",
   "pygments_lexer": "ipython3",
   "version": "3.11.7"
  }
 },
 "nbformat": 4,
 "nbformat_minor": 5
}
